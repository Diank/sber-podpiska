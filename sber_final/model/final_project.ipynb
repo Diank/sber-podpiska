{
 "cells": [
  {
   "cell_type": "markdown",
   "id": "ef6279de-901d-462b-8d56-e4c9ce9d6e51",
   "metadata": {
    "jp-MarkdownHeadingCollapsed": true,
    "tags": []
   },
   "source": [
    "# Задача"
   ]
  },
  {
   "cell_type": "markdown",
   "id": "9bb50d85-d728-4180-9bed-815e470cfb1c",
   "metadata": {
    "tags": []
   },
   "source": [
    "**ML:**\n",
    "\n",
    "– Научитесь предсказывать совершение целевого действия\n",
    "(ориентировочное значение ROC-AUC ~ 0.65) — факт совершения\n",
    "пользователем целевого действия.\n",
    "\n",
    "– Упакуйте получившуюся модель в сервис, который будет брать на\n",
    "вход все атрибуты, типа utm_*, device_*, geo_*, и отдавать на выход\n",
    "0/1 (1 — если пользователь совершит любое целевое действие)."
   ]
  },
  {
   "cell_type": "markdown",
   "id": "5077b6ad-2622-4a2b-8f94-a0f05eea27ee",
   "metadata": {},
   "source": [
    "\n",
    "\n",
    "\n",
    "**Целевое действие** — события типа «Оставить заявку» и «Заказать звонок»"
   ]
  },
  {
   "cell_type": "markdown",
   "id": "f670badb-f918-4d93-a00b-42aa1b79a338",
   "metadata": {
    "tags": []
   },
   "source": [
    "(ga_hits.event_action in [\n",
    "    'sub_car_claim_click', \n",
    "    'sub_car_claim_submit_click',\n",
    "    'sub_open_dialog_click', \n",
    "    'sub_custom_question_submit_click',\n",
    "    'sub_call_number_click', \n",
    "    'sub_callback_submit_click',\n",
    "    'sub_submit_success',\n",
    "    'sub_car_request_submit_click'\n",
    "])"
   ]
  },
  {
   "cell_type": "markdown",
   "id": "f076711d-d700-4ee6-9d44-a00b03f7098f",
   "metadata": {},
   "source": [
    "**CR (Conversion Rate)** — показатель конверсии из визита (уникальный\n",
    "session_id) в любое целевое действие в рамках одного визита (в случае\n",
    "наличия >1 целевого действия — считать все как одно).\n",
    "\n",
    "**Органический трафик** — все визиты с:"
   ]
  },
  {
   "cell_type": "markdown",
   "id": "861b2968-df8b-4e13-b973-1c770461cd3b",
   "metadata": {},
   "source": [
    "ga_sessions.utm_medium in (\n",
    "    'organic',\n",
    "    'referral',\n",
    "    '(none)'\n",
    ")"
   ]
  },
  {
   "cell_type": "markdown",
   "id": "71d94068-dc06-4de7-8489-d052de5c151c",
   "metadata": {},
   "source": [
    "**Платный трафик** — весь неорганический трафик.\n",
    "\n",
    "**Информация про марку и модель авто** — содержится в ga_hits.hit_page_path.\n",
    "\n",
    "**Реклама в социальных сетях** — все визиты с ga_sessions.utm_source in\n",
    "('QxAxdyPLuQMEcrdZWdWb', 'MvfHsxITijuriZxsqZqt', 'ISrKoXQCxqqYvAZICvjs',\n",
    "IZEXUFLARCUMynmHNBGo', 'PlbkrSYoHuZBWfYjYnfw',\n",
    "'gVRrcxiDQubJiljoTbGm')."
   ]
  },
  {
   "cell_type": "raw",
   "id": "c1b304d8-c336-47d4-8e46-91b24ec561e3",
   "metadata": {},
   "source": [
    "GA Sessions (ga_sessions.pkl) \n",
    "Одна строка = один визит на сайт.\n",
    "\n",
    "Описание атрибутов:\n",
    "~ session_id — ID визита;\n",
    "~ client_id — ID посетителя;\n",
    "~ visit_date — дата визита;\n",
    "~ visit_time — время визита;\n",
    "~ visit_number — порядковый номер визита клиента;\n",
    "~ utm_source — канал привлечения;\n",
    "~ utm_medium — тип привлечения;\n",
    "~ utm_campaign — рекламная кампания;\n",
    "~ utm_keyword — ключевое слово;\n",
    "~ device_category — тип устройства;\n",
    "~ device_os — ОС устройства;\n",
    "~ device_brand — марка устройства;\n",
    "~ device_model — модель устройства;\n",
    "~ device_screen_resolution — разрешение экрана;\n",
    "~ device_screen_resolution — разрешение экрана;\n",
    "~ device_browser — браузер;\n",
    "~ geo_country — страна;\n",
    "~ geo_city — городv"
   ]
  },
  {
   "cell_type": "raw",
   "id": "ec0e82c2-22dc-4a43-99eb-bc555c375637",
   "metadata": {},
   "source": [
    "GA Hits (ga_hits.pkl)\n",
    "Одна строка = одно событие в рамках одного визита на сайтv\n",
    "\n",
    "Описание атрибутов:\n",
    "~ session_id — ID визита;\n",
    "~ hit_date — дата события;\n",
    "~ hit_time — время события;\n",
    "~ hit_number — порядковый номер события в рамках сессии;\n",
    "~ hit_type — тип события;\n",
    "~ hit_referer — источник события;\n",
    "~ hit_page_path — страница события;\n",
    "~ event_category — тип действия;\n",
    "~ event_action — действие;\n",
    "~ event_label — тег действия;\n",
    "~ event_value — значение результата действияv"
   ]
  },
  {
   "cell_type": "markdown",
   "id": "301dd115-b664-4624-949d-a826eb691a62",
   "metadata": {},
   "source": [
    "# Решение"
   ]
  },
  {
   "cell_type": "markdown",
   "id": "519fb0fc-73d9-4de7-9674-55f52868ffa2",
   "metadata": {
    "jp-MarkdownHeadingCollapsed": true,
    "tags": []
   },
   "source": [
    "## Импортируем необходимые пакеты"
   ]
  },
  {
   "cell_type": "code",
   "execution_count": 1,
   "id": "d09b0d12-1128-4908-998c-944982f845e9",
   "metadata": {
    "tags": []
   },
   "outputs": [],
   "source": [
    "import pandas as pd\n",
    "import numpy as np\n",
    "import math\n",
    "import requests\n",
    "import json\n",
    "import datetime\n",
    "import missingno as msno\n",
    "import country_converter as coco\n",
    "import matplotlib.pyplot as plt\n",
    "from matplotlib.ticker import FormatStrFormatter\n",
    "import geopy\n",
    "from geopy.geocoders import Nominatim\n",
    "\n",
    "from sklearn.preprocessing import StandardScaler, OneHotEncoder\n",
    "from sklearn.linear_model import LogisticRegression\n",
    "from sklearn.metrics import accuracy_score, confusion_matrix, mean_absolute_error, roc_auc_score\n",
    "from sklearn.model_selection import train_test_split, GridSearchCV, cross_val_score\n",
    "from sklearn.ensemble import RandomForestClassifier\n",
    "from sklearn.neural_network import MLPClassifier\n",
    "\n",
    "import pickle"
   ]
  },
  {
   "cell_type": "markdown",
   "id": "52339094-4c8b-4acb-a387-d3d52fe7717f",
   "metadata": {
    "jp-MarkdownHeadingCollapsed": true,
    "tags": []
   },
   "source": [
    "## Считываем данные в датафреймы"
   ]
  },
  {
   "cell_type": "code",
   "execution_count": 2,
   "id": "9f41b866-1f4d-4ce6-a613-eec49eced1e8",
   "metadata": {
    "tags": []
   },
   "outputs": [
    {
     "data": {
      "text/html": [
       "<div>\n",
       "<style scoped>\n",
       "    .dataframe tbody tr th:only-of-type {\n",
       "        vertical-align: middle;\n",
       "    }\n",
       "\n",
       "    .dataframe tbody tr th {\n",
       "        vertical-align: top;\n",
       "    }\n",
       "\n",
       "    .dataframe thead th {\n",
       "        text-align: right;\n",
       "    }\n",
       "</style>\n",
       "<table border=\"1\" class=\"dataframe\">\n",
       "  <thead>\n",
       "    <tr style=\"text-align: right;\">\n",
       "      <th></th>\n",
       "      <th>session_id</th>\n",
       "      <th>client_id</th>\n",
       "      <th>visit_date</th>\n",
       "      <th>visit_time</th>\n",
       "      <th>visit_number</th>\n",
       "      <th>utm_source</th>\n",
       "      <th>utm_medium</th>\n",
       "      <th>utm_campaign</th>\n",
       "      <th>utm_adcontent</th>\n",
       "      <th>utm_keyword</th>\n",
       "      <th>device_category</th>\n",
       "      <th>device_os</th>\n",
       "      <th>device_brand</th>\n",
       "      <th>device_model</th>\n",
       "      <th>device_screen_resolution</th>\n",
       "      <th>device_browser</th>\n",
       "      <th>geo_country</th>\n",
       "      <th>geo_city</th>\n",
       "    </tr>\n",
       "  </thead>\n",
       "  <tbody>\n",
       "    <tr>\n",
       "      <th>0</th>\n",
       "      <td>9055434745589932991.1637753792.1637753792</td>\n",
       "      <td>2108382700.1637753791</td>\n",
       "      <td>2021-11-24</td>\n",
       "      <td>14:36:32</td>\n",
       "      <td>1</td>\n",
       "      <td>ZpYIoDJMcFzVoPFsHGJL</td>\n",
       "      <td>banner</td>\n",
       "      <td>LEoPHuyFvzoNfnzGgfcd</td>\n",
       "      <td>vCIpmpaGBnIQhyYNkXqp</td>\n",
       "      <td>puhZPIYqKXeFPaUviSjo</td>\n",
       "      <td>mobile</td>\n",
       "      <td>Android</td>\n",
       "      <td>Huawei</td>\n",
       "      <td>NaN</td>\n",
       "      <td>360x720</td>\n",
       "      <td>Chrome</td>\n",
       "      <td>Russia</td>\n",
       "      <td>Zlatoust</td>\n",
       "    </tr>\n",
       "    <tr>\n",
       "      <th>1</th>\n",
       "      <td>905544597018549464.1636867290.1636867290</td>\n",
       "      <td>210838531.1636867288</td>\n",
       "      <td>2021-11-14</td>\n",
       "      <td>08:21:30</td>\n",
       "      <td>1</td>\n",
       "      <td>MvfHsxITijuriZxsqZqt</td>\n",
       "      <td>cpm</td>\n",
       "      <td>FTjNLDyTrXaWYgZymFkV</td>\n",
       "      <td>xhoenQgDQsgfEPYNPwKO</td>\n",
       "      <td>IGUCNvHlhfHpROGclCit</td>\n",
       "      <td>mobile</td>\n",
       "      <td>Android</td>\n",
       "      <td>Samsung</td>\n",
       "      <td>NaN</td>\n",
       "      <td>385x854</td>\n",
       "      <td>Samsung Internet</td>\n",
       "      <td>Russia</td>\n",
       "      <td>Moscow</td>\n",
       "    </tr>\n",
       "    <tr>\n",
       "      <th>2</th>\n",
       "      <td>9055446045651783499.1640648526.1640648526</td>\n",
       "      <td>2108385331.1640648523</td>\n",
       "      <td>2021-12-28</td>\n",
       "      <td>02:42:06</td>\n",
       "      <td>1</td>\n",
       "      <td>ZpYIoDJMcFzVoPFsHGJL</td>\n",
       "      <td>banner</td>\n",
       "      <td>LEoPHuyFvzoNfnzGgfcd</td>\n",
       "      <td>vCIpmpaGBnIQhyYNkXqp</td>\n",
       "      <td>puhZPIYqKXeFPaUviSjo</td>\n",
       "      <td>mobile</td>\n",
       "      <td>Android</td>\n",
       "      <td>Huawei</td>\n",
       "      <td>NaN</td>\n",
       "      <td>360x720</td>\n",
       "      <td>Chrome</td>\n",
       "      <td>Russia</td>\n",
       "      <td>Krasnoyarsk</td>\n",
       "    </tr>\n",
       "    <tr>\n",
       "      <th>3</th>\n",
       "      <td>9055447046360770272.1622255328.1622255328</td>\n",
       "      <td>2108385564.1622255328</td>\n",
       "      <td>2021-05-29</td>\n",
       "      <td>05:00:00</td>\n",
       "      <td>1</td>\n",
       "      <td>kjsLglQLzykiRbcDiGcD</td>\n",
       "      <td>cpc</td>\n",
       "      <td>NaN</td>\n",
       "      <td>NOBKLgtuvqYWkXQHeYWM</td>\n",
       "      <td>NaN</td>\n",
       "      <td>mobile</td>\n",
       "      <td>NaN</td>\n",
       "      <td>Xiaomi</td>\n",
       "      <td>NaN</td>\n",
       "      <td>393x786</td>\n",
       "      <td>Chrome</td>\n",
       "      <td>Russia</td>\n",
       "      <td>Moscow</td>\n",
       "    </tr>\n",
       "    <tr>\n",
       "      <th>4</th>\n",
       "      <td>9055447046360770272.1622255345.1622255345</td>\n",
       "      <td>2108385564.1622255328</td>\n",
       "      <td>2021-05-29</td>\n",
       "      <td>05:00:00</td>\n",
       "      <td>2</td>\n",
       "      <td>kjsLglQLzykiRbcDiGcD</td>\n",
       "      <td>cpc</td>\n",
       "      <td>NaN</td>\n",
       "      <td>NaN</td>\n",
       "      <td>NaN</td>\n",
       "      <td>mobile</td>\n",
       "      <td>NaN</td>\n",
       "      <td>Xiaomi</td>\n",
       "      <td>NaN</td>\n",
       "      <td>393x786</td>\n",
       "      <td>Chrome</td>\n",
       "      <td>Russia</td>\n",
       "      <td>Moscow</td>\n",
       "    </tr>\n",
       "  </tbody>\n",
       "</table>\n",
       "</div>"
      ],
      "text/plain": [
       "                                  session_id              client_id  \\\n",
       "0  9055434745589932991.1637753792.1637753792  2108382700.1637753791   \n",
       "1   905544597018549464.1636867290.1636867290   210838531.1636867288   \n",
       "2  9055446045651783499.1640648526.1640648526  2108385331.1640648523   \n",
       "3  9055447046360770272.1622255328.1622255328  2108385564.1622255328   \n",
       "4  9055447046360770272.1622255345.1622255345  2108385564.1622255328   \n",
       "\n",
       "   visit_date visit_time  visit_number            utm_source utm_medium  \\\n",
       "0  2021-11-24   14:36:32             1  ZpYIoDJMcFzVoPFsHGJL     banner   \n",
       "1  2021-11-14   08:21:30             1  MvfHsxITijuriZxsqZqt        cpm   \n",
       "2  2021-12-28   02:42:06             1  ZpYIoDJMcFzVoPFsHGJL     banner   \n",
       "3  2021-05-29   05:00:00             1  kjsLglQLzykiRbcDiGcD        cpc   \n",
       "4  2021-05-29   05:00:00             2  kjsLglQLzykiRbcDiGcD        cpc   \n",
       "\n",
       "           utm_campaign         utm_adcontent           utm_keyword  \\\n",
       "0  LEoPHuyFvzoNfnzGgfcd  vCIpmpaGBnIQhyYNkXqp  puhZPIYqKXeFPaUviSjo   \n",
       "1  FTjNLDyTrXaWYgZymFkV  xhoenQgDQsgfEPYNPwKO  IGUCNvHlhfHpROGclCit   \n",
       "2  LEoPHuyFvzoNfnzGgfcd  vCIpmpaGBnIQhyYNkXqp  puhZPIYqKXeFPaUviSjo   \n",
       "3                   NaN  NOBKLgtuvqYWkXQHeYWM                   NaN   \n",
       "4                   NaN                   NaN                   NaN   \n",
       "\n",
       "  device_category device_os device_brand device_model  \\\n",
       "0          mobile   Android       Huawei          NaN   \n",
       "1          mobile   Android      Samsung          NaN   \n",
       "2          mobile   Android       Huawei          NaN   \n",
       "3          mobile       NaN       Xiaomi          NaN   \n",
       "4          mobile       NaN       Xiaomi          NaN   \n",
       "\n",
       "  device_screen_resolution    device_browser geo_country     geo_city  \n",
       "0                  360x720            Chrome      Russia     Zlatoust  \n",
       "1                  385x854  Samsung Internet      Russia       Moscow  \n",
       "2                  360x720            Chrome      Russia  Krasnoyarsk  \n",
       "3                  393x786            Chrome      Russia       Moscow  \n",
       "4                  393x786            Chrome      Russia       Moscow  "
      ]
     },
     "execution_count": 2,
     "metadata": {},
     "output_type": "execute_result"
    }
   ],
   "source": [
    "df_sessions = pd.read_csv('data/ga_sessions.csv', dtype = {'client_id': 'object'})\n",
    "df_sessions.head()"
   ]
  },
  {
   "cell_type": "code",
   "execution_count": 3,
   "id": "8b7e2fe0-b35e-41b5-86cd-c876e5530caf",
   "metadata": {
    "tags": []
   },
   "outputs": [
    {
     "data": {
      "text/html": [
       "<div>\n",
       "<style scoped>\n",
       "    .dataframe tbody tr th:only-of-type {\n",
       "        vertical-align: middle;\n",
       "    }\n",
       "\n",
       "    .dataframe tbody tr th {\n",
       "        vertical-align: top;\n",
       "    }\n",
       "\n",
       "    .dataframe thead th {\n",
       "        text-align: right;\n",
       "    }\n",
       "</style>\n",
       "<table border=\"1\" class=\"dataframe\">\n",
       "  <thead>\n",
       "    <tr style=\"text-align: right;\">\n",
       "      <th></th>\n",
       "      <th>session_id</th>\n",
       "      <th>hit_date</th>\n",
       "      <th>hit_time</th>\n",
       "      <th>hit_number</th>\n",
       "      <th>hit_type</th>\n",
       "      <th>hit_referer</th>\n",
       "      <th>hit_page_path</th>\n",
       "      <th>event_category</th>\n",
       "      <th>event_action</th>\n",
       "      <th>event_label</th>\n",
       "      <th>event_value</th>\n",
       "    </tr>\n",
       "  </thead>\n",
       "  <tbody>\n",
       "    <tr>\n",
       "      <th>0</th>\n",
       "      <td>5639623078712724064.1640254056.1640254056</td>\n",
       "      <td>2021-12-23</td>\n",
       "      <td>597864.0</td>\n",
       "      <td>30</td>\n",
       "      <td>event</td>\n",
       "      <td>NaN</td>\n",
       "      <td>sberauto.com/cars?utm_source_initial=google&amp;ut...</td>\n",
       "      <td>quiz</td>\n",
       "      <td>quiz_show</td>\n",
       "      <td>NaN</td>\n",
       "      <td>NaN</td>\n",
       "    </tr>\n",
       "    <tr>\n",
       "      <th>1</th>\n",
       "      <td>7750352294969115059.1640271109.1640271109</td>\n",
       "      <td>2021-12-23</td>\n",
       "      <td>597331.0</td>\n",
       "      <td>41</td>\n",
       "      <td>event</td>\n",
       "      <td>NaN</td>\n",
       "      <td>sberauto.com/cars/fiat?city=1&amp;city=18&amp;rental_c...</td>\n",
       "      <td>quiz</td>\n",
       "      <td>quiz_show</td>\n",
       "      <td>NaN</td>\n",
       "      <td>NaN</td>\n",
       "    </tr>\n",
       "    <tr>\n",
       "      <th>2</th>\n",
       "      <td>885342191847998240.1640235807.1640235807</td>\n",
       "      <td>2021-12-23</td>\n",
       "      <td>796252.0</td>\n",
       "      <td>49</td>\n",
       "      <td>event</td>\n",
       "      <td>NaN</td>\n",
       "      <td>sberauto.com/cars/all/volkswagen/polo/e994838f...</td>\n",
       "      <td>quiz</td>\n",
       "      <td>quiz_show</td>\n",
       "      <td>NaN</td>\n",
       "      <td>NaN</td>\n",
       "    </tr>\n",
       "    <tr>\n",
       "      <th>3</th>\n",
       "      <td>142526202120934167.1640211014.1640211014</td>\n",
       "      <td>2021-12-23</td>\n",
       "      <td>934292.0</td>\n",
       "      <td>46</td>\n",
       "      <td>event</td>\n",
       "      <td>NaN</td>\n",
       "      <td>sberauto.com/cars?utm_source_initial=yandex&amp;ut...</td>\n",
       "      <td>quiz</td>\n",
       "      <td>quiz_show</td>\n",
       "      <td>NaN</td>\n",
       "      <td>NaN</td>\n",
       "    </tr>\n",
       "    <tr>\n",
       "      <th>4</th>\n",
       "      <td>3450086108837475701.1640265078.1640265078</td>\n",
       "      <td>2021-12-23</td>\n",
       "      <td>768741.0</td>\n",
       "      <td>79</td>\n",
       "      <td>event</td>\n",
       "      <td>NaN</td>\n",
       "      <td>sberauto.com/cars/all/mercedes-benz/cla-klasse...</td>\n",
       "      <td>quiz</td>\n",
       "      <td>quiz_show</td>\n",
       "      <td>NaN</td>\n",
       "      <td>NaN</td>\n",
       "    </tr>\n",
       "  </tbody>\n",
       "</table>\n",
       "</div>"
      ],
      "text/plain": [
       "                                  session_id    hit_date  hit_time  \\\n",
       "0  5639623078712724064.1640254056.1640254056  2021-12-23  597864.0   \n",
       "1  7750352294969115059.1640271109.1640271109  2021-12-23  597331.0   \n",
       "2   885342191847998240.1640235807.1640235807  2021-12-23  796252.0   \n",
       "3   142526202120934167.1640211014.1640211014  2021-12-23  934292.0   \n",
       "4  3450086108837475701.1640265078.1640265078  2021-12-23  768741.0   \n",
       "\n",
       "   hit_number hit_type hit_referer  \\\n",
       "0          30    event         NaN   \n",
       "1          41    event         NaN   \n",
       "2          49    event         NaN   \n",
       "3          46    event         NaN   \n",
       "4          79    event         NaN   \n",
       "\n",
       "                                       hit_page_path event_category  \\\n",
       "0  sberauto.com/cars?utm_source_initial=google&ut...           quiz   \n",
       "1  sberauto.com/cars/fiat?city=1&city=18&rental_c...           quiz   \n",
       "2  sberauto.com/cars/all/volkswagen/polo/e994838f...           quiz   \n",
       "3  sberauto.com/cars?utm_source_initial=yandex&ut...           quiz   \n",
       "4  sberauto.com/cars/all/mercedes-benz/cla-klasse...           quiz   \n",
       "\n",
       "  event_action event_label  event_value  \n",
       "0    quiz_show         NaN          NaN  \n",
       "1    quiz_show         NaN          NaN  \n",
       "2    quiz_show         NaN          NaN  \n",
       "3    quiz_show         NaN          NaN  \n",
       "4    quiz_show         NaN          NaN  "
      ]
     },
     "execution_count": 3,
     "metadata": {},
     "output_type": "execute_result"
    }
   ],
   "source": [
    "df_hits = pd.read_csv('data/ga_hits.csv')\n",
    "df_hits.head()"
   ]
  },
  {
   "cell_type": "markdown",
   "id": "feed260a-8da3-4d68-a23e-5ffc8386dc85",
   "metadata": {
    "jp-MarkdownHeadingCollapsed": true,
    "tags": []
   },
   "source": [
    "## EDA"
   ]
  },
  {
   "cell_type": "markdown",
   "id": "b815b147-e015-4d02-a8e3-7661db36db39",
   "metadata": {
    "jp-MarkdownHeadingCollapsed": true,
    "tags": []
   },
   "source": [
    "### Очистка данных"
   ]
  },
  {
   "cell_type": "code",
   "execution_count": 702,
   "id": "2bffba25-7747-457d-a3e2-ed68cba5b5f8",
   "metadata": {
    "tags": []
   },
   "outputs": [
    {
     "data": {
      "text/plain": [
       "(1860042, 18)"
      ]
     },
     "execution_count": 702,
     "metadata": {},
     "output_type": "execute_result"
    }
   ],
   "source": [
    "df_sessions.shape"
   ]
  },
  {
   "cell_type": "code",
   "execution_count": 703,
   "id": "e6cb9f64-4dd2-43be-b724-836a5b9e3f97",
   "metadata": {
    "tags": []
   },
   "outputs": [
    {
     "data": {
      "text/html": [
       "<div>\n",
       "<style scoped>\n",
       "    .dataframe tbody tr th:only-of-type {\n",
       "        vertical-align: middle;\n",
       "    }\n",
       "\n",
       "    .dataframe tbody tr th {\n",
       "        vertical-align: top;\n",
       "    }\n",
       "\n",
       "    .dataframe thead th {\n",
       "        text-align: right;\n",
       "    }\n",
       "</style>\n",
       "<table border=\"1\" class=\"dataframe\">\n",
       "  <thead>\n",
       "    <tr style=\"text-align: right;\">\n",
       "      <th></th>\n",
       "      <th>session_id</th>\n",
       "      <th>client_id</th>\n",
       "      <th>visit_date</th>\n",
       "      <th>visit_time</th>\n",
       "      <th>visit_number</th>\n",
       "      <th>utm_source</th>\n",
       "      <th>utm_medium</th>\n",
       "      <th>utm_campaign</th>\n",
       "      <th>utm_adcontent</th>\n",
       "      <th>utm_keyword</th>\n",
       "      <th>device_category</th>\n",
       "      <th>device_os</th>\n",
       "      <th>device_brand</th>\n",
       "      <th>device_model</th>\n",
       "      <th>device_screen_resolution</th>\n",
       "      <th>device_browser</th>\n",
       "      <th>geo_country</th>\n",
       "      <th>geo_city</th>\n",
       "    </tr>\n",
       "  </thead>\n",
       "  <tbody>\n",
       "    <tr>\n",
       "      <th>0</th>\n",
       "      <td>9055434745589932991.1637753792.1637753792</td>\n",
       "      <td>2108382700.1637753791</td>\n",
       "      <td>2021-11-24</td>\n",
       "      <td>14:36:32</td>\n",
       "      <td>1</td>\n",
       "      <td>ZpYIoDJMcFzVoPFsHGJL</td>\n",
       "      <td>banner</td>\n",
       "      <td>LEoPHuyFvzoNfnzGgfcd</td>\n",
       "      <td>vCIpmpaGBnIQhyYNkXqp</td>\n",
       "      <td>puhZPIYqKXeFPaUviSjo</td>\n",
       "      <td>mobile</td>\n",
       "      <td>Android</td>\n",
       "      <td>Huawei</td>\n",
       "      <td>NaN</td>\n",
       "      <td>360x720</td>\n",
       "      <td>Chrome</td>\n",
       "      <td>Russia</td>\n",
       "      <td>Zlatoust</td>\n",
       "    </tr>\n",
       "    <tr>\n",
       "      <th>1</th>\n",
       "      <td>905544597018549464.1636867290.1636867290</td>\n",
       "      <td>210838531.1636867288</td>\n",
       "      <td>2021-11-14</td>\n",
       "      <td>08:21:30</td>\n",
       "      <td>1</td>\n",
       "      <td>MvfHsxITijuriZxsqZqt</td>\n",
       "      <td>cpm</td>\n",
       "      <td>FTjNLDyTrXaWYgZymFkV</td>\n",
       "      <td>xhoenQgDQsgfEPYNPwKO</td>\n",
       "      <td>IGUCNvHlhfHpROGclCit</td>\n",
       "      <td>mobile</td>\n",
       "      <td>Android</td>\n",
       "      <td>Samsung</td>\n",
       "      <td>NaN</td>\n",
       "      <td>385x854</td>\n",
       "      <td>Samsung Internet</td>\n",
       "      <td>Russia</td>\n",
       "      <td>Moscow</td>\n",
       "    </tr>\n",
       "    <tr>\n",
       "      <th>2</th>\n",
       "      <td>9055446045651783499.1640648526.1640648526</td>\n",
       "      <td>2108385331.1640648523</td>\n",
       "      <td>2021-12-28</td>\n",
       "      <td>02:42:06</td>\n",
       "      <td>1</td>\n",
       "      <td>ZpYIoDJMcFzVoPFsHGJL</td>\n",
       "      <td>banner</td>\n",
       "      <td>LEoPHuyFvzoNfnzGgfcd</td>\n",
       "      <td>vCIpmpaGBnIQhyYNkXqp</td>\n",
       "      <td>puhZPIYqKXeFPaUviSjo</td>\n",
       "      <td>mobile</td>\n",
       "      <td>Android</td>\n",
       "      <td>Huawei</td>\n",
       "      <td>NaN</td>\n",
       "      <td>360x720</td>\n",
       "      <td>Chrome</td>\n",
       "      <td>Russia</td>\n",
       "      <td>Krasnoyarsk</td>\n",
       "    </tr>\n",
       "    <tr>\n",
       "      <th>3</th>\n",
       "      <td>9055447046360770272.1622255328.1622255328</td>\n",
       "      <td>2108385564.1622255328</td>\n",
       "      <td>2021-05-29</td>\n",
       "      <td>05:00:00</td>\n",
       "      <td>1</td>\n",
       "      <td>kjsLglQLzykiRbcDiGcD</td>\n",
       "      <td>cpc</td>\n",
       "      <td>NaN</td>\n",
       "      <td>NOBKLgtuvqYWkXQHeYWM</td>\n",
       "      <td>NaN</td>\n",
       "      <td>mobile</td>\n",
       "      <td>NaN</td>\n",
       "      <td>Xiaomi</td>\n",
       "      <td>NaN</td>\n",
       "      <td>393x786</td>\n",
       "      <td>Chrome</td>\n",
       "      <td>Russia</td>\n",
       "      <td>Moscow</td>\n",
       "    </tr>\n",
       "    <tr>\n",
       "      <th>4</th>\n",
       "      <td>9055447046360770272.1622255345.1622255345</td>\n",
       "      <td>2108385564.1622255328</td>\n",
       "      <td>2021-05-29</td>\n",
       "      <td>05:00:00</td>\n",
       "      <td>2</td>\n",
       "      <td>kjsLglQLzykiRbcDiGcD</td>\n",
       "      <td>cpc</td>\n",
       "      <td>NaN</td>\n",
       "      <td>NaN</td>\n",
       "      <td>NaN</td>\n",
       "      <td>mobile</td>\n",
       "      <td>NaN</td>\n",
       "      <td>Xiaomi</td>\n",
       "      <td>NaN</td>\n",
       "      <td>393x786</td>\n",
       "      <td>Chrome</td>\n",
       "      <td>Russia</td>\n",
       "      <td>Moscow</td>\n",
       "    </tr>\n",
       "  </tbody>\n",
       "</table>\n",
       "</div>"
      ],
      "text/plain": [
       "                                  session_id              client_id  \\\n",
       "0  9055434745589932991.1637753792.1637753792  2108382700.1637753791   \n",
       "1   905544597018549464.1636867290.1636867290   210838531.1636867288   \n",
       "2  9055446045651783499.1640648526.1640648526  2108385331.1640648523   \n",
       "3  9055447046360770272.1622255328.1622255328  2108385564.1622255328   \n",
       "4  9055447046360770272.1622255345.1622255345  2108385564.1622255328   \n",
       "\n",
       "   visit_date visit_time  visit_number            utm_source utm_medium  \\\n",
       "0  2021-11-24   14:36:32             1  ZpYIoDJMcFzVoPFsHGJL     banner   \n",
       "1  2021-11-14   08:21:30             1  MvfHsxITijuriZxsqZqt        cpm   \n",
       "2  2021-12-28   02:42:06             1  ZpYIoDJMcFzVoPFsHGJL     banner   \n",
       "3  2021-05-29   05:00:00             1  kjsLglQLzykiRbcDiGcD        cpc   \n",
       "4  2021-05-29   05:00:00             2  kjsLglQLzykiRbcDiGcD        cpc   \n",
       "\n",
       "           utm_campaign         utm_adcontent           utm_keyword  \\\n",
       "0  LEoPHuyFvzoNfnzGgfcd  vCIpmpaGBnIQhyYNkXqp  puhZPIYqKXeFPaUviSjo   \n",
       "1  FTjNLDyTrXaWYgZymFkV  xhoenQgDQsgfEPYNPwKO  IGUCNvHlhfHpROGclCit   \n",
       "2  LEoPHuyFvzoNfnzGgfcd  vCIpmpaGBnIQhyYNkXqp  puhZPIYqKXeFPaUviSjo   \n",
       "3                   NaN  NOBKLgtuvqYWkXQHeYWM                   NaN   \n",
       "4                   NaN                   NaN                   NaN   \n",
       "\n",
       "  device_category device_os device_brand device_model  \\\n",
       "0          mobile   Android       Huawei          NaN   \n",
       "1          mobile   Android      Samsung          NaN   \n",
       "2          mobile   Android       Huawei          NaN   \n",
       "3          mobile       NaN       Xiaomi          NaN   \n",
       "4          mobile       NaN       Xiaomi          NaN   \n",
       "\n",
       "  device_screen_resolution    device_browser geo_country     geo_city  \n",
       "0                  360x720            Chrome      Russia     Zlatoust  \n",
       "1                  385x854  Samsung Internet      Russia       Moscow  \n",
       "2                  360x720            Chrome      Russia  Krasnoyarsk  \n",
       "3                  393x786            Chrome      Russia       Moscow  \n",
       "4                  393x786            Chrome      Russia       Moscow  "
      ]
     },
     "execution_count": 703,
     "metadata": {},
     "output_type": "execute_result"
    }
   ],
   "source": [
    "df_sessions.head()"
   ]
  },
  {
   "cell_type": "code",
   "execution_count": 704,
   "id": "3b6f3c1c-3630-4b3d-bd13-1a7d24d31712",
   "metadata": {
    "tags": []
   },
   "outputs": [
    {
     "name": "stdout",
     "output_type": "stream",
     "text": [
      "<class 'pandas.core.frame.DataFrame'>\n",
      "RangeIndex: 1860042 entries, 0 to 1860041\n",
      "Data columns (total 18 columns):\n",
      " #   Column                    Dtype \n",
      "---  ------                    ----- \n",
      " 0   session_id                object\n",
      " 1   client_id                 object\n",
      " 2   visit_date                object\n",
      " 3   visit_time                object\n",
      " 4   visit_number              int64 \n",
      " 5   utm_source                object\n",
      " 6   utm_medium                object\n",
      " 7   utm_campaign              object\n",
      " 8   utm_adcontent             object\n",
      " 9   utm_keyword               object\n",
      " 10  device_category           object\n",
      " 11  device_os                 object\n",
      " 12  device_brand              object\n",
      " 13  device_model              object\n",
      " 14  device_screen_resolution  object\n",
      " 15  device_browser            object\n",
      " 16  geo_country               object\n",
      " 17  geo_city                  object\n",
      "dtypes: int64(1), object(17)\n",
      "memory usage: 255.4+ MB\n"
     ]
    }
   ],
   "source": [
    "df_sessions.info()"
   ]
  },
  {
   "cell_type": "code",
   "execution_count": 705,
   "id": "d2d5eb3d-3ba0-4b5d-9664-7242e5061dcf",
   "metadata": {
    "tags": []
   },
   "outputs": [
    {
     "data": {
      "text/plain": [
       "session_id                   0.000000\n",
       "device_browser               0.000000\n",
       "device_screen_resolution     0.000000\n",
       "device_category              0.000000\n",
       "geo_country                  0.000000\n",
       "utm_medium                   0.000000\n",
       "geo_city                     0.000000\n",
       "visit_number                 0.000000\n",
       "visit_time                   0.000000\n",
       "visit_date                   0.000000\n",
       "client_id                    0.000000\n",
       "utm_source                   0.005215\n",
       "utm_campaign                11.806346\n",
       "utm_adcontent               18.043410\n",
       "device_brand                19.740307\n",
       "device_os                   57.533002\n",
       "utm_keyword                 58.174009\n",
       "device_model                99.121633\n",
       "dtype: float64"
      ]
     },
     "execution_count": 705,
     "metadata": {},
     "output_type": "execute_result"
    }
   ],
   "source": [
    "# смотрим процент пропущенных значений в каждой колонке\n",
    "missing_values_sessions = (df_sessions.isna().sum() / len(df_sessions) * 100).sort_values()\n",
    "missing_values_sessions"
   ]
  },
  {
   "cell_type": "code",
   "execution_count": 706,
   "id": "38fb6ad5-fe44-4373-9b13-839eec12d2b6",
   "metadata": {},
   "outputs": [],
   "source": [
    "# 'visit_number' - порядковый номер визита клиента удаляем\n",
    "df_sessions = df_sessions.drop('visit_number', axis=1)"
   ]
  },
  {
   "cell_type": "code",
   "execution_count": 707,
   "id": "54aed6ee-6332-47aa-8049-7546b3d151e1",
   "metadata": {
    "tags": []
   },
   "outputs": [
    {
     "name": "stdout",
     "output_type": "stream",
     "text": [
      "<class 'pandas.core.frame.DataFrame'>\n",
      "RangeIndex: 15726470 entries, 0 to 15726469\n",
      "Data columns (total 11 columns):\n",
      " #   Column          Dtype  \n",
      "---  ------          -----  \n",
      " 0   session_id      object \n",
      " 1   hit_date        object \n",
      " 2   hit_time        float64\n",
      " 3   hit_number      int64  \n",
      " 4   hit_type        object \n",
      " 5   hit_referer     object \n",
      " 6   hit_page_path   object \n",
      " 7   event_category  object \n",
      " 8   event_action    object \n",
      " 9   event_label     object \n",
      " 10  event_value     float64\n",
      "dtypes: float64(2), int64(1), object(8)\n",
      "memory usage: 1.3+ GB\n"
     ]
    }
   ],
   "source": [
    "df_hits.info()"
   ]
  },
  {
   "cell_type": "code",
   "execution_count": 708,
   "id": "b6f1be0e-6477-4d2e-8d03-9a22d2c5d1da",
   "metadata": {
    "tags": []
   },
   "outputs": [
    {
     "data": {
      "text/plain": [
       "(15726470, 11)"
      ]
     },
     "execution_count": 708,
     "metadata": {},
     "output_type": "execute_result"
    }
   ],
   "source": [
    "df_hits.shape"
   ]
  },
  {
   "cell_type": "code",
   "execution_count": 709,
   "id": "38b055ec-cc7d-43ee-80dc-268324f4f7fd",
   "metadata": {
    "tags": []
   },
   "outputs": [
    {
     "data": {
      "text/html": [
       "<div>\n",
       "<style scoped>\n",
       "    .dataframe tbody tr th:only-of-type {\n",
       "        vertical-align: middle;\n",
       "    }\n",
       "\n",
       "    .dataframe tbody tr th {\n",
       "        vertical-align: top;\n",
       "    }\n",
       "\n",
       "    .dataframe thead th {\n",
       "        text-align: right;\n",
       "    }\n",
       "</style>\n",
       "<table border=\"1\" class=\"dataframe\">\n",
       "  <thead>\n",
       "    <tr style=\"text-align: right;\">\n",
       "      <th></th>\n",
       "      <th>session_id</th>\n",
       "      <th>hit_date</th>\n",
       "      <th>hit_time</th>\n",
       "      <th>hit_number</th>\n",
       "      <th>hit_type</th>\n",
       "      <th>hit_referer</th>\n",
       "      <th>hit_page_path</th>\n",
       "      <th>event_category</th>\n",
       "      <th>event_action</th>\n",
       "      <th>event_label</th>\n",
       "      <th>event_value</th>\n",
       "    </tr>\n",
       "  </thead>\n",
       "  <tbody>\n",
       "    <tr>\n",
       "      <th>0</th>\n",
       "      <td>5639623078712724064.1640254056.1640254056</td>\n",
       "      <td>2021-12-23</td>\n",
       "      <td>597864.0</td>\n",
       "      <td>30</td>\n",
       "      <td>event</td>\n",
       "      <td>NaN</td>\n",
       "      <td>sberauto.com/cars?utm_source_initial=google&amp;ut...</td>\n",
       "      <td>quiz</td>\n",
       "      <td>quiz_show</td>\n",
       "      <td>NaN</td>\n",
       "      <td>NaN</td>\n",
       "    </tr>\n",
       "    <tr>\n",
       "      <th>1</th>\n",
       "      <td>7750352294969115059.1640271109.1640271109</td>\n",
       "      <td>2021-12-23</td>\n",
       "      <td>597331.0</td>\n",
       "      <td>41</td>\n",
       "      <td>event</td>\n",
       "      <td>NaN</td>\n",
       "      <td>sberauto.com/cars/fiat?city=1&amp;city=18&amp;rental_c...</td>\n",
       "      <td>quiz</td>\n",
       "      <td>quiz_show</td>\n",
       "      <td>NaN</td>\n",
       "      <td>NaN</td>\n",
       "    </tr>\n",
       "    <tr>\n",
       "      <th>2</th>\n",
       "      <td>885342191847998240.1640235807.1640235807</td>\n",
       "      <td>2021-12-23</td>\n",
       "      <td>796252.0</td>\n",
       "      <td>49</td>\n",
       "      <td>event</td>\n",
       "      <td>NaN</td>\n",
       "      <td>sberauto.com/cars/all/volkswagen/polo/e994838f...</td>\n",
       "      <td>quiz</td>\n",
       "      <td>quiz_show</td>\n",
       "      <td>NaN</td>\n",
       "      <td>NaN</td>\n",
       "    </tr>\n",
       "    <tr>\n",
       "      <th>3</th>\n",
       "      <td>142526202120934167.1640211014.1640211014</td>\n",
       "      <td>2021-12-23</td>\n",
       "      <td>934292.0</td>\n",
       "      <td>46</td>\n",
       "      <td>event</td>\n",
       "      <td>NaN</td>\n",
       "      <td>sberauto.com/cars?utm_source_initial=yandex&amp;ut...</td>\n",
       "      <td>quiz</td>\n",
       "      <td>quiz_show</td>\n",
       "      <td>NaN</td>\n",
       "      <td>NaN</td>\n",
       "    </tr>\n",
       "    <tr>\n",
       "      <th>4</th>\n",
       "      <td>3450086108837475701.1640265078.1640265078</td>\n",
       "      <td>2021-12-23</td>\n",
       "      <td>768741.0</td>\n",
       "      <td>79</td>\n",
       "      <td>event</td>\n",
       "      <td>NaN</td>\n",
       "      <td>sberauto.com/cars/all/mercedes-benz/cla-klasse...</td>\n",
       "      <td>quiz</td>\n",
       "      <td>quiz_show</td>\n",
       "      <td>NaN</td>\n",
       "      <td>NaN</td>\n",
       "    </tr>\n",
       "  </tbody>\n",
       "</table>\n",
       "</div>"
      ],
      "text/plain": [
       "                                  session_id    hit_date  hit_time  \\\n",
       "0  5639623078712724064.1640254056.1640254056  2021-12-23  597864.0   \n",
       "1  7750352294969115059.1640271109.1640271109  2021-12-23  597331.0   \n",
       "2   885342191847998240.1640235807.1640235807  2021-12-23  796252.0   \n",
       "3   142526202120934167.1640211014.1640211014  2021-12-23  934292.0   \n",
       "4  3450086108837475701.1640265078.1640265078  2021-12-23  768741.0   \n",
       "\n",
       "   hit_number hit_type hit_referer  \\\n",
       "0          30    event         NaN   \n",
       "1          41    event         NaN   \n",
       "2          49    event         NaN   \n",
       "3          46    event         NaN   \n",
       "4          79    event         NaN   \n",
       "\n",
       "                                       hit_page_path event_category  \\\n",
       "0  sberauto.com/cars?utm_source_initial=google&ut...           quiz   \n",
       "1  sberauto.com/cars/fiat?city=1&city=18&rental_c...           quiz   \n",
       "2  sberauto.com/cars/all/volkswagen/polo/e994838f...           quiz   \n",
       "3  sberauto.com/cars?utm_source_initial=yandex&ut...           quiz   \n",
       "4  sberauto.com/cars/all/mercedes-benz/cla-klasse...           quiz   \n",
       "\n",
       "  event_action event_label  event_value  \n",
       "0    quiz_show         NaN          NaN  \n",
       "1    quiz_show         NaN          NaN  \n",
       "2    quiz_show         NaN          NaN  \n",
       "3    quiz_show         NaN          NaN  \n",
       "4    quiz_show         NaN          NaN  "
      ]
     },
     "execution_count": 709,
     "metadata": {},
     "output_type": "execute_result"
    }
   ],
   "source": [
    "df_hits.head()"
   ]
  },
  {
   "cell_type": "code",
   "execution_count": 710,
   "id": "d3a94900-5dd1-4f85-902b-863fcba156bf",
   "metadata": {
    "tags": []
   },
   "outputs": [
    {
     "data": {
      "text/plain": [
       "session_id          0.000000\n",
       "hit_date            0.000000\n",
       "hit_number          0.000000\n",
       "hit_type            0.000000\n",
       "hit_page_path       0.000000\n",
       "event_category      0.000000\n",
       "event_action        0.000000\n",
       "event_label        23.909905\n",
       "hit_referer        39.899634\n",
       "hit_time           58.247795\n",
       "event_value       100.000000\n",
       "dtype: float64"
      ]
     },
     "execution_count": 710,
     "metadata": {},
     "output_type": "execute_result"
    }
   ],
   "source": [
    "# смотрим процент пропущенных значений в каждой колонке\n",
    "missing_values_hits = (df_hits.isna().sum() / len(df_hits) * 100).sort_values()\n",
    "missing_values_hits"
   ]
  },
  {
   "cell_type": "code",
   "execution_count": 711,
   "id": "9aa56ca5-96c6-4036-8ff9-418515c6d309",
   "metadata": {
    "tags": []
   },
   "outputs": [
    {
     "data": {
      "text/plain": [
       "event_value\n",
       "0    15621562\n",
       "1      104908\n",
       "Name: count, dtype: int64"
      ]
     },
     "execution_count": 711,
     "metadata": {},
     "output_type": "execute_result"
    }
   ],
   "source": [
    "# целевую переменную переводим в числовой формат \n",
    "df_hits.event_value = df_hits.event_action.apply(lambda x: 1 if ((x == 'sub_car_claim_click') |\n",
    "                                                                           (x == 'sub_car_claim_submit_click') |\n",
    "                                                                           (x == 'sub_open_dialog_click') |\n",
    "                                                                           (x == 'sub_custom_question_submit_click') |\n",
    "                                                                           (x == 'sub_call_number_click') |\n",
    "                                                                           (x == 'sub_callback_submit_click') |\n",
    "                                                                           (x == 'sub_submit_success') |\n",
    "                                                                           (x == 'sub_car_request_submit_click')) else 0)\n",
    "df_hits.event_value.value_counts().sort_values(ascending=False)"
   ]
  },
  {
   "cell_type": "code",
   "execution_count": 712,
   "id": "1392f809-0983-49cb-bcc3-275ae80b857f",
   "metadata": {},
   "outputs": [],
   "source": [
    "# выборка не сбалансирована"
   ]
  },
  {
   "cell_type": "code",
   "execution_count": 719,
   "id": "8901390b-05b6-4d3b-bc31-1ea4367c3f63",
   "metadata": {
    "collapsed": true,
    "jupyter": {
     "outputs_hidden": true
    },
    "tags": []
   },
   "outputs": [
    {
     "data": {
      "text/html": [
       "<div>\n",
       "<style scoped>\n",
       "    .dataframe tbody tr th:only-of-type {\n",
       "        vertical-align: middle;\n",
       "    }\n",
       "\n",
       "    .dataframe tbody tr th {\n",
       "        vertical-align: top;\n",
       "    }\n",
       "\n",
       "    .dataframe thead th {\n",
       "        text-align: right;\n",
       "    }\n",
       "</style>\n",
       "<table border=\"1\" class=\"dataframe\">\n",
       "  <thead>\n",
       "    <tr style=\"text-align: right;\">\n",
       "      <th></th>\n",
       "      <th>event_category</th>\n",
       "      <th>event_value</th>\n",
       "    </tr>\n",
       "  </thead>\n",
       "  <tbody>\n",
       "    <tr>\n",
       "      <th>46</th>\n",
       "      <td>sub_button_click</td>\n",
       "      <td>86469</td>\n",
       "    </tr>\n",
       "    <tr>\n",
       "      <th>48</th>\n",
       "      <td>sub_submit</td>\n",
       "      <td>18439</td>\n",
       "    </tr>\n",
       "    <tr>\n",
       "      <th>0</th>\n",
       "      <td>active_invitation</td>\n",
       "      <td>0</td>\n",
       "    </tr>\n",
       "    <tr>\n",
       "      <th>38</th>\n",
       "      <td>phone</td>\n",
       "      <td>0</td>\n",
       "    </tr>\n",
       "    <tr>\n",
       "      <th>28</th>\n",
       "      <td>greenday_sub_submit</td>\n",
       "      <td>0</td>\n",
       "    </tr>\n",
       "    <tr>\n",
       "      <th>29</th>\n",
       "      <td>header</td>\n",
       "      <td>0</td>\n",
       "    </tr>\n",
       "    <tr>\n",
       "      <th>30</th>\n",
       "      <td>jivosite</td>\n",
       "      <td>0</td>\n",
       "    </tr>\n",
       "    <tr>\n",
       "      <th>31</th>\n",
       "      <td>listing_ads</td>\n",
       "      <td>0</td>\n",
       "    </tr>\n",
       "    <tr>\n",
       "      <th>32</th>\n",
       "      <td>main_advantages</td>\n",
       "      <td>0</td>\n",
       "    </tr>\n",
       "    <tr>\n",
       "      <th>33</th>\n",
       "      <td>main_banners</td>\n",
       "      <td>0</td>\n",
       "    </tr>\n",
       "    <tr>\n",
       "      <th>34</th>\n",
       "      <td>main_services</td>\n",
       "      <td>0</td>\n",
       "    </tr>\n",
       "    <tr>\n",
       "      <th>35</th>\n",
       "      <td>my_idea</td>\n",
       "      <td>0</td>\n",
       "    </tr>\n",
       "    <tr>\n",
       "      <th>36</th>\n",
       "      <td>navigation</td>\n",
       "      <td>0</td>\n",
       "    </tr>\n",
       "    <tr>\n",
       "      <th>37</th>\n",
       "      <td>offers</td>\n",
       "      <td>0</td>\n",
       "    </tr>\n",
       "    <tr>\n",
       "      <th>39</th>\n",
       "      <td>pos_landing</td>\n",
       "      <td>0</td>\n",
       "    </tr>\n",
       "    <tr>\n",
       "      <th>1</th>\n",
       "      <td>ad_banner</td>\n",
       "      <td>0</td>\n",
       "    </tr>\n",
       "    <tr>\n",
       "      <th>40</th>\n",
       "      <td>profile_menu</td>\n",
       "      <td>0</td>\n",
       "    </tr>\n",
       "    <tr>\n",
       "      <th>41</th>\n",
       "      <td>quiz</td>\n",
       "      <td>0</td>\n",
       "    </tr>\n",
       "    <tr>\n",
       "      <th>42</th>\n",
       "      <td>sap_search__form</td>\n",
       "      <td>0</td>\n",
       "    </tr>\n",
       "    <tr>\n",
       "      <th>43</th>\n",
       "      <td>sap_search_form</td>\n",
       "      <td>0</td>\n",
       "    </tr>\n",
       "    <tr>\n",
       "      <th>44</th>\n",
       "      <td>scrolling_main_page</td>\n",
       "      <td>0</td>\n",
       "    </tr>\n",
       "    <tr>\n",
       "      <th>45</th>\n",
       "      <td>search_form</td>\n",
       "      <td>0</td>\n",
       "    </tr>\n",
       "    <tr>\n",
       "      <th>47</th>\n",
       "      <td>sub_page_view</td>\n",
       "      <td>0</td>\n",
       "    </tr>\n",
       "    <tr>\n",
       "      <th>49</th>\n",
       "      <td>tesla</td>\n",
       "      <td>0</td>\n",
       "    </tr>\n",
       "    <tr>\n",
       "      <th>50</th>\n",
       "      <td>titul_form</td>\n",
       "      <td>0</td>\n",
       "    </tr>\n",
       "    <tr>\n",
       "      <th>27</th>\n",
       "      <td>greenday_sub_page_view</td>\n",
       "      <td>0</td>\n",
       "    </tr>\n",
       "    <tr>\n",
       "      <th>26</th>\n",
       "      <td>greenday_sub_button_click</td>\n",
       "      <td>0</td>\n",
       "    </tr>\n",
       "    <tr>\n",
       "      <th>25</th>\n",
       "      <td>greenday_listing_ads</td>\n",
       "      <td>0</td>\n",
       "    </tr>\n",
       "    <tr>\n",
       "      <th>12</th>\n",
       "      <td>add_ad_publish_success</td>\n",
       "      <td>0</td>\n",
       "    </tr>\n",
       "    <tr>\n",
       "      <th>2</th>\n",
       "      <td>add_ad</td>\n",
       "      <td>0</td>\n",
       "    </tr>\n",
       "    <tr>\n",
       "      <th>3</th>\n",
       "      <td>add_ad_additional_information</td>\n",
       "      <td>0</td>\n",
       "    </tr>\n",
       "    <tr>\n",
       "      <th>4</th>\n",
       "      <td>add_ad_city</td>\n",
       "      <td>0</td>\n",
       "    </tr>\n",
       "    <tr>\n",
       "      <th>5</th>\n",
       "      <td>add_ad_description</td>\n",
       "      <td>0</td>\n",
       "    </tr>\n",
       "    <tr>\n",
       "      <th>6</th>\n",
       "      <td>add_ad_documents</td>\n",
       "      <td>0</td>\n",
       "    </tr>\n",
       "    <tr>\n",
       "      <th>7</th>\n",
       "      <td>add_ad_form</td>\n",
       "      <td>0</td>\n",
       "    </tr>\n",
       "    <tr>\n",
       "      <th>8</th>\n",
       "      <td>add_ad_options</td>\n",
       "      <td>0</td>\n",
       "    </tr>\n",
       "    <tr>\n",
       "      <th>9</th>\n",
       "      <td>add_ad_photo</td>\n",
       "      <td>0</td>\n",
       "    </tr>\n",
       "    <tr>\n",
       "      <th>10</th>\n",
       "      <td>add_ad_preview</td>\n",
       "      <td>0</td>\n",
       "    </tr>\n",
       "    <tr>\n",
       "      <th>11</th>\n",
       "      <td>add_ad_price</td>\n",
       "      <td>0</td>\n",
       "    </tr>\n",
       "    <tr>\n",
       "      <th>13</th>\n",
       "      <td>add_ad_vin</td>\n",
       "      <td>0</td>\n",
       "    </tr>\n",
       "    <tr>\n",
       "      <th>24</th>\n",
       "      <td>greenday_gtm.triggergroup</td>\n",
       "      <td>0</td>\n",
       "    </tr>\n",
       "    <tr>\n",
       "      <th>14</th>\n",
       "      <td>app_banner</td>\n",
       "      <td>0</td>\n",
       "    </tr>\n",
       "    <tr>\n",
       "      <th>15</th>\n",
       "      <td>auth</td>\n",
       "      <td>0</td>\n",
       "    </tr>\n",
       "    <tr>\n",
       "      <th>16</th>\n",
       "      <td>card_web</td>\n",
       "      <td>0</td>\n",
       "    </tr>\n",
       "    <tr>\n",
       "      <th>17</th>\n",
       "      <td>cars</td>\n",
       "      <td>0</td>\n",
       "    </tr>\n",
       "    <tr>\n",
       "      <th>18</th>\n",
       "      <td>category_tile</td>\n",
       "      <td>0</td>\n",
       "    </tr>\n",
       "    <tr>\n",
       "      <th>19</th>\n",
       "      <td>chat</td>\n",
       "      <td>0</td>\n",
       "    </tr>\n",
       "    <tr>\n",
       "      <th>20</th>\n",
       "      <td>credit_buttons</td>\n",
       "      <td>0</td>\n",
       "    </tr>\n",
       "    <tr>\n",
       "      <th>21</th>\n",
       "      <td>credit_landing_pos</td>\n",
       "      <td>0</td>\n",
       "    </tr>\n",
       "    <tr>\n",
       "      <th>22</th>\n",
       "      <td>footer</td>\n",
       "      <td>0</td>\n",
       "    </tr>\n",
       "    <tr>\n",
       "      <th>23</th>\n",
       "      <td>greenday_card_web</td>\n",
       "      <td>0</td>\n",
       "    </tr>\n",
       "    <tr>\n",
       "      <th>51</th>\n",
       "      <td>wallet</td>\n",
       "      <td>0</td>\n",
       "    </tr>\n",
       "  </tbody>\n",
       "</table>\n",
       "</div>"
      ],
      "text/plain": [
       "                   event_category  event_value\n",
       "46               sub_button_click        86469\n",
       "48                     sub_submit        18439\n",
       "0               active_invitation            0\n",
       "38                          phone            0\n",
       "28            greenday_sub_submit            0\n",
       "29                         header            0\n",
       "30                       jivosite            0\n",
       "31                    listing_ads            0\n",
       "32                main_advantages            0\n",
       "33                   main_banners            0\n",
       "34                  main_services            0\n",
       "35                        my_idea            0\n",
       "36                     navigation            0\n",
       "37                         offers            0\n",
       "39                    pos_landing            0\n",
       "1                       ad_banner            0\n",
       "40                   profile_menu            0\n",
       "41                           quiz            0\n",
       "42               sap_search__form            0\n",
       "43                sap_search_form            0\n",
       "44            scrolling_main_page            0\n",
       "45                    search_form            0\n",
       "47                  sub_page_view            0\n",
       "49                          tesla            0\n",
       "50                     titul_form            0\n",
       "27         greenday_sub_page_view            0\n",
       "26      greenday_sub_button_click            0\n",
       "25           greenday_listing_ads            0\n",
       "12         add_ad_publish_success            0\n",
       "2                          add_ad            0\n",
       "3   add_ad_additional_information            0\n",
       "4                     add_ad_city            0\n",
       "5              add_ad_description            0\n",
       "6                add_ad_documents            0\n",
       "7                     add_ad_form            0\n",
       "8                  add_ad_options            0\n",
       "9                    add_ad_photo            0\n",
       "10                 add_ad_preview            0\n",
       "11                   add_ad_price            0\n",
       "13                     add_ad_vin            0\n",
       "24      greenday_gtm.triggergroup            0\n",
       "14                     app_banner            0\n",
       "15                           auth            0\n",
       "16                       card_web            0\n",
       "17                           cars            0\n",
       "18                  category_tile            0\n",
       "19                           chat            0\n",
       "20                 credit_buttons            0\n",
       "21             credit_landing_pos            0\n",
       "22                         footer            0\n",
       "23              greenday_card_web            0\n",
       "51                         wallet            0"
      ]
     },
     "execution_count": 719,
     "metadata": {},
     "output_type": "execute_result"
    }
   ],
   "source": [
    "stats = df_hits.groupby(['event_category'], as_index=False).agg(\n",
    "    {'event_value': 'sum'}).sort_values(ascending=False, by = 'event_value')\n",
    "stats \n",
    "\n",
    "# видим, что целевые действия принадлежат 2ум категориям sub_button_click и sub_submit"
   ]
  },
  {
   "cell_type": "code",
   "execution_count": 754,
   "id": "6fe7354a-26ef-46e5-8f0f-d65c1508f84c",
   "metadata": {
    "tags": []
   },
   "outputs": [
    {
     "data": {
      "text/plain": [
       "event_category    event_value\n",
       "sub_button_click  0              987002\n",
       "                  1               86469\n",
       "sub_submit        1               18439\n",
       "                  0                  56\n",
       "Name: count, dtype: int64"
      ]
     },
     "execution_count": 754,
     "metadata": {},
     "output_type": "execute_result"
    }
   ],
   "source": [
    "df_hits[(df_hits['event_category'] == 'sub_button_click') | \n",
    "        (df_hits['event_category'] == 'sub_submit')].loc[:, ['event_category', 'event_value']].value_counts()\n",
    "\n",
    "# в этих категориях не только целевые действия"
   ]
  },
  {
   "cell_type": "code",
   "execution_count": 773,
   "id": "858f4f77-96b0-4203-bbeb-d8c6bd78741b",
   "metadata": {
    "tags": []
   },
   "outputs": [
    {
     "data": {
      "text/plain": [
       "0.9987290834400998"
      ]
     },
     "execution_count": 773,
     "metadata": {},
     "output_type": "execute_result"
    }
   ],
   "source": [
    "# вычисляем тетрахорическую корреляцию - используется для расчета корреляции между бинарными категориальными переменными\n",
    "\n",
    "tetrachoric_correlation = math.cos(np.pi / (1 + math.sqrt(987002 * 18439 / 56 / 86469)))\n",
    "tetrachoric_correlation\n",
    "\n",
    "# сильная положительная корреляция, поэтому удалим event_category"
   ]
  },
  {
   "cell_type": "code",
   "execution_count": null,
   "id": "8b12884f-7651-41df-bd0f-609e76906ae5",
   "metadata": {},
   "outputs": [],
   "source": [
    "# удалим hit_time, hit_referer и event_label так как там больше 20% пропущенных значений\n",
    "# а также hit_page_path - url доп информация оттуда не потребуется \n",
    "# event_category, event_action - больше не нужны - удалим\n",
    "# hit_type - одно уникальное значение во всем дф\n",
    "df_hits = df_hits.drop(['hit_time', 'hit_type', 'hit_referer', 'hit_page_path', 'event_label', 'event_category', 'event_action'], axis=1)"
   ]
  },
  {
   "cell_type": "code",
   "execution_count": 474,
   "id": "2fbc4ec2-9dc6-4d1c-a9d8-44520fe7a379",
   "metadata": {
    "tags": []
   },
   "outputs": [
    {
     "data": {
      "text/html": [
       "<div>\n",
       "<style scoped>\n",
       "    .dataframe tbody tr th:only-of-type {\n",
       "        vertical-align: middle;\n",
       "    }\n",
       "\n",
       "    .dataframe tbody tr th {\n",
       "        vertical-align: top;\n",
       "    }\n",
       "\n",
       "    .dataframe thead th {\n",
       "        text-align: right;\n",
       "    }\n",
       "</style>\n",
       "<table border=\"1\" class=\"dataframe\">\n",
       "  <thead>\n",
       "    <tr style=\"text-align: right;\">\n",
       "      <th></th>\n",
       "      <th>session_id</th>\n",
       "      <th>hit_date</th>\n",
       "      <th>hit_number</th>\n",
       "      <th>event_value</th>\n",
       "    </tr>\n",
       "  </thead>\n",
       "  <tbody>\n",
       "    <tr>\n",
       "      <th>0</th>\n",
       "      <td>1000009318903347362.1632663668.1632663668</td>\n",
       "      <td>2021-09-26</td>\n",
       "      <td>9.200000</td>\n",
       "      <td>0</td>\n",
       "    </tr>\n",
       "    <tr>\n",
       "      <th>1</th>\n",
       "      <td>1000010177899156286.1635013443.1635013443</td>\n",
       "      <td>2021-10-23</td>\n",
       "      <td>7.333333</td>\n",
       "      <td>0</td>\n",
       "    </tr>\n",
       "    <tr>\n",
       "      <th>2</th>\n",
       "      <td>1000013386240115915.1635402956.1635402956</td>\n",
       "      <td>2021-10-28</td>\n",
       "      <td>9.909091</td>\n",
       "      <td>0</td>\n",
       "    </tr>\n",
       "    <tr>\n",
       "      <th>3</th>\n",
       "      <td>1000017303238376207.1623489300.1623489300</td>\n",
       "      <td>2021-06-12</td>\n",
       "      <td>11.000000</td>\n",
       "      <td>0</td>\n",
       "    </tr>\n",
       "    <tr>\n",
       "      <th>4</th>\n",
       "      <td>1000020580299877109.1624943350.1624943350</td>\n",
       "      <td>2021-06-29</td>\n",
       "      <td>3.000000</td>\n",
       "      <td>0</td>\n",
       "    </tr>\n",
       "  </tbody>\n",
       "</table>\n",
       "</div>"
      ],
      "text/plain": [
       "                                  session_id    hit_date  hit_number  \\\n",
       "0  1000009318903347362.1632663668.1632663668  2021-09-26    9.200000   \n",
       "1  1000010177899156286.1635013443.1635013443  2021-10-23    7.333333   \n",
       "2  1000013386240115915.1635402956.1635402956  2021-10-28    9.909091   \n",
       "3  1000017303238376207.1623489300.1623489300  2021-06-12   11.000000   \n",
       "4  1000020580299877109.1624943350.1624943350  2021-06-29    3.000000   \n",
       "\n",
       "   event_value  \n",
       "0            0  \n",
       "1            0  \n",
       "2            0  \n",
       "3            0  \n",
       "4            0  "
      ]
     },
     "execution_count": 474,
     "metadata": {},
     "output_type": "execute_result"
    }
   ],
   "source": [
    "# сгруппируем дф по session_id\n",
    "stats = df_hits.groupby(['session_id'], as_index=False).agg({'hit_date': 'first',  # берем первую дату\n",
    "                                                            'hit_number': 'mean',  # средний порядковый номер события в рамках сессии\n",
    "                                                            'event_value': 'max'})  # 1 если совершено целевое действие\n",
    "stats.head()\n",
    "\n",
    "# пока берем средний hit_number так как есть предположение, что \n",
    "# чем больше хитов тем больше вероятность того что оставят заявку"
   ]
  },
  {
   "cell_type": "code",
   "execution_count": 475,
   "id": "f5113b7e-4c2d-402b-b5e3-4a0e8f5bd6f3",
   "metadata": {
    "tags": []
   },
   "outputs": [],
   "source": [
    "df_hits = stats.copy() # копируем сгруппированный дф "
   ]
  },
  {
   "cell_type": "code",
   "execution_count": 476,
   "id": "f1bc167c-e7d8-413b-a1fa-2aa66f98186a",
   "metadata": {
    "tags": []
   },
   "outputs": [
    {
     "data": {
      "text/plain": [
       "session_id     0.0\n",
       "hit_date       0.0\n",
       "hit_number     0.0\n",
       "event_value    0.0\n",
       "dtype: float64"
      ]
     },
     "execution_count": 476,
     "metadata": {},
     "output_type": "execute_result"
    }
   ],
   "source": [
    "# проверяем, что осталось\n",
    "missing_values_hits = (df_hits.isna().sum() / len(df_hits) * 100).sort_values()\n",
    "missing_values_hits"
   ]
  },
  {
   "cell_type": "code",
   "execution_count": 477,
   "id": "82cd6e34-798a-4bf7-b805-00d976bd83fa",
   "metadata": {
    "tags": []
   },
   "outputs": [
    {
     "data": {
      "text/html": [
       "<div>\n",
       "<style scoped>\n",
       "    .dataframe tbody tr th:only-of-type {\n",
       "        vertical-align: middle;\n",
       "    }\n",
       "\n",
       "    .dataframe tbody tr th {\n",
       "        vertical-align: top;\n",
       "    }\n",
       "\n",
       "    .dataframe thead th {\n",
       "        text-align: right;\n",
       "    }\n",
       "</style>\n",
       "<table border=\"1\" class=\"dataframe\">\n",
       "  <thead>\n",
       "    <tr style=\"text-align: right;\">\n",
       "      <th></th>\n",
       "      <th>session_id</th>\n",
       "      <th>hit_date</th>\n",
       "      <th>hit_number</th>\n",
       "      <th>event_value</th>\n",
       "    </tr>\n",
       "  </thead>\n",
       "  <tbody>\n",
       "    <tr>\n",
       "      <th>0</th>\n",
       "      <td>1000009318903347362.1632663668.1632663668</td>\n",
       "      <td>2021-09-26</td>\n",
       "      <td>9.200000</td>\n",
       "      <td>0</td>\n",
       "    </tr>\n",
       "    <tr>\n",
       "      <th>1</th>\n",
       "      <td>1000010177899156286.1635013443.1635013443</td>\n",
       "      <td>2021-10-23</td>\n",
       "      <td>7.333333</td>\n",
       "      <td>0</td>\n",
       "    </tr>\n",
       "    <tr>\n",
       "      <th>2</th>\n",
       "      <td>1000013386240115915.1635402956.1635402956</td>\n",
       "      <td>2021-10-28</td>\n",
       "      <td>9.909091</td>\n",
       "      <td>0</td>\n",
       "    </tr>\n",
       "    <tr>\n",
       "      <th>3</th>\n",
       "      <td>1000017303238376207.1623489300.1623489300</td>\n",
       "      <td>2021-06-12</td>\n",
       "      <td>11.000000</td>\n",
       "      <td>0</td>\n",
       "    </tr>\n",
       "    <tr>\n",
       "      <th>4</th>\n",
       "      <td>1000020580299877109.1624943350.1624943350</td>\n",
       "      <td>2021-06-29</td>\n",
       "      <td>3.000000</td>\n",
       "      <td>0</td>\n",
       "    </tr>\n",
       "  </tbody>\n",
       "</table>\n",
       "</div>"
      ],
      "text/plain": [
       "                                  session_id    hit_date  hit_number  \\\n",
       "0  1000009318903347362.1632663668.1632663668  2021-09-26    9.200000   \n",
       "1  1000010177899156286.1635013443.1635013443  2021-10-23    7.333333   \n",
       "2  1000013386240115915.1635402956.1635402956  2021-10-28    9.909091   \n",
       "3  1000017303238376207.1623489300.1623489300  2021-06-12   11.000000   \n",
       "4  1000020580299877109.1624943350.1624943350  2021-06-29    3.000000   \n",
       "\n",
       "   event_value  \n",
       "0            0  \n",
       "1            0  \n",
       "2            0  \n",
       "3            0  \n",
       "4            0  "
      ]
     },
     "execution_count": 477,
     "metadata": {},
     "output_type": "execute_result"
    }
   ],
   "source": [
    "df_hits.head()"
   ]
  },
  {
   "cell_type": "code",
   "execution_count": 478,
   "id": "41f56503-427e-46c7-8743-4a26b5892d20",
   "metadata": {
    "tags": []
   },
   "outputs": [
    {
     "data": {
      "text/plain": [
       "array([False])"
      ]
     },
     "execution_count": 478,
     "metadata": {},
     "output_type": "execute_result"
    }
   ],
   "source": [
    "df_sessions.duplicated().unique() #дублей нет"
   ]
  },
  {
   "cell_type": "code",
   "execution_count": 479,
   "id": "583b71c6-811c-43f4-9ce4-f274d2a27c96",
   "metadata": {
    "tags": []
   },
   "outputs": [
    {
     "data": {
      "text/plain": [
       "array([False])"
      ]
     },
     "execution_count": 479,
     "metadata": {},
     "output_type": "execute_result"
    }
   ],
   "source": [
    "df_hits.duplicated().unique()  #дублей нет"
   ]
  },
  {
   "cell_type": "code",
   "execution_count": 480,
   "id": "f8c771a2-4d2a-44dc-8aee-f8580565de06",
   "metadata": {
    "tags": []
   },
   "outputs": [],
   "source": [
    "#missing_values_sessions = (df_sessions.isna().sum() / len(df_sessions) * 100).sort_values()\n",
    "#missing_values_sessions"
   ]
  },
  {
   "cell_type": "code",
   "execution_count": 481,
   "id": "6c2833a1-6953-4406-b1dc-e94d1261f7cf",
   "metadata": {},
   "outputs": [
    {
     "data": {
      "text/html": [
       "<div>\n",
       "<style scoped>\n",
       "    .dataframe tbody tr th:only-of-type {\n",
       "        vertical-align: middle;\n",
       "    }\n",
       "\n",
       "    .dataframe tbody tr th {\n",
       "        vertical-align: top;\n",
       "    }\n",
       "\n",
       "    .dataframe thead th {\n",
       "        text-align: right;\n",
       "    }\n",
       "</style>\n",
       "<table border=\"1\" class=\"dataframe\">\n",
       "  <thead>\n",
       "    <tr style=\"text-align: right;\">\n",
       "      <th></th>\n",
       "      <th>session_id</th>\n",
       "      <th>client_id</th>\n",
       "      <th>visit_date</th>\n",
       "      <th>visit_time</th>\n",
       "      <th>utm_source</th>\n",
       "      <th>utm_medium</th>\n",
       "      <th>utm_campaign</th>\n",
       "      <th>utm_adcontent</th>\n",
       "      <th>utm_keyword</th>\n",
       "      <th>device_category</th>\n",
       "      <th>device_os</th>\n",
       "      <th>device_brand</th>\n",
       "      <th>device_model</th>\n",
       "      <th>device_screen_resolution</th>\n",
       "      <th>device_browser</th>\n",
       "      <th>geo_country</th>\n",
       "      <th>geo_city</th>\n",
       "      <th>hit_date</th>\n",
       "      <th>hit_number</th>\n",
       "      <th>event_value</th>\n",
       "    </tr>\n",
       "  </thead>\n",
       "  <tbody>\n",
       "    <tr>\n",
       "      <th>0</th>\n",
       "      <td>9055434745589932991.1637753792.1637753792</td>\n",
       "      <td>2108382700.1637753791</td>\n",
       "      <td>2021-11-24</td>\n",
       "      <td>14:36:32</td>\n",
       "      <td>ZpYIoDJMcFzVoPFsHGJL</td>\n",
       "      <td>banner</td>\n",
       "      <td>LEoPHuyFvzoNfnzGgfcd</td>\n",
       "      <td>vCIpmpaGBnIQhyYNkXqp</td>\n",
       "      <td>puhZPIYqKXeFPaUviSjo</td>\n",
       "      <td>mobile</td>\n",
       "      <td>Android</td>\n",
       "      <td>Huawei</td>\n",
       "      <td>NaN</td>\n",
       "      <td>360x720</td>\n",
       "      <td>Chrome</td>\n",
       "      <td>Russia</td>\n",
       "      <td>Zlatoust</td>\n",
       "      <td>2021-11-24</td>\n",
       "      <td>3.50</td>\n",
       "      <td>0</td>\n",
       "    </tr>\n",
       "    <tr>\n",
       "      <th>1</th>\n",
       "      <td>905544597018549464.1636867290.1636867290</td>\n",
       "      <td>210838531.1636867288</td>\n",
       "      <td>2021-11-14</td>\n",
       "      <td>08:21:30</td>\n",
       "      <td>MvfHsxITijuriZxsqZqt</td>\n",
       "      <td>cpm</td>\n",
       "      <td>FTjNLDyTrXaWYgZymFkV</td>\n",
       "      <td>xhoenQgDQsgfEPYNPwKO</td>\n",
       "      <td>IGUCNvHlhfHpROGclCit</td>\n",
       "      <td>mobile</td>\n",
       "      <td>Android</td>\n",
       "      <td>Samsung</td>\n",
       "      <td>NaN</td>\n",
       "      <td>385x854</td>\n",
       "      <td>Samsung Internet</td>\n",
       "      <td>Russia</td>\n",
       "      <td>Moscow</td>\n",
       "      <td>2021-11-14</td>\n",
       "      <td>3.00</td>\n",
       "      <td>0</td>\n",
       "    </tr>\n",
       "    <tr>\n",
       "      <th>2</th>\n",
       "      <td>9055446045651783499.1640648526.1640648526</td>\n",
       "      <td>2108385331.1640648523</td>\n",
       "      <td>2021-12-28</td>\n",
       "      <td>02:42:06</td>\n",
       "      <td>ZpYIoDJMcFzVoPFsHGJL</td>\n",
       "      <td>banner</td>\n",
       "      <td>LEoPHuyFvzoNfnzGgfcd</td>\n",
       "      <td>vCIpmpaGBnIQhyYNkXqp</td>\n",
       "      <td>puhZPIYqKXeFPaUviSjo</td>\n",
       "      <td>mobile</td>\n",
       "      <td>Android</td>\n",
       "      <td>Huawei</td>\n",
       "      <td>NaN</td>\n",
       "      <td>360x720</td>\n",
       "      <td>Chrome</td>\n",
       "      <td>Russia</td>\n",
       "      <td>Krasnoyarsk</td>\n",
       "      <td>2021-12-28</td>\n",
       "      <td>12.25</td>\n",
       "      <td>0</td>\n",
       "    </tr>\n",
       "    <tr>\n",
       "      <th>3</th>\n",
       "      <td>9055447046360770272.1622255328.1622255328</td>\n",
       "      <td>2108385564.1622255328</td>\n",
       "      <td>2021-05-29</td>\n",
       "      <td>05:00:00</td>\n",
       "      <td>kjsLglQLzykiRbcDiGcD</td>\n",
       "      <td>cpc</td>\n",
       "      <td>NaN</td>\n",
       "      <td>NOBKLgtuvqYWkXQHeYWM</td>\n",
       "      <td>NaN</td>\n",
       "      <td>mobile</td>\n",
       "      <td>NaN</td>\n",
       "      <td>Xiaomi</td>\n",
       "      <td>NaN</td>\n",
       "      <td>393x786</td>\n",
       "      <td>Chrome</td>\n",
       "      <td>Russia</td>\n",
       "      <td>Moscow</td>\n",
       "      <td>2021-05-29</td>\n",
       "      <td>5.00</td>\n",
       "      <td>0</td>\n",
       "    </tr>\n",
       "    <tr>\n",
       "      <th>4</th>\n",
       "      <td>9055447046360770272.1622255345.1622255345</td>\n",
       "      <td>2108385564.1622255328</td>\n",
       "      <td>2021-05-29</td>\n",
       "      <td>05:00:00</td>\n",
       "      <td>kjsLglQLzykiRbcDiGcD</td>\n",
       "      <td>cpc</td>\n",
       "      <td>NaN</td>\n",
       "      <td>NaN</td>\n",
       "      <td>NaN</td>\n",
       "      <td>mobile</td>\n",
       "      <td>NaN</td>\n",
       "      <td>Xiaomi</td>\n",
       "      <td>NaN</td>\n",
       "      <td>393x786</td>\n",
       "      <td>Chrome</td>\n",
       "      <td>Russia</td>\n",
       "      <td>Moscow</td>\n",
       "      <td>2021-05-29</td>\n",
       "      <td>2.50</td>\n",
       "      <td>0</td>\n",
       "    </tr>\n",
       "  </tbody>\n",
       "</table>\n",
       "</div>"
      ],
      "text/plain": [
       "                                  session_id              client_id  \\\n",
       "0  9055434745589932991.1637753792.1637753792  2108382700.1637753791   \n",
       "1   905544597018549464.1636867290.1636867290   210838531.1636867288   \n",
       "2  9055446045651783499.1640648526.1640648526  2108385331.1640648523   \n",
       "3  9055447046360770272.1622255328.1622255328  2108385564.1622255328   \n",
       "4  9055447046360770272.1622255345.1622255345  2108385564.1622255328   \n",
       "\n",
       "   visit_date visit_time            utm_source utm_medium  \\\n",
       "0  2021-11-24   14:36:32  ZpYIoDJMcFzVoPFsHGJL     banner   \n",
       "1  2021-11-14   08:21:30  MvfHsxITijuriZxsqZqt        cpm   \n",
       "2  2021-12-28   02:42:06  ZpYIoDJMcFzVoPFsHGJL     banner   \n",
       "3  2021-05-29   05:00:00  kjsLglQLzykiRbcDiGcD        cpc   \n",
       "4  2021-05-29   05:00:00  kjsLglQLzykiRbcDiGcD        cpc   \n",
       "\n",
       "           utm_campaign         utm_adcontent           utm_keyword  \\\n",
       "0  LEoPHuyFvzoNfnzGgfcd  vCIpmpaGBnIQhyYNkXqp  puhZPIYqKXeFPaUviSjo   \n",
       "1  FTjNLDyTrXaWYgZymFkV  xhoenQgDQsgfEPYNPwKO  IGUCNvHlhfHpROGclCit   \n",
       "2  LEoPHuyFvzoNfnzGgfcd  vCIpmpaGBnIQhyYNkXqp  puhZPIYqKXeFPaUviSjo   \n",
       "3                   NaN  NOBKLgtuvqYWkXQHeYWM                   NaN   \n",
       "4                   NaN                   NaN                   NaN   \n",
       "\n",
       "  device_category device_os device_brand device_model  \\\n",
       "0          mobile   Android       Huawei          NaN   \n",
       "1          mobile   Android      Samsung          NaN   \n",
       "2          mobile   Android       Huawei          NaN   \n",
       "3          mobile       NaN       Xiaomi          NaN   \n",
       "4          mobile       NaN       Xiaomi          NaN   \n",
       "\n",
       "  device_screen_resolution    device_browser geo_country     geo_city  \\\n",
       "0                  360x720            Chrome      Russia     Zlatoust   \n",
       "1                  385x854  Samsung Internet      Russia       Moscow   \n",
       "2                  360x720            Chrome      Russia  Krasnoyarsk   \n",
       "3                  393x786            Chrome      Russia       Moscow   \n",
       "4                  393x786            Chrome      Russia       Moscow   \n",
       "\n",
       "     hit_date  hit_number  event_value  \n",
       "0  2021-11-24        3.50            0  \n",
       "1  2021-11-14        3.00            0  \n",
       "2  2021-12-28       12.25            0  \n",
       "3  2021-05-29        5.00            0  \n",
       "4  2021-05-29        2.50            0  "
      ]
     },
     "execution_count": 481,
     "metadata": {},
     "output_type": "execute_result"
    }
   ],
   "source": [
    "# объединяем датафреймы \n",
    "df = pd.merge(df_sessions, df_hits, on='session_id')\n",
    "df.head()"
   ]
  },
  {
   "cell_type": "code",
   "execution_count": 482,
   "id": "d343bc3e-69ec-4077-8d64-f42c6ca64809",
   "metadata": {
    "tags": []
   },
   "outputs": [
    {
     "data": {
      "text/plain": [
       "(1732266, 20)"
      ]
     },
     "execution_count": 482,
     "metadata": {},
     "output_type": "execute_result"
    }
   ],
   "source": [
    "df.shape # размерность дф, с которым дальше будем работать"
   ]
  },
  {
   "cell_type": "code",
   "execution_count": 483,
   "id": "9318fd8e-e283-4322-80fd-c525dee222c1",
   "metadata": {
    "tags": []
   },
   "outputs": [
    {
     "name": "stdout",
     "output_type": "stream",
     "text": [
      "<class 'pandas.core.frame.DataFrame'>\n",
      "RangeIndex: 1732266 entries, 0 to 1732265\n",
      "Data columns (total 20 columns):\n",
      " #   Column                    Dtype  \n",
      "---  ------                    -----  \n",
      " 0   session_id                object \n",
      " 1   client_id                 object \n",
      " 2   visit_date                object \n",
      " 3   visit_time                object \n",
      " 4   utm_source                object \n",
      " 5   utm_medium                object \n",
      " 6   utm_campaign              object \n",
      " 7   utm_adcontent             object \n",
      " 8   utm_keyword               object \n",
      " 9   device_category           object \n",
      " 10  device_os                 object \n",
      " 11  device_brand              object \n",
      " 12  device_model              object \n",
      " 13  device_screen_resolution  object \n",
      " 14  device_browser            object \n",
      " 15  geo_country               object \n",
      " 16  geo_city                  object \n",
      " 17  hit_date                  object \n",
      " 18  hit_number                float64\n",
      " 19  event_value               int64  \n",
      "dtypes: float64(1), int64(1), object(18)\n",
      "memory usage: 264.3+ MB\n"
     ]
    }
   ],
   "source": [
    "df.info()"
   ]
  },
  {
   "cell_type": "code",
   "execution_count": 484,
   "id": "218144a4-f67b-43c3-a838-c17d40754717",
   "metadata": {
    "tags": []
   },
   "outputs": [
    {
     "data": {
      "text/plain": [
       "array([False])"
      ]
     },
     "execution_count": 484,
     "metadata": {},
     "output_type": "execute_result"
    }
   ],
   "source": [
    "df.duplicated().unique() #дублей нет"
   ]
  },
  {
   "cell_type": "code",
   "execution_count": 485,
   "id": "9db1b292-44a2-43e6-9893-0d03671c0fb6",
   "metadata": {
    "tags": []
   },
   "outputs": [],
   "source": [
    "# сохраняем копию исходного датафрейма\n",
    "df_clean = df.copy()"
   ]
  },
  {
   "cell_type": "code",
   "execution_count": 486,
   "id": "7b8cc786-0151-4deb-a972-df0ca3a487d5",
   "metadata": {},
   "outputs": [
    {
     "data": {
      "text/plain": [
       "session_id                   0.000000\n",
       "hit_date                     0.000000\n",
       "geo_city                     0.000000\n",
       "geo_country                  0.000000\n",
       "device_browser               0.000000\n",
       "device_screen_resolution     0.000000\n",
       "hit_number                   0.000000\n",
       "device_category              0.000000\n",
       "utm_medium                   0.000000\n",
       "visit_time                   0.000000\n",
       "visit_date                   0.000000\n",
       "client_id                    0.000000\n",
       "event_value                  0.000000\n",
       "utm_source                   0.004387\n",
       "utm_campaign                11.273500\n",
       "utm_adcontent               17.557177\n",
       "device_brand                20.042880\n",
       "device_os                   58.533966\n",
       "utm_keyword                 58.925823\n",
       "device_model                99.130503\n",
       "dtype: float64"
      ]
     },
     "execution_count": 486,
     "metadata": {},
     "output_type": "execute_result"
    }
   ],
   "source": [
    "# смотрим на процент незаполненных ячеек в колонках\n",
    "missing_values = (df_clean.isna().sum() / len(df_clean) * 100).sort_values()\n",
    "missing_values"
   ]
  },
  {
   "cell_type": "code",
   "execution_count": 487,
   "id": "30abcbcb-78e2-43e4-a647-ba469ddd8d4f",
   "metadata": {
    "tags": []
   },
   "outputs": [
    {
     "data": {
      "text/html": [
       "<div>\n",
       "<style scoped>\n",
       "    .dataframe tbody tr th:only-of-type {\n",
       "        vertical-align: middle;\n",
       "    }\n",
       "\n",
       "    .dataframe tbody tr th {\n",
       "        vertical-align: top;\n",
       "    }\n",
       "\n",
       "    .dataframe thead th {\n",
       "        text-align: right;\n",
       "    }\n",
       "</style>\n",
       "<table border=\"1\" class=\"dataframe\">\n",
       "  <thead>\n",
       "    <tr style=\"text-align: right;\">\n",
       "      <th></th>\n",
       "      <th>visit_date</th>\n",
       "      <th>visit_time</th>\n",
       "      <th>utm_medium</th>\n",
       "      <th>device_category</th>\n",
       "      <th>device_os</th>\n",
       "      <th>device_brand</th>\n",
       "      <th>device_screen_resolution</th>\n",
       "      <th>device_browser</th>\n",
       "      <th>geo_country</th>\n",
       "      <th>geo_city</th>\n",
       "      <th>hit_date</th>\n",
       "      <th>hit_number</th>\n",
       "      <th>event_value</th>\n",
       "    </tr>\n",
       "  </thead>\n",
       "  <tbody>\n",
       "    <tr>\n",
       "      <th>0</th>\n",
       "      <td>2021-11-24</td>\n",
       "      <td>14:36:32</td>\n",
       "      <td>banner</td>\n",
       "      <td>mobile</td>\n",
       "      <td>Android</td>\n",
       "      <td>Huawei</td>\n",
       "      <td>360x720</td>\n",
       "      <td>Chrome</td>\n",
       "      <td>Russia</td>\n",
       "      <td>Zlatoust</td>\n",
       "      <td>2021-11-24</td>\n",
       "      <td>3.50</td>\n",
       "      <td>0</td>\n",
       "    </tr>\n",
       "    <tr>\n",
       "      <th>1</th>\n",
       "      <td>2021-11-14</td>\n",
       "      <td>08:21:30</td>\n",
       "      <td>cpm</td>\n",
       "      <td>mobile</td>\n",
       "      <td>Android</td>\n",
       "      <td>Samsung</td>\n",
       "      <td>385x854</td>\n",
       "      <td>Samsung Internet</td>\n",
       "      <td>Russia</td>\n",
       "      <td>Moscow</td>\n",
       "      <td>2021-11-14</td>\n",
       "      <td>3.00</td>\n",
       "      <td>0</td>\n",
       "    </tr>\n",
       "    <tr>\n",
       "      <th>2</th>\n",
       "      <td>2021-12-28</td>\n",
       "      <td>02:42:06</td>\n",
       "      <td>banner</td>\n",
       "      <td>mobile</td>\n",
       "      <td>Android</td>\n",
       "      <td>Huawei</td>\n",
       "      <td>360x720</td>\n",
       "      <td>Chrome</td>\n",
       "      <td>Russia</td>\n",
       "      <td>Krasnoyarsk</td>\n",
       "      <td>2021-12-28</td>\n",
       "      <td>12.25</td>\n",
       "      <td>0</td>\n",
       "    </tr>\n",
       "    <tr>\n",
       "      <th>3</th>\n",
       "      <td>2021-05-29</td>\n",
       "      <td>05:00:00</td>\n",
       "      <td>cpc</td>\n",
       "      <td>mobile</td>\n",
       "      <td>NaN</td>\n",
       "      <td>Xiaomi</td>\n",
       "      <td>393x786</td>\n",
       "      <td>Chrome</td>\n",
       "      <td>Russia</td>\n",
       "      <td>Moscow</td>\n",
       "      <td>2021-05-29</td>\n",
       "      <td>5.00</td>\n",
       "      <td>0</td>\n",
       "    </tr>\n",
       "    <tr>\n",
       "      <th>4</th>\n",
       "      <td>2021-05-29</td>\n",
       "      <td>05:00:00</td>\n",
       "      <td>cpc</td>\n",
       "      <td>mobile</td>\n",
       "      <td>NaN</td>\n",
       "      <td>Xiaomi</td>\n",
       "      <td>393x786</td>\n",
       "      <td>Chrome</td>\n",
       "      <td>Russia</td>\n",
       "      <td>Moscow</td>\n",
       "      <td>2021-05-29</td>\n",
       "      <td>2.50</td>\n",
       "      <td>0</td>\n",
       "    </tr>\n",
       "  </tbody>\n",
       "</table>\n",
       "</div>"
      ],
      "text/plain": [
       "   visit_date visit_time utm_medium device_category device_os device_brand  \\\n",
       "0  2021-11-24   14:36:32     banner          mobile   Android       Huawei   \n",
       "1  2021-11-14   08:21:30        cpm          mobile   Android      Samsung   \n",
       "2  2021-12-28   02:42:06     banner          mobile   Android       Huawei   \n",
       "3  2021-05-29   05:00:00        cpc          mobile       NaN       Xiaomi   \n",
       "4  2021-05-29   05:00:00        cpc          mobile       NaN       Xiaomi   \n",
       "\n",
       "  device_screen_resolution    device_browser geo_country     geo_city  \\\n",
       "0                  360x720            Chrome      Russia     Zlatoust   \n",
       "1                  385x854  Samsung Internet      Russia       Moscow   \n",
       "2                  360x720            Chrome      Russia  Krasnoyarsk   \n",
       "3                  393x786            Chrome      Russia       Moscow   \n",
       "4                  393x786            Chrome      Russia       Moscow   \n",
       "\n",
       "     hit_date  hit_number  event_value  \n",
       "0  2021-11-24        3.50            0  \n",
       "1  2021-11-14        3.00            0  \n",
       "2  2021-12-28       12.25            0  \n",
       "3  2021-05-29        5.00            0  \n",
       "4  2021-05-29        2.50            0  "
      ]
     },
     "execution_count": 487,
     "metadata": {},
     "output_type": "execute_result"
    }
   ],
   "source": [
    "# сразу удаляем колонки session_id и client_id, так как значения уникальны, а значит никак не помогут классификации.\n",
    "df_clean = df_clean.drop(['session_id', 'client_id'], axis = 1)\n",
    "\n",
    "# удалим колонки 'utm_source', 'utm_campaign', 'utm_adcontent', 'utm_keyword', потому что значения сгенерированы\n",
    "# а также в некоторых из этих колонок больше 20% пропущенных значений\n",
    "df_clean = df_clean.drop(['utm_source', 'utm_campaign', 'utm_adcontent', 'utm_keyword'], axis = 1)\n",
    "\n",
    "# удалим колонку device_model так как в ней более 99% пропущенных значений\n",
    "df_clean = df_clean.drop('device_model', axis=1)\n",
    "df_clean.head()"
   ]
  },
  {
   "cell_type": "code",
   "execution_count": 488,
   "id": "8caab115-8785-4f8d-b7b3-fed97fc8bd6d",
   "metadata": {
    "tags": []
   },
   "outputs": [
    {
     "data": {
      "text/plain": [
       "visit_date                   0.000000\n",
       "visit_time                   0.000000\n",
       "utm_medium                   0.000000\n",
       "device_category              0.000000\n",
       "device_screen_resolution     0.000000\n",
       "device_browser               0.000000\n",
       "geo_country                  0.000000\n",
       "geo_city                     0.000000\n",
       "hit_date                     0.000000\n",
       "hit_number                   0.000000\n",
       "event_value                  0.000000\n",
       "device_brand                20.042880\n",
       "device_os                   58.533966\n",
       "dtype: float64"
      ]
     },
     "execution_count": 488,
     "metadata": {},
     "output_type": "execute_result"
    }
   ],
   "source": [
    "# смотрим на процент незаполненных ячеек в колонках\n",
    "missing_values = (df_clean.isna().sum() / len(df_clean) * 100).sort_values()\n",
    "missing_values"
   ]
  },
  {
   "cell_type": "markdown",
   "id": "ce402da1-3805-4f6d-b547-22d0fb49e8ad",
   "metadata": {
    "jp-MarkdownHeadingCollapsed": true,
    "tags": []
   },
   "source": [
    "### 'device_brand', 'device_os'"
   ]
  },
  {
   "cell_type": "code",
   "execution_count": 489,
   "id": "4bc261b6-ee2a-4db4-9581-b85f593af609",
   "metadata": {
    "tags": []
   },
   "outputs": [
    {
     "data": {
      "text/html": [
       "<div>\n",
       "<style scoped>\n",
       "    .dataframe tbody tr th:only-of-type {\n",
       "        vertical-align: middle;\n",
       "    }\n",
       "\n",
       "    .dataframe tbody tr th {\n",
       "        vertical-align: top;\n",
       "    }\n",
       "\n",
       "    .dataframe thead th {\n",
       "        text-align: right;\n",
       "    }\n",
       "</style>\n",
       "<table border=\"1\" class=\"dataframe\">\n",
       "  <thead>\n",
       "    <tr style=\"text-align: right;\">\n",
       "      <th></th>\n",
       "      <th>visit_date</th>\n",
       "      <th>visit_time</th>\n",
       "      <th>utm_medium</th>\n",
       "      <th>device_category</th>\n",
       "      <th>device_os</th>\n",
       "      <th>device_brand</th>\n",
       "      <th>device_screen_resolution</th>\n",
       "      <th>device_browser</th>\n",
       "      <th>geo_country</th>\n",
       "      <th>geo_city</th>\n",
       "      <th>hit_date</th>\n",
       "      <th>hit_number</th>\n",
       "      <th>event_value</th>\n",
       "    </tr>\n",
       "  </thead>\n",
       "  <tbody>\n",
       "    <tr>\n",
       "      <th>28</th>\n",
       "      <td>2021-12-02</td>\n",
       "      <td>23:53:53</td>\n",
       "      <td>(none)</td>\n",
       "      <td>desktop</td>\n",
       "      <td>Windows</td>\n",
       "      <td>NaN</td>\n",
       "      <td>1536x864</td>\n",
       "      <td>Chrome</td>\n",
       "      <td>Russia</td>\n",
       "      <td>Balashikha</td>\n",
       "      <td>2021-12-02</td>\n",
       "      <td>8.714286</td>\n",
       "      <td>0</td>\n",
       "    </tr>\n",
       "    <tr>\n",
       "      <th>65</th>\n",
       "      <td>2021-11-15</td>\n",
       "      <td>11:44:26</td>\n",
       "      <td>(none)</td>\n",
       "      <td>desktop</td>\n",
       "      <td>Windows</td>\n",
       "      <td>NaN</td>\n",
       "      <td>1920x1080</td>\n",
       "      <td>Chrome</td>\n",
       "      <td>Russia</td>\n",
       "      <td>Saint Petersburg</td>\n",
       "      <td>2021-11-15</td>\n",
       "      <td>19.583333</td>\n",
       "      <td>0</td>\n",
       "    </tr>\n",
       "    <tr>\n",
       "      <th>77</th>\n",
       "      <td>2021-11-30</td>\n",
       "      <td>16:18:20</td>\n",
       "      <td>cpm</td>\n",
       "      <td>desktop</td>\n",
       "      <td>Windows</td>\n",
       "      <td>NaN</td>\n",
       "      <td>1680x1050</td>\n",
       "      <td>Chrome</td>\n",
       "      <td>Russia</td>\n",
       "      <td>Moscow</td>\n",
       "      <td>2021-11-30</td>\n",
       "      <td>3.000000</td>\n",
       "      <td>0</td>\n",
       "    </tr>\n",
       "    <tr>\n",
       "      <th>86</th>\n",
       "      <td>2021-12-29</td>\n",
       "      <td>21:03:36</td>\n",
       "      <td>(none)</td>\n",
       "      <td>desktop</td>\n",
       "      <td>Windows</td>\n",
       "      <td>NaN</td>\n",
       "      <td>1024x820</td>\n",
       "      <td>YaBrowser</td>\n",
       "      <td>Russia</td>\n",
       "      <td>Moscow</td>\n",
       "      <td>2021-12-29</td>\n",
       "      <td>4.000000</td>\n",
       "      <td>0</td>\n",
       "    </tr>\n",
       "    <tr>\n",
       "      <th>96</th>\n",
       "      <td>2021-10-29</td>\n",
       "      <td>19:57:48</td>\n",
       "      <td>email</td>\n",
       "      <td>desktop</td>\n",
       "      <td>Windows</td>\n",
       "      <td>NaN</td>\n",
       "      <td>1920x1080</td>\n",
       "      <td>YaBrowser</td>\n",
       "      <td>Russia</td>\n",
       "      <td>Moscow</td>\n",
       "      <td>2021-10-29</td>\n",
       "      <td>3.500000</td>\n",
       "      <td>0</td>\n",
       "    </tr>\n",
       "    <tr>\n",
       "      <th>...</th>\n",
       "      <td>...</td>\n",
       "      <td>...</td>\n",
       "      <td>...</td>\n",
       "      <td>...</td>\n",
       "      <td>...</td>\n",
       "      <td>...</td>\n",
       "      <td>...</td>\n",
       "      <td>...</td>\n",
       "      <td>...</td>\n",
       "      <td>...</td>\n",
       "      <td>...</td>\n",
       "      <td>...</td>\n",
       "      <td>...</td>\n",
       "    </tr>\n",
       "    <tr>\n",
       "      <th>1732224</th>\n",
       "      <td>2021-11-02</td>\n",
       "      <td>21:34:46</td>\n",
       "      <td>(none)</td>\n",
       "      <td>desktop</td>\n",
       "      <td>Windows</td>\n",
       "      <td>NaN</td>\n",
       "      <td>1366x768</td>\n",
       "      <td>Chrome</td>\n",
       "      <td>Russia</td>\n",
       "      <td>Kazan</td>\n",
       "      <td>2021-11-02</td>\n",
       "      <td>3.000000</td>\n",
       "      <td>0</td>\n",
       "    </tr>\n",
       "    <tr>\n",
       "      <th>1732233</th>\n",
       "      <td>2021-12-08</td>\n",
       "      <td>19:11:30</td>\n",
       "      <td>referral</td>\n",
       "      <td>desktop</td>\n",
       "      <td>Windows</td>\n",
       "      <td>NaN</td>\n",
       "      <td>1920x1080</td>\n",
       "      <td>Chrome</td>\n",
       "      <td>Russia</td>\n",
       "      <td>Krasnodar</td>\n",
       "      <td>2021-12-08</td>\n",
       "      <td>28.687500</td>\n",
       "      <td>0</td>\n",
       "    </tr>\n",
       "    <tr>\n",
       "      <th>1732250</th>\n",
       "      <td>2021-11-13</td>\n",
       "      <td>21:47:58</td>\n",
       "      <td>organic</td>\n",
       "      <td>desktop</td>\n",
       "      <td>Windows</td>\n",
       "      <td>NaN</td>\n",
       "      <td>1366x768</td>\n",
       "      <td>Firefox</td>\n",
       "      <td>Russia</td>\n",
       "      <td>Balashikha</td>\n",
       "      <td>2021-11-13</td>\n",
       "      <td>5.000000</td>\n",
       "      <td>0</td>\n",
       "    </tr>\n",
       "    <tr>\n",
       "      <th>1732261</th>\n",
       "      <td>2021-12-22</td>\n",
       "      <td>10:48:25</td>\n",
       "      <td>cpc</td>\n",
       "      <td>desktop</td>\n",
       "      <td>Windows</td>\n",
       "      <td>NaN</td>\n",
       "      <td>1920x1080</td>\n",
       "      <td>Chrome</td>\n",
       "      <td>Russia</td>\n",
       "      <td>Moscow</td>\n",
       "      <td>2021-12-22</td>\n",
       "      <td>3.500000</td>\n",
       "      <td>0</td>\n",
       "    </tr>\n",
       "    <tr>\n",
       "      <th>1732265</th>\n",
       "      <td>2021-12-31</td>\n",
       "      <td>19:39:02</td>\n",
       "      <td>cpm</td>\n",
       "      <td>desktop</td>\n",
       "      <td>Linux</td>\n",
       "      <td>NaN</td>\n",
       "      <td>1366x768</td>\n",
       "      <td>Chrome</td>\n",
       "      <td>Russia</td>\n",
       "      <td>Moscow</td>\n",
       "      <td>2021-12-31</td>\n",
       "      <td>9.846154</td>\n",
       "      <td>0</td>\n",
       "    </tr>\n",
       "  </tbody>\n",
       "</table>\n",
       "<p>110138 rows × 13 columns</p>\n",
       "</div>"
      ],
      "text/plain": [
       "         visit_date visit_time utm_medium device_category device_os  \\\n",
       "28       2021-12-02   23:53:53     (none)         desktop   Windows   \n",
       "65       2021-11-15   11:44:26     (none)         desktop   Windows   \n",
       "77       2021-11-30   16:18:20        cpm         desktop   Windows   \n",
       "86       2021-12-29   21:03:36     (none)         desktop   Windows   \n",
       "96       2021-10-29   19:57:48      email         desktop   Windows   \n",
       "...             ...        ...        ...             ...       ...   \n",
       "1732224  2021-11-02   21:34:46     (none)         desktop   Windows   \n",
       "1732233  2021-12-08   19:11:30   referral         desktop   Windows   \n",
       "1732250  2021-11-13   21:47:58    organic         desktop   Windows   \n",
       "1732261  2021-12-22   10:48:25        cpc         desktop   Windows   \n",
       "1732265  2021-12-31   19:39:02        cpm         desktop     Linux   \n",
       "\n",
       "        device_brand device_screen_resolution device_browser geo_country  \\\n",
       "28               NaN                 1536x864         Chrome      Russia   \n",
       "65               NaN                1920x1080         Chrome      Russia   \n",
       "77               NaN                1680x1050         Chrome      Russia   \n",
       "86               NaN                 1024x820      YaBrowser      Russia   \n",
       "96               NaN                1920x1080      YaBrowser      Russia   \n",
       "...              ...                      ...            ...         ...   \n",
       "1732224          NaN                 1366x768         Chrome      Russia   \n",
       "1732233          NaN                1920x1080         Chrome      Russia   \n",
       "1732250          NaN                 1366x768        Firefox      Russia   \n",
       "1732261          NaN                1920x1080         Chrome      Russia   \n",
       "1732265          NaN                 1366x768         Chrome      Russia   \n",
       "\n",
       "                 geo_city    hit_date  hit_number  event_value  \n",
       "28             Balashikha  2021-12-02    8.714286            0  \n",
       "65       Saint Petersburg  2021-11-15   19.583333            0  \n",
       "77                 Moscow  2021-11-30    3.000000            0  \n",
       "86                 Moscow  2021-12-29    4.000000            0  \n",
       "96                 Moscow  2021-10-29    3.500000            0  \n",
       "...                   ...         ...         ...          ...  \n",
       "1732224             Kazan  2021-11-02    3.000000            0  \n",
       "1732233         Krasnodar  2021-12-08   28.687500            0  \n",
       "1732250        Balashikha  2021-11-13    5.000000            0  \n",
       "1732261            Moscow  2021-12-22    3.500000            0  \n",
       "1732265            Moscow  2021-12-31    9.846154            0  \n",
       "\n",
       "[110138 rows x 13 columns]"
      ]
     },
     "execution_count": 489,
     "metadata": {},
     "output_type": "execute_result"
    }
   ],
   "source": [
    "#device_brand                 20.042880\n",
    "#device_os                    58.388614\n",
    "\n",
    "# видим, что в device_brand около 25% пропущенных значений проверим сможем ли заполнить их с помощью device_os\n",
    "\n",
    "df_clean[df_clean.device_brand.isna() & df_clean.device_os.notna()]"
   ]
  },
  {
   "cell_type": "code",
   "execution_count": 490,
   "id": "e3578455-af26-4ea3-8514-73df4b38f088",
   "metadata": {
    "tags": []
   },
   "outputs": [
    {
     "data": {
      "text/plain": [
       "device_os\n",
       "NaN              1013964\n",
       "Android           425520\n",
       "iOS               182597\n",
       "Windows            81740\n",
       "Macintosh          23415\n",
       "Linux               4616\n",
       "(not set)            309\n",
       "Chrome OS             65\n",
       "BlackBerry            24\n",
       "Tizen                  7\n",
       "Firefox OS             3\n",
       "Nokia                  2\n",
       "Samsung                2\n",
       "Windows Phone          2\n",
       "Name: count, dtype: int64"
      ]
     },
     "execution_count": 490,
     "metadata": {},
     "output_type": "execute_result"
    }
   ],
   "source": [
    "# смотрим на уникальные значения колонки и их количество\n",
    "df_clean.device_os.value_counts(dropna=False).sort_values(ascending=False)"
   ]
  },
  {
   "cell_type": "code",
   "execution_count": 491,
   "id": "bd121e31-e337-4f35-a6b0-1f13a501d9aa",
   "metadata": {
    "tags": []
   },
   "outputs": [
    {
     "data": {
      "text/plain": [
       "device_brand\n",
       "Apple        503533\n",
       "NaN          347196\n",
       "Samsung      311641\n",
       "Xiaomi       269251\n",
       "Huawei       173828\n",
       "              ...  \n",
       "M-HORSE           1\n",
       "Winnovo           1\n",
       "Maze              1\n",
       "Honeywell         1\n",
       "Maxvi             1\n",
       "Name: count, Length: 201, dtype: int64"
      ]
     },
     "execution_count": 491,
     "metadata": {},
     "output_type": "execute_result"
    }
   ],
   "source": [
    "df_clean.device_brand.value_counts(dropna=False).sort_values(ascending=False)\n",
    "# больше всего клиентов с девайсами бренда Apple"
   ]
  },
  {
   "cell_type": "code",
   "execution_count": 492,
   "id": "035d10a8-1a89-4a6b-af67-f035ee655be8",
   "metadata": {
    "tags": []
   },
   "outputs": [
    {
     "data": {
      "text/plain": [
       "0"
      ]
     },
     "execution_count": 492,
     "metadata": {},
     "output_type": "execute_result"
    }
   ],
   "source": [
    "# для владельцев ОС Windows заполним бренд значением Windows\n",
    "tmp_df = df_clean[(df_clean.device_brand.isna()) & (df_clean.device_os == 'Windows')]\n",
    "tmp_df.loc[:, 'device_brand'] = 'Windows'\n",
    "df_clean[(df_clean.device_brand.isna()) & (df_clean.device_os == 'Windows')] = tmp_df\n",
    "\n",
    "# для владельцев ОС Macintosh заполним бренд значением Apple\n",
    "tmp_df = df_clean[(df_clean.device_brand.isna()) & (df_clean.device_os == 'Macintosh')]\n",
    "tmp_df.loc[:, 'device_brand'] = 'Apple'\n",
    "df_clean[(df_clean.device_brand.isna()) & (df_clean.device_os == 'Macintosh')] = tmp_df\n",
    "\n",
    "# для владельцев операционной системы Linux установим device_brand = Windows\n",
    "tmp_df = df_clean[(df_clean.device_brand.isna()) & (df_clean.device_os == 'Linux')]\n",
    "tmp_df.loc[:, 'device_brand'] = 'Windows'\n",
    "df_clean[(df_clean.device_brand.isna()) & (df_clean.device_os == 'Linux')] = tmp_df\n",
    "\n",
    "# все остальные пропуски заполним значением other\n",
    "df_clean.device_brand = df_clean.device_brand.fillna('other')\n",
    "df_clean.device_brand = df_clean.device_brand.replace('(not set)', 'other')\n",
    "\n",
    "# проверим, что нулевых значений не осталось\n",
    "df_clean.device_brand.isna().sum()"
   ]
  },
  {
   "cell_type": "code",
   "execution_count": 493,
   "id": "e941e386-66ef-43a0-9b4e-9a954ead7ab8",
   "metadata": {
    "tags": []
   },
   "outputs": [],
   "source": [
    "# удаляем колонку device_os так как там больше 58% пропущенных значений\n",
    "df_clean = df_clean.drop('device_os', axis = 1)"
   ]
  },
  {
   "cell_type": "code",
   "execution_count": 494,
   "id": "f0ea2d98-8738-4c4c-a52c-17307bb99357",
   "metadata": {
    "tags": []
   },
   "outputs": [
    {
     "data": {
      "text/plain": [
       "visit_date                  0.0\n",
       "visit_time                  0.0\n",
       "utm_medium                  0.0\n",
       "device_category             0.0\n",
       "device_brand                0.0\n",
       "device_screen_resolution    0.0\n",
       "device_browser              0.0\n",
       "geo_country                 0.0\n",
       "geo_city                    0.0\n",
       "hit_date                    0.0\n",
       "hit_number                  0.0\n",
       "event_value                 0.0\n",
       "dtype: float64"
      ]
     },
     "execution_count": 494,
     "metadata": {},
     "output_type": "execute_result"
    }
   ],
   "source": [
    "# проверим процент пропущенных значений в оставшихся колонках\n",
    "missing_values = (df_clean.isna().sum() / len(df_clean) * 100).sort_values()\n",
    "missing_values"
   ]
  },
  {
   "cell_type": "markdown",
   "id": "a72fffc8-8cca-480e-9541-69580bbb9c39",
   "metadata": {
    "jp-MarkdownHeadingCollapsed": true,
    "tags": []
   },
   "source": [
    "### 'visit_date', 'hit_date'+"
   ]
  },
  {
   "cell_type": "code",
   "execution_count": 495,
   "id": "49a5eb52-2f6f-4fe1-8644-61d6e743cd57",
   "metadata": {
    "tags": []
   },
   "outputs": [
    {
     "data": {
      "text/html": [
       "<div>\n",
       "<style scoped>\n",
       "    .dataframe tbody tr th:only-of-type {\n",
       "        vertical-align: middle;\n",
       "    }\n",
       "\n",
       "    .dataframe tbody tr th {\n",
       "        vertical-align: top;\n",
       "    }\n",
       "\n",
       "    .dataframe thead th {\n",
       "        text-align: right;\n",
       "    }\n",
       "</style>\n",
       "<table border=\"1\" class=\"dataframe\">\n",
       "  <thead>\n",
       "    <tr style=\"text-align: right;\">\n",
       "      <th></th>\n",
       "      <th>visit_date</th>\n",
       "      <th>hit_date</th>\n",
       "    </tr>\n",
       "  </thead>\n",
       "  <tbody>\n",
       "    <tr>\n",
       "      <th>0</th>\n",
       "      <td>2021-11-24</td>\n",
       "      <td>2021-11-24</td>\n",
       "    </tr>\n",
       "    <tr>\n",
       "      <th>1</th>\n",
       "      <td>2021-11-14</td>\n",
       "      <td>2021-11-14</td>\n",
       "    </tr>\n",
       "    <tr>\n",
       "      <th>2</th>\n",
       "      <td>2021-12-28</td>\n",
       "      <td>2021-12-28</td>\n",
       "    </tr>\n",
       "    <tr>\n",
       "      <th>3</th>\n",
       "      <td>2021-05-29</td>\n",
       "      <td>2021-05-29</td>\n",
       "    </tr>\n",
       "    <tr>\n",
       "      <th>4</th>\n",
       "      <td>2021-05-29</td>\n",
       "      <td>2021-05-29</td>\n",
       "    </tr>\n",
       "    <tr>\n",
       "      <th>...</th>\n",
       "      <td>...</td>\n",
       "      <td>...</td>\n",
       "    </tr>\n",
       "    <tr>\n",
       "      <th>1732261</th>\n",
       "      <td>2021-12-22</td>\n",
       "      <td>2021-12-22</td>\n",
       "    </tr>\n",
       "    <tr>\n",
       "      <th>1732262</th>\n",
       "      <td>2021-05-26</td>\n",
       "      <td>2021-05-26</td>\n",
       "    </tr>\n",
       "    <tr>\n",
       "      <th>1732263</th>\n",
       "      <td>2021-11-15</td>\n",
       "      <td>2021-11-15</td>\n",
       "    </tr>\n",
       "    <tr>\n",
       "      <th>1732264</th>\n",
       "      <td>2021-11-29</td>\n",
       "      <td>2021-11-29</td>\n",
       "    </tr>\n",
       "    <tr>\n",
       "      <th>1732265</th>\n",
       "      <td>2021-12-31</td>\n",
       "      <td>2021-12-31</td>\n",
       "    </tr>\n",
       "  </tbody>\n",
       "</table>\n",
       "<p>1732266 rows × 2 columns</p>\n",
       "</div>"
      ],
      "text/plain": [
       "         visit_date    hit_date\n",
       "0        2021-11-24  2021-11-24\n",
       "1        2021-11-14  2021-11-14\n",
       "2        2021-12-28  2021-12-28\n",
       "3        2021-05-29  2021-05-29\n",
       "4        2021-05-29  2021-05-29\n",
       "...             ...         ...\n",
       "1732261  2021-12-22  2021-12-22\n",
       "1732262  2021-05-26  2021-05-26\n",
       "1732263  2021-11-15  2021-11-15\n",
       "1732264  2021-11-29  2021-11-29\n",
       "1732265  2021-12-31  2021-12-31\n",
       "\n",
       "[1732266 rows x 2 columns]"
      ]
     },
     "execution_count": 495,
     "metadata": {},
     "output_type": "execute_result"
    }
   ],
   "source": [
    "df_clean[['visit_date', 'hit_date']]"
   ]
  },
  {
   "cell_type": "code",
   "execution_count": 496,
   "id": "576395bf-db42-4be8-8754-b31f2d89c5ad",
   "metadata": {
    "tags": []
   },
   "outputs": [
    {
     "data": {
      "text/html": [
       "<div>\n",
       "<style scoped>\n",
       "    .dataframe tbody tr th:only-of-type {\n",
       "        vertical-align: middle;\n",
       "    }\n",
       "\n",
       "    .dataframe tbody tr th {\n",
       "        vertical-align: top;\n",
       "    }\n",
       "\n",
       "    .dataframe thead th {\n",
       "        text-align: right;\n",
       "    }\n",
       "</style>\n",
       "<table border=\"1\" class=\"dataframe\">\n",
       "  <thead>\n",
       "    <tr style=\"text-align: right;\">\n",
       "      <th></th>\n",
       "      <th>visit_date</th>\n",
       "      <th>visit_time</th>\n",
       "      <th>utm_medium</th>\n",
       "      <th>device_category</th>\n",
       "      <th>device_brand</th>\n",
       "      <th>device_screen_resolution</th>\n",
       "      <th>device_browser</th>\n",
       "      <th>geo_country</th>\n",
       "      <th>geo_city</th>\n",
       "      <th>hit_date</th>\n",
       "      <th>hit_number</th>\n",
       "      <th>event_value</th>\n",
       "    </tr>\n",
       "  </thead>\n",
       "  <tbody>\n",
       "  </tbody>\n",
       "</table>\n",
       "</div>"
      ],
      "text/plain": [
       "Empty DataFrame\n",
       "Columns: [visit_date, visit_time, utm_medium, device_category, device_brand, device_screen_resolution, device_browser, geo_country, geo_city, hit_date, hit_number, event_value]\n",
       "Index: []"
      ]
     },
     "execution_count": 496,
     "metadata": {},
     "output_type": "execute_result"
    }
   ],
   "source": [
    "# убедимся, что колонки одинаковы\n",
    "df_clean[df_clean.visit_date != df_clean.hit_date] "
   ]
  },
  {
   "cell_type": "code",
   "execution_count": 497,
   "id": "8a536169-cd18-4285-876e-d81ec507eb86",
   "metadata": {
    "tags": []
   },
   "outputs": [
    {
     "data": {
      "text/html": [
       "<div>\n",
       "<style scoped>\n",
       "    .dataframe tbody tr th:only-of-type {\n",
       "        vertical-align: middle;\n",
       "    }\n",
       "\n",
       "    .dataframe tbody tr th {\n",
       "        vertical-align: top;\n",
       "    }\n",
       "\n",
       "    .dataframe thead th {\n",
       "        text-align: right;\n",
       "    }\n",
       "</style>\n",
       "<table border=\"1\" class=\"dataframe\">\n",
       "  <thead>\n",
       "    <tr style=\"text-align: right;\">\n",
       "      <th></th>\n",
       "      <th>visit_time</th>\n",
       "      <th>utm_medium</th>\n",
       "      <th>device_category</th>\n",
       "      <th>device_brand</th>\n",
       "      <th>device_screen_resolution</th>\n",
       "      <th>device_browser</th>\n",
       "      <th>geo_country</th>\n",
       "      <th>geo_city</th>\n",
       "      <th>hit_number</th>\n",
       "      <th>event_value</th>\n",
       "      <th>date</th>\n",
       "    </tr>\n",
       "  </thead>\n",
       "  <tbody>\n",
       "    <tr>\n",
       "      <th>0</th>\n",
       "      <td>14:36:32</td>\n",
       "      <td>banner</td>\n",
       "      <td>mobile</td>\n",
       "      <td>Huawei</td>\n",
       "      <td>360x720</td>\n",
       "      <td>Chrome</td>\n",
       "      <td>Russia</td>\n",
       "      <td>Zlatoust</td>\n",
       "      <td>3.50</td>\n",
       "      <td>0</td>\n",
       "      <td>2021-11-24</td>\n",
       "    </tr>\n",
       "    <tr>\n",
       "      <th>1</th>\n",
       "      <td>08:21:30</td>\n",
       "      <td>cpm</td>\n",
       "      <td>mobile</td>\n",
       "      <td>Samsung</td>\n",
       "      <td>385x854</td>\n",
       "      <td>Samsung Internet</td>\n",
       "      <td>Russia</td>\n",
       "      <td>Moscow</td>\n",
       "      <td>3.00</td>\n",
       "      <td>0</td>\n",
       "      <td>2021-11-14</td>\n",
       "    </tr>\n",
       "    <tr>\n",
       "      <th>2</th>\n",
       "      <td>02:42:06</td>\n",
       "      <td>banner</td>\n",
       "      <td>mobile</td>\n",
       "      <td>Huawei</td>\n",
       "      <td>360x720</td>\n",
       "      <td>Chrome</td>\n",
       "      <td>Russia</td>\n",
       "      <td>Krasnoyarsk</td>\n",
       "      <td>12.25</td>\n",
       "      <td>0</td>\n",
       "      <td>2021-12-28</td>\n",
       "    </tr>\n",
       "    <tr>\n",
       "      <th>3</th>\n",
       "      <td>05:00:00</td>\n",
       "      <td>cpc</td>\n",
       "      <td>mobile</td>\n",
       "      <td>Xiaomi</td>\n",
       "      <td>393x786</td>\n",
       "      <td>Chrome</td>\n",
       "      <td>Russia</td>\n",
       "      <td>Moscow</td>\n",
       "      <td>5.00</td>\n",
       "      <td>0</td>\n",
       "      <td>2021-05-29</td>\n",
       "    </tr>\n",
       "    <tr>\n",
       "      <th>4</th>\n",
       "      <td>05:00:00</td>\n",
       "      <td>cpc</td>\n",
       "      <td>mobile</td>\n",
       "      <td>Xiaomi</td>\n",
       "      <td>393x786</td>\n",
       "      <td>Chrome</td>\n",
       "      <td>Russia</td>\n",
       "      <td>Moscow</td>\n",
       "      <td>2.50</td>\n",
       "      <td>0</td>\n",
       "      <td>2021-05-29</td>\n",
       "    </tr>\n",
       "  </tbody>\n",
       "</table>\n",
       "</div>"
      ],
      "text/plain": [
       "  visit_time utm_medium device_category device_brand device_screen_resolution  \\\n",
       "0   14:36:32     banner          mobile       Huawei                  360x720   \n",
       "1   08:21:30        cpm          mobile      Samsung                  385x854   \n",
       "2   02:42:06     banner          mobile       Huawei                  360x720   \n",
       "3   05:00:00        cpc          mobile       Xiaomi                  393x786   \n",
       "4   05:00:00        cpc          mobile       Xiaomi                  393x786   \n",
       "\n",
       "     device_browser geo_country     geo_city  hit_number  event_value  \\\n",
       "0            Chrome      Russia     Zlatoust        3.50            0   \n",
       "1  Samsung Internet      Russia       Moscow        3.00            0   \n",
       "2            Chrome      Russia  Krasnoyarsk       12.25            0   \n",
       "3            Chrome      Russia       Moscow        5.00            0   \n",
       "4            Chrome      Russia       Moscow        2.50            0   \n",
       "\n",
       "         date  \n",
       "0  2021-11-24  \n",
       "1  2021-11-14  \n",
       "2  2021-12-28  \n",
       "3  2021-05-29  \n",
       "4  2021-05-29  "
      ]
     },
     "execution_count": 497,
     "metadata": {},
     "output_type": "execute_result"
    }
   ],
   "source": [
    "# колонки равны, значит можно удалить дублирующуюся и переименовать колонку в date\n",
    "df_clean['date'] = df_clean.visit_date\n",
    "df_clean = df_clean.drop(['visit_date', 'hit_date'], axis=1)\n",
    "df_clean.head()"
   ]
  },
  {
   "cell_type": "markdown",
   "id": "b525a9c9-99ca-43ca-832c-882e3af66877",
   "metadata": {
    "jp-MarkdownHeadingCollapsed": true,
    "tags": []
   },
   "source": [
    "### device_screen_resolution"
   ]
  },
  {
   "cell_type": "code",
   "execution_count": 498,
   "id": "5da07740-d5e2-4c53-aff4-93f52df6a848",
   "metadata": {
    "tags": []
   },
   "outputs": [
    {
     "data": {
      "text/plain": [
       "0            360x720\n",
       "1            385x854\n",
       "2            360x720\n",
       "3            393x786\n",
       "4            393x786\n",
       "             ...    \n",
       "1732261    1920x1080\n",
       "1732262      390x844\n",
       "1732263      375x667\n",
       "1732264      393x851\n",
       "1732265     1366x768\n",
       "Name: device_screen_resolution, Length: 1732266, dtype: object"
      ]
     },
     "execution_count": 498,
     "metadata": {},
     "output_type": "execute_result"
    }
   ],
   "source": [
    "df_clean.device_screen_resolution"
   ]
  },
  {
   "cell_type": "code",
   "execution_count": 499,
   "id": "400fc7f8-69a0-430c-8f55-b37f531a68a5",
   "metadata": {
    "tags": []
   },
   "outputs": [
    {
     "data": {
      "text/plain": [
       "0           360\n",
       "1           385\n",
       "2           360\n",
       "3           393\n",
       "4           393\n",
       "           ... \n",
       "1732261    1920\n",
       "1732262     390\n",
       "1732263     375\n",
       "1732264     393\n",
       "1732265    1366\n",
       "Name: device_screen_resolution, Length: 1732266, dtype: int64"
      ]
     },
     "execution_count": 499,
     "metadata": {},
     "output_type": "execute_result"
    }
   ],
   "source": [
    "# заменим device_screen_resolution на площадь экрана\n",
    "df_w = df_clean.device_screen_resolution.apply(lambda x: x.split('x')[0])\n",
    "df_w = df_w.astype('int')\n",
    "df_w"
   ]
  },
  {
   "cell_type": "code",
   "execution_count": 500,
   "id": "7c061edc-6238-4ee5-b77b-fb0a9e75631a",
   "metadata": {
    "tags": []
   },
   "outputs": [
    {
     "data": {
      "text/plain": [
       "0           720\n",
       "1           854\n",
       "2           720\n",
       "3           786\n",
       "4           786\n",
       "           ... \n",
       "1732261    1080\n",
       "1732262     844\n",
       "1732263     667\n",
       "1732264     851\n",
       "1732265     768\n",
       "Name: device_screen_resolution, Length: 1732266, dtype: int64"
      ]
     },
     "execution_count": 500,
     "metadata": {},
     "output_type": "execute_result"
    }
   ],
   "source": [
    "df_h = df_clean.device_screen_resolution.apply(lambda x: x.split('x')[1])\n",
    "df_h = df_h.astype('int')\n",
    "df_h"
   ]
  },
  {
   "cell_type": "code",
   "execution_count": 501,
   "id": "1ca7cf99-76e8-4e41-a178-b66571f18506",
   "metadata": {
    "tags": []
   },
   "outputs": [
    {
     "data": {
      "text/plain": [
       "0           259200\n",
       "1           328790\n",
       "2           259200\n",
       "3           308898\n",
       "4           308898\n",
       "            ...   \n",
       "1732261    2073600\n",
       "1732262     329160\n",
       "1732263     250125\n",
       "1732264     334443\n",
       "1732265    1049088\n",
       "Name: device_screen, Length: 1732266, dtype: int64"
      ]
     },
     "execution_count": 501,
     "metadata": {},
     "output_type": "execute_result"
    }
   ],
   "source": [
    "df_clean['device_screen'] = df_w * df_h\n",
    "df_clean['device_screen']"
   ]
  },
  {
   "cell_type": "code",
   "execution_count": 502,
   "id": "fd4ba44c-d871-4cf8-a3a1-7ec06d02ec09",
   "metadata": {
    "tags": []
   },
   "outputs": [
    {
     "data": {
      "text/html": [
       "<div>\n",
       "<style scoped>\n",
       "    .dataframe tbody tr th:only-of-type {\n",
       "        vertical-align: middle;\n",
       "    }\n",
       "\n",
       "    .dataframe tbody tr th {\n",
       "        vertical-align: top;\n",
       "    }\n",
       "\n",
       "    .dataframe thead th {\n",
       "        text-align: right;\n",
       "    }\n",
       "</style>\n",
       "<table border=\"1\" class=\"dataframe\">\n",
       "  <thead>\n",
       "    <tr style=\"text-align: right;\">\n",
       "      <th></th>\n",
       "      <th>visit_time</th>\n",
       "      <th>utm_medium</th>\n",
       "      <th>device_category</th>\n",
       "      <th>device_brand</th>\n",
       "      <th>device_browser</th>\n",
       "      <th>geo_country</th>\n",
       "      <th>geo_city</th>\n",
       "      <th>hit_number</th>\n",
       "      <th>event_value</th>\n",
       "      <th>date</th>\n",
       "      <th>device_screen</th>\n",
       "    </tr>\n",
       "  </thead>\n",
       "  <tbody>\n",
       "    <tr>\n",
       "      <th>0</th>\n",
       "      <td>14:36:32</td>\n",
       "      <td>banner</td>\n",
       "      <td>mobile</td>\n",
       "      <td>Huawei</td>\n",
       "      <td>Chrome</td>\n",
       "      <td>Russia</td>\n",
       "      <td>Zlatoust</td>\n",
       "      <td>3.50</td>\n",
       "      <td>0</td>\n",
       "      <td>2021-11-24</td>\n",
       "      <td>259200</td>\n",
       "    </tr>\n",
       "    <tr>\n",
       "      <th>1</th>\n",
       "      <td>08:21:30</td>\n",
       "      <td>cpm</td>\n",
       "      <td>mobile</td>\n",
       "      <td>Samsung</td>\n",
       "      <td>Samsung Internet</td>\n",
       "      <td>Russia</td>\n",
       "      <td>Moscow</td>\n",
       "      <td>3.00</td>\n",
       "      <td>0</td>\n",
       "      <td>2021-11-14</td>\n",
       "      <td>328790</td>\n",
       "    </tr>\n",
       "    <tr>\n",
       "      <th>2</th>\n",
       "      <td>02:42:06</td>\n",
       "      <td>banner</td>\n",
       "      <td>mobile</td>\n",
       "      <td>Huawei</td>\n",
       "      <td>Chrome</td>\n",
       "      <td>Russia</td>\n",
       "      <td>Krasnoyarsk</td>\n",
       "      <td>12.25</td>\n",
       "      <td>0</td>\n",
       "      <td>2021-12-28</td>\n",
       "      <td>259200</td>\n",
       "    </tr>\n",
       "    <tr>\n",
       "      <th>3</th>\n",
       "      <td>05:00:00</td>\n",
       "      <td>cpc</td>\n",
       "      <td>mobile</td>\n",
       "      <td>Xiaomi</td>\n",
       "      <td>Chrome</td>\n",
       "      <td>Russia</td>\n",
       "      <td>Moscow</td>\n",
       "      <td>5.00</td>\n",
       "      <td>0</td>\n",
       "      <td>2021-05-29</td>\n",
       "      <td>308898</td>\n",
       "    </tr>\n",
       "    <tr>\n",
       "      <th>4</th>\n",
       "      <td>05:00:00</td>\n",
       "      <td>cpc</td>\n",
       "      <td>mobile</td>\n",
       "      <td>Xiaomi</td>\n",
       "      <td>Chrome</td>\n",
       "      <td>Russia</td>\n",
       "      <td>Moscow</td>\n",
       "      <td>2.50</td>\n",
       "      <td>0</td>\n",
       "      <td>2021-05-29</td>\n",
       "      <td>308898</td>\n",
       "    </tr>\n",
       "  </tbody>\n",
       "</table>\n",
       "</div>"
      ],
      "text/plain": [
       "  visit_time utm_medium device_category device_brand    device_browser  \\\n",
       "0   14:36:32     banner          mobile       Huawei            Chrome   \n",
       "1   08:21:30        cpm          mobile      Samsung  Samsung Internet   \n",
       "2   02:42:06     banner          mobile       Huawei            Chrome   \n",
       "3   05:00:00        cpc          mobile       Xiaomi            Chrome   \n",
       "4   05:00:00        cpc          mobile       Xiaomi            Chrome   \n",
       "\n",
       "  geo_country     geo_city  hit_number  event_value        date  device_screen  \n",
       "0      Russia     Zlatoust        3.50            0  2021-11-24         259200  \n",
       "1      Russia       Moscow        3.00            0  2021-11-14         328790  \n",
       "2      Russia  Krasnoyarsk       12.25            0  2021-12-28         259200  \n",
       "3      Russia       Moscow        5.00            0  2021-05-29         308898  \n",
       "4      Russia       Moscow        2.50            0  2021-05-29         308898  "
      ]
     },
     "execution_count": 502,
     "metadata": {},
     "output_type": "execute_result"
    }
   ],
   "source": [
    "# удаляем колонку device_screen_resolution - больше не нужна\n",
    "df_clean = df_clean.drop(['device_screen_resolution'], axis=1)\n",
    "df_clean.head()"
   ]
  },
  {
   "cell_type": "markdown",
   "id": "1329b43d-62b2-40f0-873f-ecd3c7d905fe",
   "metadata": {
    "jp-MarkdownHeadingCollapsed": true,
    "tags": []
   },
   "source": [
    "### utm_medium"
   ]
  },
  {
   "cell_type": "code",
   "execution_count": 503,
   "id": "5f899adf-a92f-4d09-80e3-5332c263f992",
   "metadata": {
    "tags": []
   },
   "outputs": [
    {
     "data": {
      "text/plain": [
       "utm_medium\n",
       "banner               525206\n",
       "cpc                  399395\n",
       "(none)               277060\n",
       "cpm                  229791\n",
       "referral             136851\n",
       "organic               55009\n",
       "email                 28287\n",
       "push                  27710\n",
       "stories               10472\n",
       "cpv                    7815\n",
       "blogger_channel        7731\n",
       "smartbanner            6501\n",
       "blogger_stories        4226\n",
       "tg                     3920\n",
       "cpa                    3266\n",
       "post                   2227\n",
       "outlook                1269\n",
       "app                    1211\n",
       "smm                    1194\n",
       "clicks                  908\n",
       "blogger_header          760\n",
       "(not set)               405\n",
       "info_text               335\n",
       "sms                     194\n",
       "landing                 127\n",
       "partner                  95\n",
       "link                     52\n",
       "cbaafe                   43\n",
       "CPM                      36\n",
       "yandex_cpc               31\n",
       "vk_smm                   25\n",
       "static                   17\n",
       "google_cpc               15\n",
       "article                  15\n",
       "web_polka                11\n",
       "fb_smm                    8\n",
       "medium                    8\n",
       "ok_smm                    6\n",
       "nkp                       5\n",
       "social                    5\n",
       "catalogue                 4\n",
       "main_polka                3\n",
       "linktest                  2\n",
       "users_msk                 2\n",
       "reach                     2\n",
       "promo_sber                2\n",
       "last                      1\n",
       "qrcodevideo               1\n",
       "qr                        1\n",
       "dom_click                 1\n",
       "promo_sbol                1\n",
       "tablet                    1\n",
       "landing_interests         1\n",
       "Sbol_catalog              1\n",
       "sber_app                  1\n",
       "Name: count, dtype: int64"
      ]
     },
     "execution_count": 503,
     "metadata": {},
     "output_type": "execute_result"
    }
   ],
   "source": [
    "df_clean.utm_medium.value_counts().sort_values(ascending=False)"
   ]
  },
  {
   "cell_type": "code",
   "execution_count": 504,
   "id": "67e48c8a-8911-4fe1-814a-769b52f3171f",
   "metadata": {
    "tags": []
   },
   "outputs": [
    {
     "data": {
      "text/plain": [
       "utm_medium\n",
       "banner               525206\n",
       "cpc                  399395\n",
       "(none)               277060\n",
       "cpm                  229827\n",
       "referral             136851\n",
       "organic               55009\n",
       "email                 28287\n",
       "push                  27710\n",
       "stories               10472\n",
       "cpv                    7815\n",
       "blogger_channel        7731\n",
       "smartbanner            6501\n",
       "blogger_stories        4226\n",
       "tg                     3920\n",
       "cpa                    3266\n",
       "post                   2227\n",
       "outlook                1269\n",
       "app                    1211\n",
       "smm                    1194\n",
       "clicks                  908\n",
       "blogger_header          760\n",
       "(not set)               405\n",
       "info_text               335\n",
       "sms                     194\n",
       "landing                 127\n",
       "partner                  95\n",
       "link                     52\n",
       "cbaafe                   43\n",
       "yandex_cpc               31\n",
       "vk_smm                   25\n",
       "static                   17\n",
       "google_cpc               15\n",
       "article                  15\n",
       "web_polka                11\n",
       "fb_smm                    8\n",
       "medium                    8\n",
       "ok_smm                    6\n",
       "nkp                       5\n",
       "social                    5\n",
       "catalogue                 4\n",
       "main_polka                3\n",
       "reach                     2\n",
       "promo_sber                2\n",
       "linktest                  2\n",
       "users_msk                 2\n",
       "last                      1\n",
       "qrcodevideo               1\n",
       "qr                        1\n",
       "dom_click                 1\n",
       "promo_sbol                1\n",
       "tablet                    1\n",
       "landing_interests         1\n",
       "sbol_catalog              1\n",
       "sber_app                  1\n",
       "Name: count, dtype: int64"
      ]
     },
     "execution_count": 504,
     "metadata": {},
     "output_type": "execute_result"
    }
   ],
   "source": [
    "# немного преобразуем utm_medium чтобы уменьшить количество уникальных значений\n",
    "df_clean.utm_medium = df_clean.utm_medium.apply(lambda x: x.lower())\n",
    "df_clean.utm_medium.value_counts().sort_values(ascending=False)"
   ]
  },
  {
   "cell_type": "code",
   "execution_count": 505,
   "id": "d6efe8b5-d24e-4883-9d77-2240067797cc",
   "metadata": {
    "tags": []
   },
   "outputs": [
    {
     "data": {
      "text/html": [
       "<div>\n",
       "<style scoped>\n",
       "    .dataframe tbody tr th:only-of-type {\n",
       "        vertical-align: middle;\n",
       "    }\n",
       "\n",
       "    .dataframe tbody tr th {\n",
       "        vertical-align: top;\n",
       "    }\n",
       "\n",
       "    .dataframe thead th {\n",
       "        text-align: right;\n",
       "    }\n",
       "</style>\n",
       "<table border=\"1\" class=\"dataframe\">\n",
       "  <thead>\n",
       "    <tr style=\"text-align: right;\">\n",
       "      <th></th>\n",
       "      <th>utm_medium</th>\n",
       "      <th>event_value</th>\n",
       "    </tr>\n",
       "  </thead>\n",
       "  <tbody>\n",
       "    <tr>\n",
       "      <th>0</th>\n",
       "      <td>banner</td>\n",
       "      <td>0</td>\n",
       "    </tr>\n",
       "    <tr>\n",
       "      <th>1</th>\n",
       "      <td>cpm</td>\n",
       "      <td>0</td>\n",
       "    </tr>\n",
       "    <tr>\n",
       "      <th>2</th>\n",
       "      <td>banner</td>\n",
       "      <td>0</td>\n",
       "    </tr>\n",
       "    <tr>\n",
       "      <th>3</th>\n",
       "      <td>cpc</td>\n",
       "      <td>0</td>\n",
       "    </tr>\n",
       "    <tr>\n",
       "      <th>4</th>\n",
       "      <td>cpc</td>\n",
       "      <td>0</td>\n",
       "    </tr>\n",
       "    <tr>\n",
       "      <th>...</th>\n",
       "      <td>...</td>\n",
       "      <td>...</td>\n",
       "    </tr>\n",
       "    <tr>\n",
       "      <th>1732261</th>\n",
       "      <td>cpc</td>\n",
       "      <td>0</td>\n",
       "    </tr>\n",
       "    <tr>\n",
       "      <th>1732262</th>\n",
       "      <td>(none)</td>\n",
       "      <td>0</td>\n",
       "    </tr>\n",
       "    <tr>\n",
       "      <th>1732263</th>\n",
       "      <td>(none)</td>\n",
       "      <td>0</td>\n",
       "    </tr>\n",
       "    <tr>\n",
       "      <th>1732264</th>\n",
       "      <td>banner</td>\n",
       "      <td>0</td>\n",
       "    </tr>\n",
       "    <tr>\n",
       "      <th>1732265</th>\n",
       "      <td>cpm</td>\n",
       "      <td>0</td>\n",
       "    </tr>\n",
       "  </tbody>\n",
       "</table>\n",
       "<p>1732266 rows × 2 columns</p>\n",
       "</div>"
      ],
      "text/plain": [
       "        utm_medium  event_value\n",
       "0           banner            0\n",
       "1              cpm            0\n",
       "2           banner            0\n",
       "3              cpc            0\n",
       "4              cpc            0\n",
       "...            ...          ...\n",
       "1732261        cpc            0\n",
       "1732262     (none)            0\n",
       "1732263     (none)            0\n",
       "1732264     banner            0\n",
       "1732265        cpm            0\n",
       "\n",
       "[1732266 rows x 2 columns]"
      ]
     },
     "execution_count": 505,
     "metadata": {},
     "output_type": "execute_result"
    }
   ],
   "source": [
    "df_clean[['utm_medium', 'event_value']]"
   ]
  },
  {
   "cell_type": "code",
   "execution_count": 506,
   "id": "d8ca1b5d-1adf-404a-9dd2-edfc478db8a6",
   "metadata": {
    "tags": []
   },
   "outputs": [
    {
     "data": {
      "text/html": [
       "<div>\n",
       "<style scoped>\n",
       "    .dataframe tbody tr th:only-of-type {\n",
       "        vertical-align: middle;\n",
       "    }\n",
       "\n",
       "    .dataframe tbody tr th {\n",
       "        vertical-align: top;\n",
       "    }\n",
       "\n",
       "    .dataframe thead th {\n",
       "        text-align: right;\n",
       "    }\n",
       "</style>\n",
       "<table border=\"1\" class=\"dataframe\">\n",
       "  <thead>\n",
       "    <tr style=\"text-align: right;\">\n",
       "      <th></th>\n",
       "      <th>utm_medium</th>\n",
       "      <th>sum</th>\n",
       "    </tr>\n",
       "  </thead>\n",
       "  <tbody>\n",
       "    <tr>\n",
       "      <th>4</th>\n",
       "      <td>banner</td>\n",
       "      <td>15107</td>\n",
       "    </tr>\n",
       "    <tr>\n",
       "      <th>0</th>\n",
       "      <td>(none)</td>\n",
       "      <td>10531</td>\n",
       "    </tr>\n",
       "    <tr>\n",
       "      <th>12</th>\n",
       "      <td>cpc</td>\n",
       "      <td>9529</td>\n",
       "    </tr>\n",
       "    <tr>\n",
       "      <th>39</th>\n",
       "      <td>referral</td>\n",
       "      <td>8181</td>\n",
       "    </tr>\n",
       "    <tr>\n",
       "      <th>13</th>\n",
       "      <td>cpm</td>\n",
       "      <td>2522</td>\n",
       "    </tr>\n",
       "    <tr>\n",
       "      <th>29</th>\n",
       "      <td>organic</td>\n",
       "      <td>2100</td>\n",
       "    </tr>\n",
       "    <tr>\n",
       "      <th>35</th>\n",
       "      <td>push</td>\n",
       "      <td>840</td>\n",
       "    </tr>\n",
       "    <tr>\n",
       "      <th>16</th>\n",
       "      <td>email</td>\n",
       "      <td>401</td>\n",
       "    </tr>\n",
       "    <tr>\n",
       "      <th>42</th>\n",
       "      <td>smartbanner</td>\n",
       "      <td>179</td>\n",
       "    </tr>\n",
       "    <tr>\n",
       "      <th>5</th>\n",
       "      <td>blogger_channel</td>\n",
       "      <td>162</td>\n",
       "    </tr>\n",
       "    <tr>\n",
       "      <th>11</th>\n",
       "      <td>cpa</td>\n",
       "      <td>131</td>\n",
       "    </tr>\n",
       "    <tr>\n",
       "      <th>47</th>\n",
       "      <td>stories</td>\n",
       "      <td>126</td>\n",
       "    </tr>\n",
       "    <tr>\n",
       "      <th>14</th>\n",
       "      <td>cpv</td>\n",
       "      <td>115</td>\n",
       "    </tr>\n",
       "    <tr>\n",
       "      <th>43</th>\n",
       "      <td>smm</td>\n",
       "      <td>87</td>\n",
       "    </tr>\n",
       "    <tr>\n",
       "      <th>32</th>\n",
       "      <td>post</td>\n",
       "      <td>54</td>\n",
       "    </tr>\n",
       "    <tr>\n",
       "      <th>49</th>\n",
       "      <td>tg</td>\n",
       "      <td>51</td>\n",
       "    </tr>\n",
       "    <tr>\n",
       "      <th>10</th>\n",
       "      <td>clicks</td>\n",
       "      <td>42</td>\n",
       "    </tr>\n",
       "    <tr>\n",
       "      <th>7</th>\n",
       "      <td>blogger_stories</td>\n",
       "      <td>35</td>\n",
       "    </tr>\n",
       "    <tr>\n",
       "      <th>1</th>\n",
       "      <td>(not set)</td>\n",
       "      <td>28</td>\n",
       "    </tr>\n",
       "    <tr>\n",
       "      <th>20</th>\n",
       "      <td>landing</td>\n",
       "      <td>19</td>\n",
       "    </tr>\n",
       "    <tr>\n",
       "      <th>30</th>\n",
       "      <td>outlook</td>\n",
       "      <td>19</td>\n",
       "    </tr>\n",
       "    <tr>\n",
       "      <th>23</th>\n",
       "      <td>link</td>\n",
       "      <td>17</td>\n",
       "    </tr>\n",
       "    <tr>\n",
       "      <th>44</th>\n",
       "      <td>sms</td>\n",
       "      <td>16</td>\n",
       "    </tr>\n",
       "    <tr>\n",
       "      <th>2</th>\n",
       "      <td>app</td>\n",
       "      <td>11</td>\n",
       "    </tr>\n",
       "    <tr>\n",
       "      <th>19</th>\n",
       "      <td>info_text</td>\n",
       "      <td>2</td>\n",
       "    </tr>\n",
       "    <tr>\n",
       "      <th>6</th>\n",
       "      <td>blogger_header</td>\n",
       "      <td>2</td>\n",
       "    </tr>\n",
       "    <tr>\n",
       "      <th>46</th>\n",
       "      <td>static</td>\n",
       "      <td>1</td>\n",
       "    </tr>\n",
       "    <tr>\n",
       "      <th>45</th>\n",
       "      <td>social</td>\n",
       "      <td>1</td>\n",
       "    </tr>\n",
       "    <tr>\n",
       "      <th>31</th>\n",
       "      <td>partner</td>\n",
       "      <td>1</td>\n",
       "    </tr>\n",
       "    <tr>\n",
       "      <th>53</th>\n",
       "      <td>yandex_cpc</td>\n",
       "      <td>1</td>\n",
       "    </tr>\n",
       "    <tr>\n",
       "      <th>26</th>\n",
       "      <td>medium</td>\n",
       "      <td>1</td>\n",
       "    </tr>\n",
       "    <tr>\n",
       "      <th>15</th>\n",
       "      <td>dom_click</td>\n",
       "      <td>1</td>\n",
       "    </tr>\n",
       "    <tr>\n",
       "      <th>17</th>\n",
       "      <td>fb_smm</td>\n",
       "      <td>1</td>\n",
       "    </tr>\n",
       "    <tr>\n",
       "      <th>28</th>\n",
       "      <td>ok_smm</td>\n",
       "      <td>0</td>\n",
       "    </tr>\n",
       "    <tr>\n",
       "      <th>52</th>\n",
       "      <td>web_polka</td>\n",
       "      <td>0</td>\n",
       "    </tr>\n",
       "    <tr>\n",
       "      <th>51</th>\n",
       "      <td>vk_smm</td>\n",
       "      <td>0</td>\n",
       "    </tr>\n",
       "    <tr>\n",
       "      <th>50</th>\n",
       "      <td>users_msk</td>\n",
       "      <td>0</td>\n",
       "    </tr>\n",
       "    <tr>\n",
       "      <th>3</th>\n",
       "      <td>article</td>\n",
       "      <td>0</td>\n",
       "    </tr>\n",
       "    <tr>\n",
       "      <th>48</th>\n",
       "      <td>tablet</td>\n",
       "      <td>0</td>\n",
       "    </tr>\n",
       "    <tr>\n",
       "      <th>8</th>\n",
       "      <td>catalogue</td>\n",
       "      <td>0</td>\n",
       "    </tr>\n",
       "    <tr>\n",
       "      <th>9</th>\n",
       "      <td>cbaafe</td>\n",
       "      <td>0</td>\n",
       "    </tr>\n",
       "    <tr>\n",
       "      <th>18</th>\n",
       "      <td>google_cpc</td>\n",
       "      <td>0</td>\n",
       "    </tr>\n",
       "    <tr>\n",
       "      <th>21</th>\n",
       "      <td>landing_interests</td>\n",
       "      <td>0</td>\n",
       "    </tr>\n",
       "    <tr>\n",
       "      <th>41</th>\n",
       "      <td>sbol_catalog</td>\n",
       "      <td>0</td>\n",
       "    </tr>\n",
       "    <tr>\n",
       "      <th>40</th>\n",
       "      <td>sber_app</td>\n",
       "      <td>0</td>\n",
       "    </tr>\n",
       "    <tr>\n",
       "      <th>22</th>\n",
       "      <td>last</td>\n",
       "      <td>0</td>\n",
       "    </tr>\n",
       "    <tr>\n",
       "      <th>38</th>\n",
       "      <td>reach</td>\n",
       "      <td>0</td>\n",
       "    </tr>\n",
       "    <tr>\n",
       "      <th>37</th>\n",
       "      <td>qrcodevideo</td>\n",
       "      <td>0</td>\n",
       "    </tr>\n",
       "    <tr>\n",
       "      <th>36</th>\n",
       "      <td>qr</td>\n",
       "      <td>0</td>\n",
       "    </tr>\n",
       "    <tr>\n",
       "      <th>24</th>\n",
       "      <td>linktest</td>\n",
       "      <td>0</td>\n",
       "    </tr>\n",
       "    <tr>\n",
       "      <th>34</th>\n",
       "      <td>promo_sbol</td>\n",
       "      <td>0</td>\n",
       "    </tr>\n",
       "    <tr>\n",
       "      <th>33</th>\n",
       "      <td>promo_sber</td>\n",
       "      <td>0</td>\n",
       "    </tr>\n",
       "    <tr>\n",
       "      <th>25</th>\n",
       "      <td>main_polka</td>\n",
       "      <td>0</td>\n",
       "    </tr>\n",
       "    <tr>\n",
       "      <th>27</th>\n",
       "      <td>nkp</td>\n",
       "      <td>0</td>\n",
       "    </tr>\n",
       "  </tbody>\n",
       "</table>\n",
       "</div>"
      ],
      "text/plain": [
       "           utm_medium    sum\n",
       "4              banner  15107\n",
       "0              (none)  10531\n",
       "12                cpc   9529\n",
       "39           referral   8181\n",
       "13                cpm   2522\n",
       "29            organic   2100\n",
       "35               push    840\n",
       "16              email    401\n",
       "42        smartbanner    179\n",
       "5     blogger_channel    162\n",
       "11                cpa    131\n",
       "47            stories    126\n",
       "14                cpv    115\n",
       "43                smm     87\n",
       "32               post     54\n",
       "49                 tg     51\n",
       "10             clicks     42\n",
       "7     blogger_stories     35\n",
       "1           (not set)     28\n",
       "20            landing     19\n",
       "30            outlook     19\n",
       "23               link     17\n",
       "44                sms     16\n",
       "2                 app     11\n",
       "19          info_text      2\n",
       "6      blogger_header      2\n",
       "46             static      1\n",
       "45             social      1\n",
       "31            partner      1\n",
       "53         yandex_cpc      1\n",
       "26             medium      1\n",
       "15          dom_click      1\n",
       "17             fb_smm      1\n",
       "28             ok_smm      0\n",
       "52          web_polka      0\n",
       "51             vk_smm      0\n",
       "50          users_msk      0\n",
       "3             article      0\n",
       "48             tablet      0\n",
       "8           catalogue      0\n",
       "9              cbaafe      0\n",
       "18         google_cpc      0\n",
       "21  landing_interests      0\n",
       "41       sbol_catalog      0\n",
       "40           sber_app      0\n",
       "22               last      0\n",
       "38              reach      0\n",
       "37        qrcodevideo      0\n",
       "36                 qr      0\n",
       "24           linktest      0\n",
       "34         promo_sbol      0\n",
       "33         promo_sber      0\n",
       "25         main_polka      0\n",
       "27                nkp      0"
      ]
     },
     "execution_count": 506,
     "metadata": {},
     "output_type": "execute_result"
    }
   ],
   "source": [
    "# сгруппируем дф по utm_medium и посмотрим какой тип привлечения дает больше целевых действий\n",
    "stats = df_clean.groupby(['utm_medium'], as_index=False).agg({'event_value': 'sum'}).sort_values(ascending=False, by='event_value')\n",
    "stats = stats.rename(columns = {'event_value': 'sum'})\n",
    "stats\n",
    "\n",
    "# лучше всего работает тип привлечения banner, (none) - органический трафик по условию задачи"
   ]
  },
  {
   "cell_type": "code",
   "execution_count": 507,
   "id": "8578168b-096a-4e84-b771-0f297952eee7",
   "metadata": {
    "tags": []
   },
   "outputs": [
    {
     "data": {
      "text/plain": [
       "['ok_smm',\n",
       " 'web_polka',\n",
       " 'vk_smm',\n",
       " 'users_msk',\n",
       " 'article',\n",
       " 'tablet',\n",
       " 'catalogue',\n",
       " 'cbaafe',\n",
       " 'google_cpc',\n",
       " 'landing_interests',\n",
       " 'sbol_catalog',\n",
       " 'sber_app',\n",
       " 'last',\n",
       " 'reach',\n",
       " 'qrcodevideo',\n",
       " 'qr',\n",
       " 'linktest',\n",
       " 'promo_sbol',\n",
       " 'promo_sber',\n",
       " 'main_polka',\n",
       " 'nkp']"
      ]
     },
     "execution_count": 507,
     "metadata": {},
     "output_type": "execute_result"
    }
   ],
   "source": [
    "# выберем только те типы привлечения, из которых не было совершено ни одного целевого действия\n",
    "utm_medium_list = stats[stats['sum'] == 0].loc[:, 'utm_medium'].tolist()\n",
    "utm_medium_list"
   ]
  },
  {
   "cell_type": "code",
   "execution_count": 508,
   "id": "29367445-4abf-4057-911f-a4817affc6b5",
   "metadata": {
    "tags": []
   },
   "outputs": [],
   "source": [
    "# заменим их на значение other\n",
    "for el in utm_medium_list:\n",
    "    df_clean.utm_medium = df_clean.utm_medium.replace(el, 'other')"
   ]
  },
  {
   "cell_type": "code",
   "execution_count": 509,
   "id": "042cc205-e2f2-452b-a5cb-1d609b434023",
   "metadata": {
    "tags": []
   },
   "outputs": [
    {
     "data": {
      "text/plain": [
       "utm_medium\n",
       "banner             525206\n",
       "cpc                399395\n",
       "organic            332069\n",
       "cpm                229827\n",
       "referral           136851\n",
       "email               28287\n",
       "push                27710\n",
       "stories             10472\n",
       "cpv                  7815\n",
       "blogger_channel      7731\n",
       "smartbanner          6501\n",
       "blogger_stories      4226\n",
       "tg                   3920\n",
       "cpa                  3266\n",
       "post                 2227\n",
       "outlook              1269\n",
       "app                  1211\n",
       "smm                  1194\n",
       "clicks                908\n",
       "blogger_header        760\n",
       "other                 548\n",
       "info_text             335\n",
       "sms                   194\n",
       "landing               127\n",
       "partner                95\n",
       "link                   52\n",
       "yandex_cpc             31\n",
       "static                 17\n",
       "fb_smm                  8\n",
       "medium                  8\n",
       "social                  5\n",
       "dom_click               1\n",
       "Name: count, dtype: int64"
      ]
     },
     "execution_count": 509,
     "metadata": {},
     "output_type": "execute_result"
    }
   ],
   "source": [
    "# заменим не заданные значения на other\n",
    "df_clean.utm_medium = df_clean.utm_medium.replace('(not set)', 'other')\n",
    "\n",
    "# заменим (none) на organic, так как это тоже органический трафик\n",
    "df_clean.utm_medium = df_clean.utm_medium.replace('(none)', 'organic')\n",
    "df_clean.utm_medium.value_counts().sort_values(ascending=False)"
   ]
  },
  {
   "cell_type": "code",
   "execution_count": 510,
   "id": "5a89cd5b-c699-4933-969f-dc3628ab1b87",
   "metadata": {
    "tags": []
   },
   "outputs": [
    {
     "data": {
      "text/plain": [
       "32"
      ]
     },
     "execution_count": 510,
     "metadata": {},
     "output_type": "execute_result"
    }
   ],
   "source": [
    "df_clean.utm_medium.nunique() # сократили количество уникальных значений utm_medium"
   ]
  },
  {
   "cell_type": "markdown",
   "id": "693c2ac9-26f2-431e-9545-43dab8ed63c1",
   "metadata": {
    "jp-MarkdownHeadingCollapsed": true,
    "tags": []
   },
   "source": [
    "### device_category"
   ]
  },
  {
   "cell_type": "code",
   "execution_count": 511,
   "id": "7e33be9b-6f1d-4c88-a85e-86a0253bbae0",
   "metadata": {
    "tags": []
   },
   "outputs": [
    {
     "data": {
      "text/plain": [
       "device_category\n",
       "mobile     1368679\n",
       "desktop     346891\n",
       "tablet       16696\n",
       "Name: count, dtype: int64"
      ]
     },
     "execution_count": 511,
     "metadata": {},
     "output_type": "execute_result"
    }
   ],
   "source": [
    "df_clean.device_category.value_counts(dropna=False).sort_values(ascending=False)\n",
    "# тут все чисто - больше всего пользователей заходят с мобильных устройств"
   ]
  },
  {
   "cell_type": "markdown",
   "id": "272da9db-94dd-472a-9b1d-31e81e5696f9",
   "metadata": {
    "jp-MarkdownHeadingCollapsed": true,
    "tags": []
   },
   "source": [
    "### device_brand"
   ]
  },
  {
   "cell_type": "code",
   "execution_count": 512,
   "id": "3d5dc195-7e3c-49ae-baa7-6c05b3072a14",
   "metadata": {
    "tags": []
   },
   "outputs": [
    {
     "data": {
      "text/plain": [
       "device_brand\n",
       "Apple        526948\n",
       "Samsung      311641\n",
       "Xiaomi       269251\n",
       "other        253817\n",
       "Huawei       173828\n",
       "              ...  \n",
       "M-HORSE           1\n",
       "Winnovo           1\n",
       "Maze              1\n",
       "Honeywell         1\n",
       "Maxvi             1\n",
       "Name: count, Length: 201, dtype: int64"
      ]
     },
     "execution_count": 512,
     "metadata": {},
     "output_type": "execute_result"
    }
   ],
   "source": [
    "df_clean.device_brand.value_counts().sort_values(ascending=False)"
   ]
  },
  {
   "cell_type": "code",
   "execution_count": 513,
   "id": "5edd78e1-358c-420e-be12-e04e4d555e49",
   "metadata": {
    "tags": []
   },
   "outputs": [
    {
     "data": {
      "text/plain": [
       "201"
      ]
     },
     "execution_count": 513,
     "metadata": {},
     "output_type": "execute_result"
    }
   ],
   "source": [
    "df_clean.device_brand.nunique() # 201 бренд многовато, сократим"
   ]
  },
  {
   "cell_type": "code",
   "execution_count": 514,
   "id": "ffb6d81f-4a55-4c3c-96f9-529af1955364",
   "metadata": {
    "tags": []
   },
   "outputs": [],
   "source": [
    "df_clean.device_brand = df_clean.device_brand.apply(lambda x: x.lower())"
   ]
  },
  {
   "cell_type": "code",
   "execution_count": 515,
   "id": "a2c2800d-e018-4c00-bb30-9014430a9e67",
   "metadata": {
    "tags": []
   },
   "outputs": [
    {
     "data": {
      "text/plain": [
       "device_brand\n",
       "apple        526948\n",
       "samsung      311641\n",
       "xiaomi       269251\n",
       "other        253817\n",
       "huawei       173828\n",
       "              ...  \n",
       "m-horse           1\n",
       "winnovo           1\n",
       "maze              1\n",
       "honeywell         1\n",
       "maxvi             1\n",
       "Name: count, Length: 201, dtype: int64"
      ]
     },
     "execution_count": 515,
     "metadata": {},
     "output_type": "execute_result"
    }
   ],
   "source": [
    "df_clean.device_brand.value_counts().sort_values(ascending=False)"
   ]
  },
  {
   "cell_type": "code",
   "execution_count": 516,
   "id": "9b99fad8-c74b-42e6-9ac5-4af13a325fb1",
   "metadata": {
    "tags": []
   },
   "outputs": [
    {
     "data": {
      "text/html": [
       "<div>\n",
       "<style scoped>\n",
       "    .dataframe tbody tr th:only-of-type {\n",
       "        vertical-align: middle;\n",
       "    }\n",
       "\n",
       "    .dataframe tbody tr th {\n",
       "        vertical-align: top;\n",
       "    }\n",
       "\n",
       "    .dataframe thead th {\n",
       "        text-align: right;\n",
       "    }\n",
       "</style>\n",
       "<table border=\"1\" class=\"dataframe\">\n",
       "  <thead>\n",
       "    <tr style=\"text-align: right;\">\n",
       "      <th></th>\n",
       "      <th>visit_time</th>\n",
       "      <th>utm_medium</th>\n",
       "      <th>device_category</th>\n",
       "      <th>device_brand</th>\n",
       "      <th>device_browser</th>\n",
       "      <th>geo_country</th>\n",
       "      <th>geo_city</th>\n",
       "      <th>hit_number</th>\n",
       "      <th>event_value</th>\n",
       "      <th>date</th>\n",
       "      <th>device_screen</th>\n",
       "    </tr>\n",
       "  </thead>\n",
       "  <tbody>\n",
       "  </tbody>\n",
       "</table>\n",
       "</div>"
      ],
      "text/plain": [
       "Empty DataFrame\n",
       "Columns: [visit_time, utm_medium, device_category, device_brand, device_browser, geo_country, geo_city, hit_number, event_value, date, device_screen]\n",
       "Index: []"
      ]
     },
     "execution_count": 516,
     "metadata": {},
     "output_type": "execute_result"
    }
   ],
   "source": [
    "df_clean[df_clean.device_brand == '(not set)'] "
   ]
  },
  {
   "cell_type": "code",
   "execution_count": 517,
   "id": "85f766b7-4a68-4e50-b768-d1d8834de47b",
   "metadata": {
    "tags": []
   },
   "outputs": [
    {
     "data": {
      "text/html": [
       "<div>\n",
       "<style scoped>\n",
       "    .dataframe tbody tr th:only-of-type {\n",
       "        vertical-align: middle;\n",
       "    }\n",
       "\n",
       "    .dataframe tbody tr th {\n",
       "        vertical-align: top;\n",
       "    }\n",
       "\n",
       "    .dataframe thead th {\n",
       "        text-align: right;\n",
       "    }\n",
       "</style>\n",
       "<table border=\"1\" class=\"dataframe\">\n",
       "  <thead>\n",
       "    <tr style=\"text-align: right;\">\n",
       "      <th></th>\n",
       "      <th>device_brand</th>\n",
       "      <th>count</th>\n",
       "    </tr>\n",
       "  </thead>\n",
       "  <tbody>\n",
       "    <tr>\n",
       "      <th>8</th>\n",
       "      <td>apple</td>\n",
       "      <td>526948</td>\n",
       "    </tr>\n",
       "    <tr>\n",
       "      <th>148</th>\n",
       "      <td>samsung</td>\n",
       "      <td>311641</td>\n",
       "    </tr>\n",
       "    <tr>\n",
       "      <th>196</th>\n",
       "      <td>xiaomi</td>\n",
       "      <td>269251</td>\n",
       "    </tr>\n",
       "    <tr>\n",
       "      <th>133</th>\n",
       "      <td>other</td>\n",
       "      <td>253817</td>\n",
       "    </tr>\n",
       "    <tr>\n",
       "      <th>75</th>\n",
       "      <td>huawei</td>\n",
       "      <td>173828</td>\n",
       "    </tr>\n",
       "    <tr>\n",
       "      <th>...</th>\n",
       "      <td>...</td>\n",
       "      <td>...</td>\n",
       "    </tr>\n",
       "    <tr>\n",
       "      <th>105</th>\n",
       "      <td>m-horse</td>\n",
       "      <td>1</td>\n",
       "    </tr>\n",
       "    <tr>\n",
       "      <th>169</th>\n",
       "      <td>tonbux</td>\n",
       "      <td>1</td>\n",
       "    </tr>\n",
       "    <tr>\n",
       "      <th>25</th>\n",
       "      <td>centric</td>\n",
       "      <td>1</td>\n",
       "    </tr>\n",
       "    <tr>\n",
       "      <th>132</th>\n",
       "      <td>orbic</td>\n",
       "      <td>1</td>\n",
       "    </tr>\n",
       "    <tr>\n",
       "      <th>116</th>\n",
       "      <td>motive</td>\n",
       "      <td>1</td>\n",
       "    </tr>\n",
       "  </tbody>\n",
       "</table>\n",
       "<p>201 rows × 2 columns</p>\n",
       "</div>"
      ],
      "text/plain": [
       "    device_brand   count\n",
       "8          apple  526948\n",
       "148      samsung  311641\n",
       "196       xiaomi  269251\n",
       "133        other  253817\n",
       "75        huawei  173828\n",
       "..           ...     ...\n",
       "105      m-horse       1\n",
       "169       tonbux       1\n",
       "25       centric       1\n",
       "132        orbic       1\n",
       "116       motive       1\n",
       "\n",
       "[201 rows x 2 columns]"
      ]
     },
     "execution_count": 517,
     "metadata": {},
     "output_type": "execute_result"
    }
   ],
   "source": [
    "# сгруппируем дф по device_brand\n",
    "stats = df_clean.groupby(['device_brand'],as_index=False).agg({'device_category': 'count'}).sort_values(ascending=False, by = 'device_category')\n",
    "stats = stats.rename(columns = {'device_category': 'count'})\n",
    "stats"
   ]
  },
  {
   "cell_type": "code",
   "execution_count": 518,
   "id": "9c3904bb-8bbd-4f59-8ec4-6e8a00b9c527",
   "metadata": {
    "tags": []
   },
   "outputs": [
    {
     "data": {
      "text/plain": [
       "['alcatel',\n",
       " 'doogee',\n",
       " 'oukitel',\n",
       " 'htc',\n",
       " 'umidigi',\n",
       " 'ulefone',\n",
       " 'infinix',\n",
       " 'vsmart',\n",
       " 'leeco',\n",
       " 'blackberry',\n",
       " 'cubot',\n",
       " 'philips',\n",
       " 'mozilla',\n",
       " 'poco',\n",
       " 'sharp',\n",
       " 'vertex',\n",
       " 'tp-link',\n",
       " 'dexp',\n",
       " 'prestigio',\n",
       " 'leagoo',\n",
       " 'micromax',\n",
       " 'wileyfox',\n",
       " 'neffos',\n",
       " 'inoi',\n",
       " 'hisense',\n",
       " 'tcl',\n",
       " 'homtom',\n",
       " 'cat',\n",
       " 'karbonn',\n",
       " 'letv',\n",
       " 'highscreen',\n",
       " 'coolpad',\n",
       " 'agm',\n",
       " 'acer',\n",
       " 'haier',\n",
       " 'black fox',\n",
       " 'teclast',\n",
       " 'mito',\n",
       " 'chuwi',\n",
       " 'fly',\n",
       " 'inew',\n",
       " 'vernee',\n",
       " 'kyocera',\n",
       " 'nomu',\n",
       " 'nuu',\n",
       " 'wiko',\n",
       " 'elephone',\n",
       " 'kingplay',\n",
       " 'gionee',\n",
       " 'sonyericsson',\n",
       " 'digma',\n",
       " 'smartisan',\n",
       " 'noa',\n",
       " 'alldocube',\n",
       " 'general mobile',\n",
       " 'blu',\n",
       " 'tele2',\n",
       " 'amazon',\n",
       " 'symphony',\n",
       " 'kata',\n",
       " 'zoji',\n",
       " 'celkon',\n",
       " 'lava',\n",
       " 'pantech',\n",
       " 'qmobile',\n",
       " 'irbis',\n",
       " 'gome',\n",
       " 'yota devices',\n",
       " 'komu',\n",
       " 'e&l',\n",
       " 'condor',\n",
       " 'ark',\n",
       " 'razer',\n",
       " 'china phone',\n",
       " 'poptel',\n",
       " 'oysters',\n",
       " 'billion',\n",
       " 'flexymove',\n",
       " 'wigor',\n",
       " 'mtc',\n",
       " 'ananda',\n",
       " 'artel',\n",
       " 'thl',\n",
       " 'inui',\n",
       " 'explay',\n",
       " 'unihertz',\n",
       " 'iris',\n",
       " 'bluboo',\n",
       " 'a1',\n",
       " 'mediatek',\n",
       " 'infocus',\n",
       " 'guophone',\n",
       " 'h96',\n",
       " 'innjoo',\n",
       " 'caterpillar',\n",
       " 'keecoo',\n",
       " 'geotel',\n",
       " 'china mobile',\n",
       " 'essential',\n",
       " 'panasonic',\n",
       " 'senseit',\n",
       " 'jiake',\n",
       " 'advan',\n",
       " 'archos',\n",
       " 'yuntab',\n",
       " 'qbex',\n",
       " 'xgody',\n",
       " 'vestel',\n",
       " 'at&t',\n",
       " 'fairphone',\n",
       " 'land rover',\n",
       " 'mxq',\n",
       " 'fujitsu',\n",
       " 'turbopad',\n",
       " 'vertu',\n",
       " 'evercoss',\n",
       " 'red',\n",
       " 'ugoos',\n",
       " 'xiaolajiao',\n",
       " 'umi',\n",
       " 'walton',\n",
       " 'beelink',\n",
       " 'corn',\n",
       " 'pptv',\n",
       " 'mts',\n",
       " 'evertek',\n",
       " 'mls',\n",
       " 'ltc',\n",
       " 'dynamic',\n",
       " 'egreat',\n",
       " 'krip',\n",
       " 'ken xin da',\n",
       " 'dark',\n",
       " 'olla',\n",
       " 'gretel',\n",
       " 'how',\n",
       " 'gigaset',\n",
       " 'honor',\n",
       " 'honeywell',\n",
       " 'hafury',\n",
       " 'vodafone',\n",
       " 'flylion',\n",
       " 'wexler',\n",
       " 'wieppo',\n",
       " 'freetel',\n",
       " 'verizon',\n",
       " 'fero',\n",
       " 'wings mobile',\n",
       " 'winnovo',\n",
       " 'dragon touch',\n",
       " 'digiland',\n",
       " 'dell',\n",
       " 'china tvbox',\n",
       " 'kenxinda',\n",
       " 'itoos',\n",
       " 'jiayu',\n",
       " 'nomi',\n",
       " 'myphone',\n",
       " 'smarteo',\n",
       " 'smartfren',\n",
       " 'sonim',\n",
       " 'cube',\n",
       " 'mobiistar',\n",
       " 'star',\n",
       " 't-mobile',\n",
       " 'tagital',\n",
       " 'tanix',\n",
       " 'mlais',\n",
       " 'microsoft',\n",
       " 'maze',\n",
       " 'maxvi',\n",
       " 'tesla',\n",
       " 'texet',\n",
       " 'm-horse',\n",
       " 'tonbux',\n",
       " 'centric',\n",
       " 'orbic',\n",
       " 'motive']"
      ]
     },
     "execution_count": 518,
     "metadata": {},
     "output_type": "execute_result"
    }
   ],
   "source": [
    "# выделим бренды, которых меньше 1000\n",
    "device_brands_list = stats[stats['count'] < 1000].loc[:, 'device_brand'].unique().tolist()\n",
    "device_brands_list"
   ]
  },
  {
   "cell_type": "code",
   "execution_count": 519,
   "id": "0c086db9-7f54-4fb2-b0fa-9e83d9f6793a",
   "metadata": {
    "tags": []
   },
   "outputs": [],
   "source": [
    "# заменим их на other\n",
    "df_clean.device_brand = df_clean.device_brand.replace(device_brands_list, 'other')"
   ]
  },
  {
   "cell_type": "code",
   "execution_count": 520,
   "id": "df211b41-e05c-4816-aee8-0b2da6f4b9be",
   "metadata": {
    "tags": []
   },
   "outputs": [
    {
     "data": {
      "text/plain": [
       "device_brand\n",
       "apple        526948\n",
       "samsung      311641\n",
       "xiaomi       269251\n",
       "other        263771\n",
       "huawei       173828\n",
       "windows       86356\n",
       "realme        17926\n",
       "oppo          12775\n",
       "vivo          11026\n",
       "oneplus        9322\n",
       "asus           7487\n",
       "nokia          6864\n",
       "sony           6106\n",
       "zte            5987\n",
       "google         4472\n",
       "meizu          3529\n",
       "lenovo         2942\n",
       "blackview      2592\n",
       "tecno          2501\n",
       "lg             2256\n",
       "motorola       2189\n",
       "bq             1466\n",
       "itel           1031\n",
       "Name: count, dtype: int64"
      ]
     },
     "execution_count": 520,
     "metadata": {},
     "output_type": "execute_result"
    }
   ],
   "source": [
    "df_clean.device_brand.value_counts()"
   ]
  },
  {
   "cell_type": "code",
   "execution_count": 521,
   "id": "9e099316-5b5f-4399-9960-f19d62e224b3",
   "metadata": {
    "tags": []
   },
   "outputs": [
    {
     "data": {
      "text/plain": [
       "23"
      ]
     },
     "execution_count": 521,
     "metadata": {},
     "output_type": "execute_result"
    }
   ],
   "source": [
    "df_clean.device_brand.nunique() # сократили количество брендов до 23"
   ]
  },
  {
   "cell_type": "markdown",
   "id": "883f3fa3-574e-4a3c-83b6-7f8769ec779b",
   "metadata": {
    "jp-MarkdownHeadingCollapsed": true,
    "tags": []
   },
   "source": [
    "### device_browser"
   ]
  },
  {
   "cell_type": "code",
   "execution_count": 522,
   "id": "301059fd-7936-42f1-9eca-01a4c09695f6",
   "metadata": {
    "tags": []
   },
   "outputs": [
    {
     "data": {
      "text/plain": [
       "device_browser\n",
       "Chrome                              951573\n",
       "Safari                              436705\n",
       "YaBrowser                           123765\n",
       "Safari (in-app)                      65952\n",
       "Android Webview                      51919\n",
       "Samsung Internet                     44273\n",
       "Opera                                25094\n",
       "Firefox                              15738\n",
       "Edge                                 15196\n",
       "UC Browser                             815\n",
       "Mozilla Compatible Agent               336\n",
       "Android Runtime                        241\n",
       "[FBAN                                  115\n",
       "MRCHROME                                72\n",
       "Instagram 208.0.0.32.135 Android        72\n",
       "Instagram 209.0.0.21.119 Android        49\n",
       "Android Browser                         47\n",
       "Puffin                                  43\n",
       "Maxthon                                 30\n",
       "Internet Explorer                       24\n",
       "Opera Mini                              23\n",
       "Android                                 19\n",
       "Instagram 202.0.0.23.119                17\n",
       "Mozilla                                 16\n",
       "Instagram 194.0.0.36.172 Android        14\n",
       "Instagram 202.0.0.37.123 Android        12\n",
       "(not set)                               11\n",
       "com.vk.vkclient                          8\n",
       "Instagram 212.0.0.38.119 Android         6\n",
       "Coc Coc                                  6\n",
       "helloworld                               6\n",
       "Instagram 203.0.0.26.117                 6\n",
       "Instagram 192.0.0.37.119                 6\n",
       "Amazon Silk                              6\n",
       "Instagram 201.0.0.23.111                 5\n",
       "Instagram 216.0.0.12.135                 4\n",
       "Instagram 213.0.0.29.120 Android         4\n",
       "Instagram 207.0.0.28.118                 4\n",
       "Instagram 216.1.0.21.137 Android         4\n",
       "Instagram 158.0.0.30.123 Android         3\n",
       "Instagram 192.0.0.35.123 Android         3\n",
       "Instagram 213.0.0.19.117                 3\n",
       "SeaMonkey                                3\n",
       "MyApp                                    2\n",
       "Iron                                     2\n",
       "Instagram 199.0.0.27.120                 2\n",
       "Instagram 208.0.0.26.131                 2\n",
       "Instagram 199.1.0.34.119 Android         2\n",
       "NetFront                                 2\n",
       "MT6735_TD                                1\n",
       "NokiaX2-02                               1\n",
       "Nokia501                                 1\n",
       "com.zhiliaoapp.musically                 1\n",
       "Konqueror                                1\n",
       "Threads 202.0.0.23.119                   1\n",
       "Name: count, dtype: int64"
      ]
     },
     "execution_count": 522,
     "metadata": {},
     "output_type": "execute_result"
    }
   ],
   "source": [
    "df_clean.device_browser.value_counts().sort_values(ascending=False)"
   ]
  },
  {
   "cell_type": "code",
   "execution_count": 523,
   "id": "4007eddf-336c-4841-ada5-dd5ef251e8ad",
   "metadata": {
    "tags": []
   },
   "outputs": [
    {
     "data": {
      "text/plain": [
       "55"
      ]
     },
     "execution_count": 523,
     "metadata": {},
     "output_type": "execute_result"
    }
   ],
   "source": [
    "df_clean.device_browser.nunique()"
   ]
  },
  {
   "cell_type": "code",
   "execution_count": 524,
   "id": "a3cc19ce-4bd3-4e6f-b6bc-36d5e7ac1664",
   "metadata": {
    "tags": []
   },
   "outputs": [],
   "source": [
    "# заменим не заданные значения на other\n",
    "df_clean.device_browser = df_clean.device_browser.replace('(not set)', 'other')"
   ]
  },
  {
   "cell_type": "code",
   "execution_count": 525,
   "id": "72cffe95-64a7-4d40-85a6-bf497ce9ca41",
   "metadata": {
    "tags": []
   },
   "outputs": [
    {
     "data": {
      "text/plain": [
       "device_browser\n",
       "chrome                      951573\n",
       "safari                      502657\n",
       "yabrowser                   123765\n",
       "android                      52226\n",
       "samsung                      44273\n",
       "opera                        25117\n",
       "firefox                      15738\n",
       "edge                         15196\n",
       "uc                             815\n",
       "mozilla                        352\n",
       "instagram                      218\n",
       "[fban                          115\n",
       "mrchrome                        72\n",
       "puffin                          43\n",
       "maxthon                         30\n",
       "internet                        24\n",
       "other                           11\n",
       "com.vk.vkclient                  8\n",
       "coc                              6\n",
       "helloworld                       6\n",
       "amazon                           6\n",
       "seamonkey                        3\n",
       "myapp                            2\n",
       "netfront                         2\n",
       "iron                             2\n",
       "mt6735_td                        1\n",
       "nokiax2-02                       1\n",
       "nokia501                         1\n",
       "com.zhiliaoapp.musically         1\n",
       "konqueror                        1\n",
       "threads                          1\n",
       "Name: count, dtype: int64"
      ]
     },
     "execution_count": 525,
     "metadata": {},
     "output_type": "execute_result"
    }
   ],
   "source": [
    "# возьмем только первое слово до пробела - уменьшим количество уникальных значений\n",
    "df_clean.device_browser = df_clean.device_browser.apply(lambda x: x.lower().split(' ')[0])\n",
    "df_clean.device_browser.value_counts().sort_values(ascending=False)"
   ]
  },
  {
   "cell_type": "code",
   "execution_count": 526,
   "id": "918d73fc-38a2-47c2-a988-81cb9e007287",
   "metadata": {
    "tags": []
   },
   "outputs": [
    {
     "data": {
      "text/plain": [
       "31"
      ]
     },
     "execution_count": 526,
     "metadata": {},
     "output_type": "execute_result"
    }
   ],
   "source": [
    "df_clean.device_browser.nunique()"
   ]
  },
  {
   "cell_type": "markdown",
   "id": "993b7e86-2416-4088-8894-de73b5df9302",
   "metadata": {
    "jp-MarkdownHeadingCollapsed": true,
    "tags": []
   },
   "source": [
    "### geo_country, geo_city"
   ]
  },
  {
   "cell_type": "code",
   "execution_count": 528,
   "id": "5bbc42d1-c0f8-4bf9-a15c-69daafa88a93",
   "metadata": {
    "tags": []
   },
   "outputs": [],
   "source": [
    "df_saved = df_clean.copy()"
   ]
  },
  {
   "cell_type": "code",
   "execution_count": 530,
   "id": "1c8a6597-6946-4e52-a549-157c0f3f5926",
   "metadata": {
    "tags": []
   },
   "outputs": [
    {
     "data": {
      "text/plain": [
       "(1732266, 11)"
      ]
     },
     "execution_count": 530,
     "metadata": {},
     "output_type": "execute_result"
    }
   ],
   "source": [
    "df_clean.shape"
   ]
  },
  {
   "cell_type": "code",
   "execution_count": 531,
   "id": "588640f2-53fc-48c5-b2e1-7a43ed1d5c10",
   "metadata": {
    "tags": []
   },
   "outputs": [
    {
     "data": {
      "text/plain": [
       "0          Russia\n",
       "1          Russia\n",
       "2          Russia\n",
       "3          Russia\n",
       "4          Russia\n",
       "            ...  \n",
       "1732261    Russia\n",
       "1732262    Russia\n",
       "1732263    Russia\n",
       "1732264    Russia\n",
       "1732265    Russia\n",
       "Name: geo_country, Length: 1732266, dtype: object"
      ]
     },
     "execution_count": 531,
     "metadata": {},
     "output_type": "execute_result"
    }
   ],
   "source": [
    "df_clean.geo_country"
   ]
  },
  {
   "cell_type": "code",
   "execution_count": 532,
   "id": "cd3cb92b-3915-46f2-942b-9a6cd5f2a2cc",
   "metadata": {
    "tags": []
   },
   "outputs": [
    {
     "data": {
      "text/plain": [
       "geo_country\n",
       "Russia           49156\n",
       "Ukraine            199\n",
       "Germany             78\n",
       "United States       64\n",
       "Belarus             59\n",
       "                 ...  \n",
       "Hong Kong            1\n",
       "Nigeria              1\n",
       "Ireland              1\n",
       "India                1\n",
       "Iran                 1\n",
       "Name: count, Length: 75, dtype: int64"
      ]
     },
     "execution_count": 532,
     "metadata": {},
     "output_type": "execute_result"
    }
   ],
   "source": [
    "# больше всего целевых действий совершено из России\n",
    "df_clean[df_clean.event_value == 1].loc[:, 'geo_country'].value_counts().sort_values(ascending=False)"
   ]
  },
  {
   "cell_type": "code",
   "execution_count": 533,
   "id": "529e0642-d4c1-4c40-a9fc-30b3cd7d5b34",
   "metadata": {
    "tags": []
   },
   "outputs": [
    {
     "data": {
      "text/plain": [
       "geo_city\n",
       "Moscow              23629\n",
       "Saint Petersburg     7113\n",
       "(not set)            1588\n",
       "Kazan                1139\n",
       "Krasnodar            1081\n",
       "                    ...  \n",
       "Belaya Kalitva          1\n",
       "Syzran                  1\n",
       "Agadir                  1\n",
       "Bonn                    1\n",
       "Sharm El-Sheikh         1\n",
       "Name: count, Length: 631, dtype: int64"
      ]
     },
     "execution_count": 533,
     "metadata": {},
     "output_type": "execute_result"
    }
   ],
   "source": [
    "# больше всего целевых действий совершено из Москвы и Питера\n",
    "df_clean[df_clean.event_value == 1].loc[:, 'geo_city'].value_counts().sort_values(ascending=False)"
   ]
  },
  {
   "cell_type": "code",
   "execution_count": 534,
   "id": "f0c873f4-0904-49bc-ac62-951d72cca91a",
   "metadata": {},
   "outputs": [
    {
     "data": {
      "text/html": [
       "<div>\n",
       "<style scoped>\n",
       "    .dataframe tbody tr th:only-of-type {\n",
       "        vertical-align: middle;\n",
       "    }\n",
       "\n",
       "    .dataframe tbody tr th {\n",
       "        vertical-align: top;\n",
       "    }\n",
       "\n",
       "    .dataframe thead th {\n",
       "        text-align: right;\n",
       "    }\n",
       "</style>\n",
       "<table border=\"1\" class=\"dataframe\">\n",
       "  <thead>\n",
       "    <tr style=\"text-align: right;\">\n",
       "      <th></th>\n",
       "      <th>geo_country</th>\n",
       "      <th>sum</th>\n",
       "    </tr>\n",
       "  </thead>\n",
       "  <tbody>\n",
       "    <tr>\n",
       "      <th>117</th>\n",
       "      <td>Russia</td>\n",
       "      <td>49156</td>\n",
       "    </tr>\n",
       "    <tr>\n",
       "      <th>148</th>\n",
       "      <td>Ukraine</td>\n",
       "      <td>199</td>\n",
       "    </tr>\n",
       "    <tr>\n",
       "      <th>50</th>\n",
       "      <td>Germany</td>\n",
       "      <td>78</td>\n",
       "    </tr>\n",
       "    <tr>\n",
       "      <th>151</th>\n",
       "      <td>United States</td>\n",
       "      <td>64</td>\n",
       "    </tr>\n",
       "    <tr>\n",
       "      <th>16</th>\n",
       "      <td>Belarus</td>\n",
       "      <td>59</td>\n",
       "    </tr>\n",
       "    <tr>\n",
       "      <th>...</th>\n",
       "      <td>...</td>\n",
       "      <td>...</td>\n",
       "    </tr>\n",
       "    <tr>\n",
       "      <th>80</th>\n",
       "      <td>Luxembourg</td>\n",
       "      <td>0</td>\n",
       "    </tr>\n",
       "    <tr>\n",
       "      <th>78</th>\n",
       "      <td>Libya</td>\n",
       "      <td>0</td>\n",
       "    </tr>\n",
       "    <tr>\n",
       "      <th>77</th>\n",
       "      <td>Lebanon</td>\n",
       "      <td>0</td>\n",
       "    </tr>\n",
       "    <tr>\n",
       "      <th>22</th>\n",
       "      <td>Burundi</td>\n",
       "      <td>0</td>\n",
       "    </tr>\n",
       "    <tr>\n",
       "      <th>158</th>\n",
       "      <td>Zimbabwe</td>\n",
       "      <td>0</td>\n",
       "    </tr>\n",
       "  </tbody>\n",
       "</table>\n",
       "<p>159 rows × 2 columns</p>\n",
       "</div>"
      ],
      "text/plain": [
       "       geo_country    sum\n",
       "117         Russia  49156\n",
       "148        Ukraine    199\n",
       "50         Germany     78\n",
       "151  United States     64\n",
       "16         Belarus     59\n",
       "..             ...    ...\n",
       "80      Luxembourg      0\n",
       "78           Libya      0\n",
       "77         Lebanon      0\n",
       "22         Burundi      0\n",
       "158       Zimbabwe      0\n",
       "\n",
       "[159 rows x 2 columns]"
      ]
     },
     "execution_count": 534,
     "metadata": {},
     "output_type": "execute_result"
    }
   ],
   "source": [
    "stats = df_clean.groupby(['geo_country'], as_index=False).agg({'event_value': 'sum'}).sort_values(ascending=False, by = 'event_value' )\n",
    "stats = stats.rename(columns = {'event_value': 'sum'})\n",
    "stats\n",
    "\n",
    "# целевые действия не только из России"
   ]
  },
  {
   "cell_type": "code",
   "execution_count": 535,
   "id": "89f1145c-2a1a-4f59-9183-1cac902869fe",
   "metadata": {
    "tags": []
   },
   "outputs": [
    {
     "data": {
      "text/plain": [
       "(1071, 11)"
      ]
     },
     "execution_count": 535,
     "metadata": {},
     "output_type": "execute_result"
    }
   ],
   "source": [
    "df_clean[(df_clean.geo_country == '(not set)')].shape"
   ]
  },
  {
   "cell_type": "code",
   "execution_count": 536,
   "id": "f66a15ae-4eae-466d-abf3-264a74787238",
   "metadata": {
    "tags": []
   },
   "outputs": [
    {
     "data": {
      "text/plain": [
       "(73297, 11)"
      ]
     },
     "execution_count": 536,
     "metadata": {},
     "output_type": "execute_result"
    }
   ],
   "source": [
    "df_clean[(df_clean.geo_city == '(not set)')].shape"
   ]
  },
  {
   "cell_type": "code",
   "execution_count": 537,
   "id": "716289a7-481a-4565-a172-4212c8d79e25",
   "metadata": {
    "tags": []
   },
   "outputs": [
    {
     "data": {
      "text/plain": [
       "(1731195, 11)"
      ]
     },
     "execution_count": 537,
     "metadata": {},
     "output_type": "execute_result"
    }
   ],
   "source": [
    "# удалим строки, где не указана страна\n",
    "index_list = df_clean[(df_clean.geo_country == '(not set)') & (df_clean.geo_city == '(not set)')].index.tolist()\n",
    "df_clean = df_clean.drop(index_list, axis=0)\n",
    "df_clean.shape"
   ]
  },
  {
   "cell_type": "code",
   "execution_count": 538,
   "id": "90a68f0c-ecd5-47e0-afdf-d8ba8553dc76",
   "metadata": {
    "tags": []
   },
   "outputs": [],
   "source": [
    "# заменим (not set) на ''\n",
    "df_clean.geo_city = df_clean.geo_city.replace('(not set)', '')\n",
    "df_clean.geo_city = df_clean.geo_city.replace(\"'\", \"\")"
   ]
  },
  {
   "cell_type": "code",
   "execution_count": 539,
   "id": "7507f9e9-081f-4309-937f-c635e877baa6",
   "metadata": {
    "tags": []
   },
   "outputs": [],
   "source": [
    "# создадим новую фичу полный адрес страна+город\n",
    "df_clean['full_address'] = df_clean.geo_country.str.cat(others=df_clean.geo_city, sep=', ', na_rep='')"
   ]
  },
  {
   "cell_type": "code",
   "execution_count": 540,
   "id": "4cf295ee-9dc4-4e86-97eb-74a57ce9beb2",
   "metadata": {
    "tags": []
   },
   "outputs": [
    {
     "data": {
      "text/plain": [
       "0             Russia, Zlatoust\n",
       "1               Russia, Moscow\n",
       "2          Russia, Krasnoyarsk\n",
       "3               Russia, Moscow\n",
       "4               Russia, Moscow\n",
       "                  ...         \n",
       "1732261         Russia, Moscow\n",
       "1732262      Russia, Stavropol\n",
       "1732263         Russia, Moscow\n",
       "1732264    Russia, Chelyabinsk\n",
       "1732265         Russia, Moscow\n",
       "Name: full_address, Length: 1731195, dtype: object"
      ]
     },
     "execution_count": 540,
     "metadata": {},
     "output_type": "execute_result"
    }
   ],
   "source": [
    "df_clean['full_address']"
   ]
  },
  {
   "cell_type": "code",
   "execution_count": 541,
   "id": "e379d1ff-4b8f-4cdd-8330-647be6d065c5",
   "metadata": {
    "tags": []
   },
   "outputs": [
    {
     "data": {
      "text/html": [
       "<div>\n",
       "<style scoped>\n",
       "    .dataframe tbody tr th:only-of-type {\n",
       "        vertical-align: middle;\n",
       "    }\n",
       "\n",
       "    .dataframe tbody tr th {\n",
       "        vertical-align: top;\n",
       "    }\n",
       "\n",
       "    .dataframe thead th {\n",
       "        text-align: right;\n",
       "    }\n",
       "</style>\n",
       "<table border=\"1\" class=\"dataframe\">\n",
       "  <thead>\n",
       "    <tr style=\"text-align: right;\">\n",
       "      <th></th>\n",
       "      <th>full_address</th>\n",
       "    </tr>\n",
       "  </thead>\n",
       "  <tbody>\n",
       "    <tr>\n",
       "      <th>0</th>\n",
       "      <td>Russia, Zlatoust</td>\n",
       "    </tr>\n",
       "    <tr>\n",
       "      <th>1</th>\n",
       "      <td>Russia, Moscow</td>\n",
       "    </tr>\n",
       "    <tr>\n",
       "      <th>2</th>\n",
       "      <td>Russia, Krasnoyarsk</td>\n",
       "    </tr>\n",
       "    <tr>\n",
       "      <th>3</th>\n",
       "      <td>Russia, Moscow</td>\n",
       "    </tr>\n",
       "    <tr>\n",
       "      <th>4</th>\n",
       "      <td>Russia, Moscow</td>\n",
       "    </tr>\n",
       "  </tbody>\n",
       "</table>\n",
       "</div>"
      ],
      "text/plain": [
       "          full_address\n",
       "0     Russia, Zlatoust\n",
       "1       Russia, Moscow\n",
       "2  Russia, Krasnoyarsk\n",
       "3       Russia, Moscow\n",
       "4       Russia, Moscow"
      ]
     },
     "execution_count": 541,
     "metadata": {},
     "output_type": "execute_result"
    }
   ],
   "source": [
    "tmp_df = df_clean.loc[:, ['full_address']]\n",
    "tmp_df.head()"
   ]
  },
  {
   "cell_type": "code",
   "execution_count": 542,
   "id": "94161101-4fa6-4eea-a5ac-5b43cdd5c45c",
   "metadata": {},
   "outputs": [
    {
     "data": {
      "text/plain": [
       "(1731195, 1)"
      ]
     },
     "execution_count": 542,
     "metadata": {},
     "output_type": "execute_result"
    }
   ],
   "source": [
    "tmp_df.shape"
   ]
  },
  {
   "cell_type": "code",
   "execution_count": 543,
   "id": "51c370fc-b931-4f18-a358-bd54e8ff42a2",
   "metadata": {
    "tags": []
   },
   "outputs": [
    {
     "data": {
      "text/html": [
       "<div>\n",
       "<style scoped>\n",
       "    .dataframe tbody tr th:only-of-type {\n",
       "        vertical-align: middle;\n",
       "    }\n",
       "\n",
       "    .dataframe tbody tr th {\n",
       "        vertical-align: top;\n",
       "    }\n",
       "\n",
       "    .dataframe thead th {\n",
       "        text-align: right;\n",
       "    }\n",
       "</style>\n",
       "<table border=\"1\" class=\"dataframe\">\n",
       "  <thead>\n",
       "    <tr style=\"text-align: right;\">\n",
       "      <th></th>\n",
       "      <th>full_address</th>\n",
       "    </tr>\n",
       "  </thead>\n",
       "  <tbody>\n",
       "    <tr>\n",
       "      <th>0</th>\n",
       "      <td>Russia, Zlatoust</td>\n",
       "    </tr>\n",
       "    <tr>\n",
       "      <th>1</th>\n",
       "      <td>Russia, Moscow</td>\n",
       "    </tr>\n",
       "    <tr>\n",
       "      <th>2</th>\n",
       "      <td>Russia, Krasnoyarsk</td>\n",
       "    </tr>\n",
       "    <tr>\n",
       "      <th>5</th>\n",
       "      <td>Russia, Saint Petersburg</td>\n",
       "    </tr>\n",
       "    <tr>\n",
       "      <th>13</th>\n",
       "      <td>Russia, Sochi</td>\n",
       "    </tr>\n",
       "  </tbody>\n",
       "</table>\n",
       "</div>"
      ],
      "text/plain": [
       "                full_address\n",
       "0           Russia, Zlatoust\n",
       "1             Russia, Moscow\n",
       "2        Russia, Krasnoyarsk\n",
       "5   Russia, Saint Petersburg\n",
       "13             Russia, Sochi"
      ]
     },
     "execution_count": 543,
     "metadata": {},
     "output_type": "execute_result"
    }
   ],
   "source": [
    "# возьмем только уникальные строки\n",
    "tmp_df = tmp_df.drop_duplicates()\n",
    "tmp_df.head()"
   ]
  },
  {
   "cell_type": "code",
   "execution_count": 544,
   "id": "2f36c281-78c3-4880-8721-3246333345f2",
   "metadata": {},
   "outputs": [
    {
     "data": {
      "text/plain": [
       "(2531, 1)"
      ]
     },
     "execution_count": 544,
     "metadata": {},
     "output_type": "execute_result"
    }
   ],
   "source": [
    "tmp_df.shape"
   ]
  },
  {
   "cell_type": "code",
   "execution_count": 545,
   "id": "ed8d6b35-952f-4f86-83ad-54e3eaba2c9d",
   "metadata": {
    "tags": []
   },
   "outputs": [],
   "source": [
    "# для ускорения теста берем образец поменьше\n",
    "# tmp_df = tmp_df.sample(frac = 0.01)\n",
    "# tmp_df.shape"
   ]
  },
  {
   "cell_type": "code",
   "execution_count": 546,
   "id": "e461cb49-3d9c-465a-9704-559aab9742db",
   "metadata": {
    "tags": []
   },
   "outputs": [],
   "source": [
    "# функция, которая запрашивает по стране+городу широту и долготу с openstreetmap\n",
    "def get_lat_lon(address):\n",
    "        url = f'https://nominatim.openstreetmap.org/search?q={address}&format=json&accept-language=en&NOMINATIM_REQUEST_TIMEOUT=None'\n",
    "        headers = {'user-agent': 'my-app/0.0.1'}\n",
    "\n",
    "        response = requests.get(url=url, headers=headers)\n",
    "        response.raise_for_status()\n",
    "\n",
    "        if response.status_code != 204:\n",
    "            result_json = response.json()\n",
    "            if result_json:   # если точка нашлась, то вернуть широту и долготу\n",
    "                return result_json[0]['lat'], result_json[0]['lon']\n",
    "            else:\n",
    "                return 0, 0   # иначе вернуть 0, 0"
   ]
  },
  {
   "cell_type": "code",
   "execution_count": 547,
   "id": "d8257edc-a678-4504-a7aa-cbd3a8a69546",
   "metadata": {
    "tags": []
   },
   "outputs": [],
   "source": [
    "# функция, которая возвращает словарь {страна+город: широта-долгота}\n",
    "def lat_lon_dict(data):\n",
    "    country_list = data.full_address.tolist()\n",
    "    lat_lon_list = data.lat_lon.tolist()\n",
    "\n",
    "    ll_dict = {}\n",
    "    for k, v in zip(country_list, lat_lon_list):\n",
    "        ll_dict[k] = v\n",
    "\n",
    "    return ll_dict"
   ]
  },
  {
   "cell_type": "code",
   "execution_count": 548,
   "id": "9555a4a0-967f-4d3f-9254-2098d2bfbedb",
   "metadata": {
    "tags": []
   },
   "outputs": [
    {
     "data": {
      "text/html": [
       "<div>\n",
       "<style scoped>\n",
       "    .dataframe tbody tr th:only-of-type {\n",
       "        vertical-align: middle;\n",
       "    }\n",
       "\n",
       "    .dataframe tbody tr th {\n",
       "        vertical-align: top;\n",
       "    }\n",
       "\n",
       "    .dataframe thead th {\n",
       "        text-align: right;\n",
       "    }\n",
       "</style>\n",
       "<table border=\"1\" class=\"dataframe\">\n",
       "  <thead>\n",
       "    <tr style=\"text-align: right;\">\n",
       "      <th></th>\n",
       "      <th>full_address</th>\n",
       "      <th>lat_lon</th>\n",
       "    </tr>\n",
       "  </thead>\n",
       "  <tbody>\n",
       "    <tr>\n",
       "      <th>0</th>\n",
       "      <td>Russia, Zlatoust</td>\n",
       "      <td>(55.1674213, 59.6792625)</td>\n",
       "    </tr>\n",
       "    <tr>\n",
       "      <th>1</th>\n",
       "      <td>Russia, Moscow</td>\n",
       "      <td>(55.7505412, 37.6174782)</td>\n",
       "    </tr>\n",
       "    <tr>\n",
       "      <th>2</th>\n",
       "      <td>Russia, Krasnoyarsk</td>\n",
       "      <td>(56.0090968, 92.8725147)</td>\n",
       "    </tr>\n",
       "    <tr>\n",
       "      <th>5</th>\n",
       "      <td>Russia, Saint Petersburg</td>\n",
       "      <td>(59.9606739, 30.1586551)</td>\n",
       "    </tr>\n",
       "    <tr>\n",
       "      <th>13</th>\n",
       "      <td>Russia, Sochi</td>\n",
       "      <td>(43.5854823, 39.723109)</td>\n",
       "    </tr>\n",
       "    <tr>\n",
       "      <th>...</th>\n",
       "      <td>...</td>\n",
       "      <td>...</td>\n",
       "    </tr>\n",
       "    <tr>\n",
       "      <th>1728122</th>\n",
       "      <td>United States, Frederick</td>\n",
       "      <td>(39.2127031, -78.279166)</td>\n",
       "    </tr>\n",
       "    <tr>\n",
       "      <th>1729536</th>\n",
       "      <td>Netherlands, Nijmegen</td>\n",
       "      <td>(51.8474946, 5.8637771)</td>\n",
       "    </tr>\n",
       "    <tr>\n",
       "      <th>1729668</th>\n",
       "      <td>Germany, Rosenheim</td>\n",
       "      <td>(47.8539273, 12.127262)</td>\n",
       "    </tr>\n",
       "    <tr>\n",
       "      <th>1730596</th>\n",
       "      <td>United States, Palatka</td>\n",
       "      <td>(29.6487882, -81.6372111)</td>\n",
       "    </tr>\n",
       "    <tr>\n",
       "      <th>1731268</th>\n",
       "      <td>Germany, Hagenow</td>\n",
       "      <td>(53.4305796, 11.1904828)</td>\n",
       "    </tr>\n",
       "  </tbody>\n",
       "</table>\n",
       "<p>2531 rows × 2 columns</p>\n",
       "</div>"
      ],
      "text/plain": [
       "                     full_address                    lat_lon\n",
       "0                Russia, Zlatoust   (55.1674213, 59.6792625)\n",
       "1                  Russia, Moscow   (55.7505412, 37.6174782)\n",
       "2             Russia, Krasnoyarsk   (56.0090968, 92.8725147)\n",
       "5        Russia, Saint Petersburg   (59.9606739, 30.1586551)\n",
       "13                  Russia, Sochi    (43.5854823, 39.723109)\n",
       "...                           ...                        ...\n",
       "1728122  United States, Frederick   (39.2127031, -78.279166)\n",
       "1729536     Netherlands, Nijmegen    (51.8474946, 5.8637771)\n",
       "1729668        Germany, Rosenheim    (47.8539273, 12.127262)\n",
       "1730596    United States, Palatka  (29.6487882, -81.6372111)\n",
       "1731268          Germany, Hagenow   (53.4305796, 11.1904828)\n",
       "\n",
       "[2531 rows x 2 columns]"
      ]
     },
     "execution_count": 548,
     "metadata": {},
     "output_type": "execute_result"
    }
   ],
   "source": [
    "tmp_df['lat_lon'] = tmp_df['full_address'].apply(lambda x: get_lat_lon(x))\n",
    "tmp_df.loc[:, ['full_address', 'lat_lon']]"
   ]
  },
  {
   "cell_type": "code",
   "execution_count": 552,
   "id": "16122049-7c0e-4655-a57c-fabd0812d422",
   "metadata": {},
   "outputs": [],
   "source": [
    "df_clean.loc[:, 'lat_lon'] = df_clean.loc[:, 'full_address']\n",
    "\n",
    "# с помощью словаря заполняем значения в рабочем дф\n",
    "df_clean['lat_lon'] = df_clean['lat_lon'].apply(lambda x: lat_lon_dict(tmp_df).get(x))\n",
    "\n",
    "# создаем отдельные колонки под ширину и долготу\n",
    "df_clean.loc[:, 'lat'] = df_clean.lat_lon.apply(lambda x: round(float(x[0]), 4))\n",
    "df_clean.loc[:, 'lon'] = df_clean.lat_lon.apply(lambda x: round(float(x[1]), 4))"
   ]
  },
  {
   "cell_type": "code",
   "execution_count": 553,
   "id": "a54d00b6-5efd-46fd-bd74-3561620712a4",
   "metadata": {},
   "outputs": [],
   "source": [
    "# удаляем колонки так как они больше не нужны\n",
    "df_clean = df_clean.drop(['geo_country', 'geo_city', 'full_address', 'lat_lon'], axis=1)"
   ]
  },
  {
   "cell_type": "code",
   "execution_count": 554,
   "id": "9b1be636-1d33-409e-8bfa-f445f219952e",
   "metadata": {
    "tags": []
   },
   "outputs": [
    {
     "data": {
      "text/plain": [
       "(1731195, 11)"
      ]
     },
     "execution_count": 554,
     "metadata": {},
     "output_type": "execute_result"
    }
   ],
   "source": [
    "df_clean.shape"
   ]
  },
  {
   "cell_type": "markdown",
   "id": "fb50ca52-5fd3-482f-af3b-38ab14022dff",
   "metadata": {
    "jp-MarkdownHeadingCollapsed": true,
    "tags": []
   },
   "source": [
    "### Проверка типов данных и feature engineering"
   ]
  },
  {
   "cell_type": "code",
   "execution_count": 555,
   "id": "ff30af09-a3a5-4c8a-835e-05772dbe740a",
   "metadata": {
    "tags": []
   },
   "outputs": [],
   "source": [
    "df_types = df_clean.copy()"
   ]
  },
  {
   "cell_type": "code",
   "execution_count": 556,
   "id": "58bec9c1-d47e-448f-ad13-a0861742d8e4",
   "metadata": {
    "tags": []
   },
   "outputs": [
    {
     "name": "stdout",
     "output_type": "stream",
     "text": [
      "<class 'pandas.core.frame.DataFrame'>\n",
      "Index: 1731195 entries, 0 to 1732265\n",
      "Data columns (total 11 columns):\n",
      " #   Column           Dtype  \n",
      "---  ------           -----  \n",
      " 0   visit_time       object \n",
      " 1   utm_medium       object \n",
      " 2   device_category  object \n",
      " 3   device_brand     object \n",
      " 4   device_browser   object \n",
      " 5   hit_number       float64\n",
      " 6   event_value      int64  \n",
      " 7   date             object \n",
      " 8   device_screen    int64  \n",
      " 9   lat              float64\n",
      " 10  lon              float64\n",
      "dtypes: float64(3), int64(2), object(6)\n",
      "memory usage: 158.5+ MB\n"
     ]
    }
   ],
   "source": [
    "df_types.info()"
   ]
  },
  {
   "cell_type": "code",
   "execution_count": 557,
   "id": "0c6dc671-0027-488d-bd17-53a3123eb465",
   "metadata": {},
   "outputs": [],
   "source": [
    "df_types.event_value = df_types.event_value.astype('int')"
   ]
  },
  {
   "cell_type": "code",
   "execution_count": 558,
   "id": "cf556320-cc37-4bb3-bb39-2a6409c94e0c",
   "metadata": {
    "tags": []
   },
   "outputs": [],
   "source": [
    "# дату приводим к соответствующему типу / создаем отдельные фичи под день/месяц/год\n",
    "df_types.date = pd.to_datetime(df_types.date, utc=True)"
   ]
  },
  {
   "cell_type": "code",
   "execution_count": 559,
   "id": "83254daf-7ab1-4d73-b0b0-bca6e9909b2d",
   "metadata": {
    "tags": []
   },
   "outputs": [],
   "source": [
    "df_types['dayofweek'] = df_types.date.dt.weekday "
   ]
  },
  {
   "cell_type": "code",
   "execution_count": 560,
   "id": "2cd0136f-b530-45d5-9341-f04c85e09900",
   "metadata": {
    "tags": []
   },
   "outputs": [],
   "source": [
    "df_types['month'] = df_types.date.dt.month "
   ]
  },
  {
   "cell_type": "code",
   "execution_count": 561,
   "id": "75884bd1-c5a7-4492-9f6f-4ccb3da7e6c1",
   "metadata": {
    "tags": []
   },
   "outputs": [],
   "source": [
    "df_types['year'] = df_types.date.dt.year"
   ]
  },
  {
   "cell_type": "code",
   "execution_count": 562,
   "id": "a666c8fd-4ad6-4caf-a0c4-2a3ec2d23257",
   "metadata": {
    "tags": []
   },
   "outputs": [
    {
     "data": {
      "text/plain": [
       "year\n",
       "2021    1731195\n",
       "Name: count, dtype: int64"
      ]
     },
     "execution_count": 562,
     "metadata": {},
     "output_type": "execute_result"
    }
   ],
   "source": [
    "df_types['year'].value_counts()"
   ]
  },
  {
   "cell_type": "code",
   "execution_count": 563,
   "id": "49a72f8f-1b8c-4383-8e04-a3e7d6f654a0",
   "metadata": {},
   "outputs": [],
   "source": [
    "# удалим год, так как одно уникальное значение\n",
    "df_types = df_types.drop('year', axis=1)"
   ]
  },
  {
   "cell_type": "code",
   "execution_count": 564,
   "id": "6f69e207-e360-4022-99d5-36b71275b931",
   "metadata": {
    "tags": []
   },
   "outputs": [
    {
     "data": {
      "text/html": [
       "<div>\n",
       "<style scoped>\n",
       "    .dataframe tbody tr th:only-of-type {\n",
       "        vertical-align: middle;\n",
       "    }\n",
       "\n",
       "    .dataframe tbody tr th {\n",
       "        vertical-align: top;\n",
       "    }\n",
       "\n",
       "    .dataframe thead th {\n",
       "        text-align: right;\n",
       "    }\n",
       "</style>\n",
       "<table border=\"1\" class=\"dataframe\">\n",
       "  <thead>\n",
       "    <tr style=\"text-align: right;\">\n",
       "      <th></th>\n",
       "      <th>utm_medium</th>\n",
       "      <th>device_category</th>\n",
       "      <th>device_brand</th>\n",
       "      <th>device_browser</th>\n",
       "      <th>hit_number</th>\n",
       "      <th>event_value</th>\n",
       "      <th>device_screen</th>\n",
       "      <th>lat</th>\n",
       "      <th>lon</th>\n",
       "      <th>dayofweek</th>\n",
       "      <th>month</th>\n",
       "    </tr>\n",
       "  </thead>\n",
       "  <tbody>\n",
       "    <tr>\n",
       "      <th>0</th>\n",
       "      <td>banner</td>\n",
       "      <td>mobile</td>\n",
       "      <td>huawei</td>\n",
       "      <td>chrome</td>\n",
       "      <td>3.50</td>\n",
       "      <td>0</td>\n",
       "      <td>259200</td>\n",
       "      <td>55.1674</td>\n",
       "      <td>59.6793</td>\n",
       "      <td>2</td>\n",
       "      <td>11</td>\n",
       "    </tr>\n",
       "    <tr>\n",
       "      <th>1</th>\n",
       "      <td>cpm</td>\n",
       "      <td>mobile</td>\n",
       "      <td>samsung</td>\n",
       "      <td>samsung</td>\n",
       "      <td>3.00</td>\n",
       "      <td>0</td>\n",
       "      <td>328790</td>\n",
       "      <td>55.7505</td>\n",
       "      <td>37.6175</td>\n",
       "      <td>6</td>\n",
       "      <td>11</td>\n",
       "    </tr>\n",
       "    <tr>\n",
       "      <th>2</th>\n",
       "      <td>banner</td>\n",
       "      <td>mobile</td>\n",
       "      <td>huawei</td>\n",
       "      <td>chrome</td>\n",
       "      <td>12.25</td>\n",
       "      <td>0</td>\n",
       "      <td>259200</td>\n",
       "      <td>56.0091</td>\n",
       "      <td>92.8725</td>\n",
       "      <td>1</td>\n",
       "      <td>12</td>\n",
       "    </tr>\n",
       "    <tr>\n",
       "      <th>3</th>\n",
       "      <td>cpc</td>\n",
       "      <td>mobile</td>\n",
       "      <td>xiaomi</td>\n",
       "      <td>chrome</td>\n",
       "      <td>5.00</td>\n",
       "      <td>0</td>\n",
       "      <td>308898</td>\n",
       "      <td>55.7505</td>\n",
       "      <td>37.6175</td>\n",
       "      <td>5</td>\n",
       "      <td>5</td>\n",
       "    </tr>\n",
       "    <tr>\n",
       "      <th>4</th>\n",
       "      <td>cpc</td>\n",
       "      <td>mobile</td>\n",
       "      <td>xiaomi</td>\n",
       "      <td>chrome</td>\n",
       "      <td>2.50</td>\n",
       "      <td>0</td>\n",
       "      <td>308898</td>\n",
       "      <td>55.7505</td>\n",
       "      <td>37.6175</td>\n",
       "      <td>5</td>\n",
       "      <td>5</td>\n",
       "    </tr>\n",
       "  </tbody>\n",
       "</table>\n",
       "</div>"
      ],
      "text/plain": [
       "  utm_medium device_category device_brand device_browser  hit_number  \\\n",
       "0     banner          mobile       huawei         chrome        3.50   \n",
       "1        cpm          mobile      samsung        samsung        3.00   \n",
       "2     banner          mobile       huawei         chrome       12.25   \n",
       "3        cpc          mobile       xiaomi         chrome        5.00   \n",
       "4        cpc          mobile       xiaomi         chrome        2.50   \n",
       "\n",
       "   event_value  device_screen      lat      lon  dayofweek  month  \n",
       "0            0         259200  55.1674  59.6793          2     11  \n",
       "1            0         328790  55.7505  37.6175          6     11  \n",
       "2            0         259200  56.0091  92.8725          1     12  \n",
       "3            0         308898  55.7505  37.6175          5      5  \n",
       "4            0         308898  55.7505  37.6175          5      5  "
      ]
     },
     "execution_count": 564,
     "metadata": {},
     "output_type": "execute_result"
    }
   ],
   "source": [
    "df_types = df_types.drop(['visit_time', 'date'], axis=1)\n",
    "df_types.head()"
   ]
  },
  {
   "cell_type": "code",
   "execution_count": 565,
   "id": "9f4ef14f-4755-44d6-9273-d0bac489f70f",
   "metadata": {
    "tags": []
   },
   "outputs": [
    {
     "name": "stdout",
     "output_type": "stream",
     "text": [
      "<class 'pandas.core.frame.DataFrame'>\n",
      "Index: 1731195 entries, 0 to 1732265\n",
      "Data columns (total 11 columns):\n",
      " #   Column           Dtype  \n",
      "---  ------           -----  \n",
      " 0   utm_medium       object \n",
      " 1   device_category  object \n",
      " 2   device_brand     object \n",
      " 3   device_browser   object \n",
      " 4   hit_number       float64\n",
      " 5   event_value      int64  \n",
      " 6   device_screen    int64  \n",
      " 7   lat              float64\n",
      " 8   lon              float64\n",
      " 9   dayofweek        int32  \n",
      " 10  month            int32  \n",
      "dtypes: float64(3), int32(2), int64(2), object(4)\n",
      "memory usage: 145.3+ MB\n"
     ]
    }
   ],
   "source": [
    "df_types.info()"
   ]
  },
  {
   "cell_type": "markdown",
   "id": "6ca2ca29-da39-4738-806e-21a74da59495",
   "metadata": {
    "jp-MarkdownHeadingCollapsed": true,
    "tags": []
   },
   "source": [
    "### Проверка на выбросы"
   ]
  },
  {
   "cell_type": "code",
   "execution_count": 639,
   "id": "e3243908-4dfd-44ed-870e-cb220a15d037",
   "metadata": {
    "tags": []
   },
   "outputs": [],
   "source": [
    "df_check = df_types.copy()"
   ]
  },
  {
   "cell_type": "code",
   "execution_count": 640,
   "id": "9a5af2d8-646a-4e17-b702-b9489d71d2c9",
   "metadata": {
    "tags": []
   },
   "outputs": [
    {
     "data": {
      "text/plain": [
       "Index(['utm_medium', 'device_category', 'device_brand', 'device_browser',\n",
       "       'hit_number', 'event_value', 'device_screen', 'lat', 'lon', 'dayofweek',\n",
       "       'month'],\n",
       "      dtype='object')"
      ]
     },
     "execution_count": 640,
     "metadata": {},
     "output_type": "execute_result"
    }
   ],
   "source": [
    "df_check.columns"
   ]
  },
  {
   "cell_type": "code",
   "execution_count": 641,
   "id": "e63d3240-89d1-45eb-aa73-33435fb37ee3",
   "metadata": {
    "tags": []
   },
   "outputs": [],
   "source": [
    "def calculate_outliers(data):\n",
    "    q25 = data.quantile(0.25)\n",
    "    q75 = data.quantile(0.75)\n",
    "    iqr = q75 - q25\n",
    "    boundaries = (q25 - 1.5 * iqr, q75 + 1.5 * iqr)\n",
    "\n",
    "    return boundaries"
   ]
  },
  {
   "cell_type": "code",
   "execution_count": 642,
   "id": "c5dee558-d098-4b63-90be-d46787bb095c",
   "metadata": {
    "tags": []
   },
   "outputs": [
    {
     "data": {
      "text/plain": [
       "month\n",
       "12    366096\n",
       "11    263723\n",
       "10    263355\n",
       "9     243670\n",
       "7     174558\n",
       "6     160447\n",
       "8     154861\n",
       "5     104485\n",
       "Name: count, dtype: int64"
      ]
     },
     "execution_count": 642,
     "metadata": {},
     "output_type": "execute_result"
    }
   ],
   "source": [
    "df_check.month.value_counts().sort_values(ascending=False)\n",
    "# 12 месяцев"
   ]
  },
  {
   "cell_type": "code",
   "execution_count": 643,
   "id": "60bc317c-979c-49f9-81ad-84d5dbd1f64a",
   "metadata": {
    "tags": []
   },
   "outputs": [
    {
     "data": {
      "text/plain": [
       "dayofweek\n",
       "1    286801\n",
       "0    281564\n",
       "3    252084\n",
       "4    248410\n",
       "2    240791\n",
       "5    211065\n",
       "6    210480\n",
       "Name: count, dtype: int64"
      ]
     },
     "execution_count": 643,
     "metadata": {},
     "output_type": "execute_result"
    }
   ],
   "source": [
    "df_check.dayofweek.value_counts().sort_values(ascending=False)\n",
    "# 7 дней недели от 0 до 6"
   ]
  },
  {
   "cell_type": "code",
   "execution_count": 644,
   "id": "3ec912c2-6058-45e0-9e10-0ca8740ff25f",
   "metadata": {
    "tags": []
   },
   "outputs": [
    {
     "data": {
      "text/plain": [
       "device_screen\n",
       "370944     155046\n",
       "2073600    119142\n",
       "334443     114483\n",
       "304500     106884\n",
       "280800      89943\n",
       "            ...  \n",
       "372816          1\n",
       "426120          1\n",
       "3332025         1\n",
       "2271360         1\n",
       "521072          1\n",
       "Name: count, Length: 4503, dtype: int64"
      ]
     },
     "execution_count": 644,
     "metadata": {},
     "output_type": "execute_result"
    }
   ],
   "source": [
    "df_check.device_screen.value_counts().sort_values(ascending=False)"
   ]
  },
  {
   "cell_type": "code",
   "execution_count": 645,
   "id": "ab36ce02-65a4-4755-9835-2299126e2a8b",
   "metadata": {
    "tags": []
   },
   "outputs": [
    {
     "data": {
      "text/plain": [
       "Text(0.5, 1.0, 'График распределения device_screen')"
      ]
     },
     "execution_count": 645,
     "metadata": {},
     "output_type": "execute_result"
    },
    {
     "data": {
      "image/png": "[encoded data removed]",
      "text/plain": [
       "<Figure size 800x500 with 1 Axes>"
      ]
     },
     "metadata": {},
     "output_type": "display_data"
    }
   ],
   "source": [
    "plt.figure(figsize = (8, 5))\n",
    "plt.hist(df_check.device_screen, color = 'red', bins = 5);\n",
    "plt.xlabel('device_screen')\n",
    "plt.ylabel('Частота')\n",
    "plt.title('График распределения device_screen')"
   ]
  },
  {
   "cell_type": "code",
   "execution_count": 646,
   "id": "ea30143b-8204-4640-a6d9-5e4f5a6a0f86",
   "metadata": {
    "tags": []
   },
   "outputs": [
    {
     "data": {
      "image/png": "[encoded data removed]",
      "text/plain": [
       "<Figure size 300x1000 with 1 Axes>"
      ]
     },
     "metadata": {},
     "output_type": "display_data"
    }
   ],
   "source": [
    "# ящик с усами, выбросы видны вне \"ящика\"\n",
    "fig, ax = plt.subplots(figsize = (3, 10))\n",
    "ax.boxplot(df_check.device_screen)\n",
    "ax.set_xlabel('device_screen')\n",
    "ax.set_ylabel('Частота')\n",
    "ax.set_title('График распределения device_screen')\n",
    "\n",
    "ax.yaxis.set_major_formatter(FormatStrFormatter('%.0f'))"
   ]
  },
  {
   "cell_type": "code",
   "execution_count": 647,
   "id": "09358096-54b0-4d71-b457-a98d7af6a915",
   "metadata": {
    "tags": []
   },
   "outputs": [],
   "source": [
    "boundaries = calculate_outliers(df_check.device_screen)\n",
    "\n",
    "# присвоим выбросам значения границ\n",
    "df_check.loc[df_check.device_screen > boundaries[1], 'device_screen'] = boundaries[1]\n",
    "df_check.loc[df_check.device_screen < boundaries[0], 'device_screen'] = boundaries[0]  "
   ]
  },
  {
   "cell_type": "code",
   "execution_count": 648,
   "id": "ca882ef5-c3ac-45c3-8011-1383ff51e312",
   "metadata": {
    "tags": []
   },
   "outputs": [
    {
     "data": {
      "text/plain": [
       "device_screen\n",
       "521250    361128\n",
       "370944    155046\n",
       "334443    114483\n",
       "304500    106884\n",
       "280800     89943\n",
       "           ...  \n",
       "337536         1\n",
       "293508         1\n",
       "334456         1\n",
       "485541         1\n",
       "521072         1\n",
       "Name: count, Length: 2621, dtype: int64"
      ]
     },
     "execution_count": 648,
     "metadata": {},
     "output_type": "execute_result"
    }
   ],
   "source": [
    "df_check.device_screen.value_counts().sort_values(ascending=False)"
   ]
  },
  {
   "cell_type": "code",
   "execution_count": 649,
   "id": "cc46965c-5ab3-4cbf-891c-6ef20ccc7599",
   "metadata": {
    "tags": []
   },
   "outputs": [
    {
     "data": {
      "text/plain": [
       "Text(0.5, 1.0, 'График распределения hit_number')"
      ]
     },
     "execution_count": 649,
     "metadata": {},
     "output_type": "execute_result"
    },
    {
     "data": {
      "image/png": "[encoded data removed]",
      "text/plain": [
       "<Figure size 800x500 with 1 Axes>"
      ]
     },
     "metadata": {},
     "output_type": "display_data"
    }
   ],
   "source": [
    "plt.figure(figsize = (8, 5))\n",
    "plt.hist(df_check.hit_number, color = 'green', bins = 5);\n",
    "plt.xlabel('hit_number')\n",
    "plt.ylabel('Частота')\n",
    "plt.title('График распределения hit_number')"
   ]
  },
  {
   "cell_type": "code",
   "execution_count": 650,
   "id": "bec7e937-7085-47bd-9874-bf98c711881d",
   "metadata": {
    "tags": []
   },
   "outputs": [
    {
     "data": {
      "image/png": "[encoded data removed]",
      "text/plain": [
       "<Figure size 300x1200 with 1 Axes>"
      ]
     },
     "metadata": {},
     "output_type": "display_data"
    }
   ],
   "source": [
    "fig, ax = plt.subplots(figsize = (3, 12))\n",
    "ax.boxplot(df_check.hit_number)\n",
    "ax.set_xlabel('hit_number')\n",
    "ax.set_ylabel('Частота')\n",
    "ax.set_title('График распределения hit_number')\n",
    "\n",
    "ax.yaxis.set_major_formatter(FormatStrFormatter('%.0f'))"
   ]
  },
  {
   "cell_type": "code",
   "execution_count": 651,
   "id": "3caad847-bca2-450d-a9d2-3f04ae975a3b",
   "metadata": {
    "tags": []
   },
   "outputs": [],
   "source": [
    "boundaries = calculate_outliers(df_check.hit_number)\n",
    "\n",
    "# присвоим выбросам значение моды\n",
    "df_check.loc[df_check.hit_number > boundaries[1], 'hit_number'] = df_check.hit_number.mode()[0]"
   ]
  },
  {
   "cell_type": "code",
   "execution_count": 665,
   "id": "8e9e2d4a-49e1-4a9a-b5bd-d85ed7d7d47a",
   "metadata": {
    "tags": []
   },
   "outputs": [],
   "source": [
    "df = df_check.copy()"
   ]
  },
  {
   "cell_type": "markdown",
   "id": "be05e42c-5542-4628-9426-e6dece5a5289",
   "metadata": {
    "jp-MarkdownHeadingCollapsed": true,
    "tags": []
   },
   "source": [
    "### Data Visualization"
   ]
  },
  {
   "cell_type": "code",
   "execution_count": 666,
   "id": "0a18787e-1ffe-4f05-890f-98a461af8cbd",
   "metadata": {
    "tags": []
   },
   "outputs": [
    {
     "data": {
      "text/html": [
       "<div>\n",
       "<style scoped>\n",
       "    .dataframe tbody tr th:only-of-type {\n",
       "        vertical-align: middle;\n",
       "    }\n",
       "\n",
       "    .dataframe tbody tr th {\n",
       "        vertical-align: top;\n",
       "    }\n",
       "\n",
       "    .dataframe thead th {\n",
       "        text-align: right;\n",
       "    }\n",
       "</style>\n",
       "<table border=\"1\" class=\"dataframe\">\n",
       "  <thead>\n",
       "    <tr style=\"text-align: right;\">\n",
       "      <th></th>\n",
       "      <th>utm_medium</th>\n",
       "      <th>device_category</th>\n",
       "      <th>device_brand</th>\n",
       "      <th>device_browser</th>\n",
       "      <th>hit_number</th>\n",
       "      <th>event_value</th>\n",
       "      <th>device_screen</th>\n",
       "      <th>lat</th>\n",
       "      <th>lon</th>\n",
       "      <th>dayofweek</th>\n",
       "      <th>month</th>\n",
       "    </tr>\n",
       "  </thead>\n",
       "  <tbody>\n",
       "    <tr>\n",
       "      <th>0</th>\n",
       "      <td>banner</td>\n",
       "      <td>mobile</td>\n",
       "      <td>huawei</td>\n",
       "      <td>chrome</td>\n",
       "      <td>3.50</td>\n",
       "      <td>0</td>\n",
       "      <td>259200</td>\n",
       "      <td>55.1674</td>\n",
       "      <td>59.6793</td>\n",
       "      <td>2</td>\n",
       "      <td>11</td>\n",
       "    </tr>\n",
       "    <tr>\n",
       "      <th>1</th>\n",
       "      <td>cpm</td>\n",
       "      <td>mobile</td>\n",
       "      <td>samsung</td>\n",
       "      <td>samsung</td>\n",
       "      <td>3.00</td>\n",
       "      <td>0</td>\n",
       "      <td>328790</td>\n",
       "      <td>55.7505</td>\n",
       "      <td>37.6175</td>\n",
       "      <td>6</td>\n",
       "      <td>11</td>\n",
       "    </tr>\n",
       "    <tr>\n",
       "      <th>2</th>\n",
       "      <td>banner</td>\n",
       "      <td>mobile</td>\n",
       "      <td>huawei</td>\n",
       "      <td>chrome</td>\n",
       "      <td>12.25</td>\n",
       "      <td>0</td>\n",
       "      <td>259200</td>\n",
       "      <td>56.0091</td>\n",
       "      <td>92.8725</td>\n",
       "      <td>1</td>\n",
       "      <td>12</td>\n",
       "    </tr>\n",
       "    <tr>\n",
       "      <th>3</th>\n",
       "      <td>cpc</td>\n",
       "      <td>mobile</td>\n",
       "      <td>xiaomi</td>\n",
       "      <td>chrome</td>\n",
       "      <td>5.00</td>\n",
       "      <td>0</td>\n",
       "      <td>308898</td>\n",
       "      <td>55.7505</td>\n",
       "      <td>37.6175</td>\n",
       "      <td>5</td>\n",
       "      <td>5</td>\n",
       "    </tr>\n",
       "    <tr>\n",
       "      <th>4</th>\n",
       "      <td>cpc</td>\n",
       "      <td>mobile</td>\n",
       "      <td>xiaomi</td>\n",
       "      <td>chrome</td>\n",
       "      <td>2.50</td>\n",
       "      <td>0</td>\n",
       "      <td>308898</td>\n",
       "      <td>55.7505</td>\n",
       "      <td>37.6175</td>\n",
       "      <td>5</td>\n",
       "      <td>5</td>\n",
       "    </tr>\n",
       "  </tbody>\n",
       "</table>\n",
       "</div>"
      ],
      "text/plain": [
       "  utm_medium device_category device_brand device_browser  hit_number  \\\n",
       "0     banner          mobile       huawei         chrome        3.50   \n",
       "1        cpm          mobile      samsung        samsung        3.00   \n",
       "2     banner          mobile       huawei         chrome       12.25   \n",
       "3        cpc          mobile       xiaomi         chrome        5.00   \n",
       "4        cpc          mobile       xiaomi         chrome        2.50   \n",
       "\n",
       "   event_value  device_screen      lat      lon  dayofweek  month  \n",
       "0            0         259200  55.1674  59.6793          2     11  \n",
       "1            0         328790  55.7505  37.6175          6     11  \n",
       "2            0         259200  56.0091  92.8725          1     12  \n",
       "3            0         308898  55.7505  37.6175          5      5  \n",
       "4            0         308898  55.7505  37.6175          5      5  "
      ]
     },
     "execution_count": 666,
     "metadata": {},
     "output_type": "execute_result"
    }
   ],
   "source": [
    "df.head()"
   ]
  },
  {
   "cell_type": "code",
   "execution_count": 667,
   "id": "e5cccacc-84ce-4e48-b308-1e04ec1ca5bb",
   "metadata": {
    "tags": []
   },
   "outputs": [],
   "source": [
    "numeric_df = df[['hit_number', 'device_screen', 'dayofweek', 'month', 'event_value', 'lat', 'lon']]"
   ]
  },
  {
   "cell_type": "code",
   "execution_count": 668,
   "id": "28cee8b2-d6da-419b-b403-9405e558f97e",
   "metadata": {
    "tags": []
   },
   "outputs": [
    {
     "data": {
      "text/html": [
       "<div>\n",
       "<style scoped>\n",
       "    .dataframe tbody tr th:only-of-type {\n",
       "        vertical-align: middle;\n",
       "    }\n",
       "\n",
       "    .dataframe tbody tr th {\n",
       "        vertical-align: top;\n",
       "    }\n",
       "\n",
       "    .dataframe thead th {\n",
       "        text-align: right;\n",
       "    }\n",
       "</style>\n",
       "<table border=\"1\" class=\"dataframe\">\n",
       "  <thead>\n",
       "    <tr style=\"text-align: right;\">\n",
       "      <th></th>\n",
       "      <th>hit_number</th>\n",
       "      <th>device_screen</th>\n",
       "      <th>dayofweek</th>\n",
       "      <th>month</th>\n",
       "      <th>event_value</th>\n",
       "      <th>lat</th>\n",
       "      <th>lon</th>\n",
       "    </tr>\n",
       "  </thead>\n",
       "  <tbody>\n",
       "    <tr>\n",
       "      <th>hit_number</th>\n",
       "      <td>1.000000</td>\n",
       "      <td>0.062453</td>\n",
       "      <td>-0.024197</td>\n",
       "      <td>-0.003795</td>\n",
       "      <td>0.095539</td>\n",
       "      <td>-0.019046</td>\n",
       "      <td>0.018025</td>\n",
       "    </tr>\n",
       "    <tr>\n",
       "      <th>device_screen</th>\n",
       "      <td>0.062453</td>\n",
       "      <td>1.000000</td>\n",
       "      <td>-0.068024</td>\n",
       "      <td>-0.128998</td>\n",
       "      <td>0.015387</td>\n",
       "      <td>0.038199</td>\n",
       "      <td>-0.049038</td>\n",
       "    </tr>\n",
       "    <tr>\n",
       "      <th>dayofweek</th>\n",
       "      <td>-0.024197</td>\n",
       "      <td>-0.068024</td>\n",
       "      <td>1.000000</td>\n",
       "      <td>0.092178</td>\n",
       "      <td>-0.014479</td>\n",
       "      <td>0.007163</td>\n",
       "      <td>0.021598</td>\n",
       "    </tr>\n",
       "    <tr>\n",
       "      <th>month</th>\n",
       "      <td>-0.003795</td>\n",
       "      <td>-0.128998</td>\n",
       "      <td>0.092178</td>\n",
       "      <td>1.000000</td>\n",
       "      <td>-0.051382</td>\n",
       "      <td>-0.057295</td>\n",
       "      <td>0.050540</td>\n",
       "    </tr>\n",
       "    <tr>\n",
       "      <th>event_value</th>\n",
       "      <td>0.095539</td>\n",
       "      <td>0.015387</td>\n",
       "      <td>-0.014479</td>\n",
       "      <td>-0.051382</td>\n",
       "      <td>1.000000</td>\n",
       "      <td>-0.007340</td>\n",
       "      <td>-0.004830</td>\n",
       "    </tr>\n",
       "    <tr>\n",
       "      <th>lat</th>\n",
       "      <td>-0.019046</td>\n",
       "      <td>0.038199</td>\n",
       "      <td>0.007163</td>\n",
       "      <td>-0.057295</td>\n",
       "      <td>-0.007340</td>\n",
       "      <td>1.000000</td>\n",
       "      <td>0.141372</td>\n",
       "    </tr>\n",
       "    <tr>\n",
       "      <th>lon</th>\n",
       "      <td>0.018025</td>\n",
       "      <td>-0.049038</td>\n",
       "      <td>0.021598</td>\n",
       "      <td>0.050540</td>\n",
       "      <td>-0.004830</td>\n",
       "      <td>0.141372</td>\n",
       "      <td>1.000000</td>\n",
       "    </tr>\n",
       "  </tbody>\n",
       "</table>\n",
       "</div>"
      ],
      "text/plain": [
       "               hit_number  device_screen  dayofweek     month  event_value  \\\n",
       "hit_number       1.000000       0.062453  -0.024197 -0.003795     0.095539   \n",
       "device_screen    0.062453       1.000000  -0.068024 -0.128998     0.015387   \n",
       "dayofweek       -0.024197      -0.068024   1.000000  0.092178    -0.014479   \n",
       "month           -0.003795      -0.128998   0.092178  1.000000    -0.051382   \n",
       "event_value      0.095539       0.015387  -0.014479 -0.051382     1.000000   \n",
       "lat             -0.019046       0.038199   0.007163 -0.057295    -0.007340   \n",
       "lon              0.018025      -0.049038   0.021598  0.050540    -0.004830   \n",
       "\n",
       "                    lat       lon  \n",
       "hit_number    -0.019046  0.018025  \n",
       "device_screen  0.038199 -0.049038  \n",
       "dayofweek      0.007163  0.021598  \n",
       "month         -0.057295  0.050540  \n",
       "event_value   -0.007340 -0.004830  \n",
       "lat            1.000000  0.141372  \n",
       "lon            0.141372  1.000000  "
      ]
     },
     "execution_count": 668,
     "metadata": {},
     "output_type": "execute_result"
    }
   ],
   "source": [
    "numeric_df.corr() # слабая линейная корреляция между числовыми признаками"
   ]
  },
  {
   "cell_type": "code",
   "execution_count": 669,
   "id": "4e04d61d-439d-4bc9-9276-587fbfcea879",
   "metadata": {
    "tags": []
   },
   "outputs": [
    {
     "data": {
      "text/html": [
       "<div>\n",
       "<style scoped>\n",
       "    .dataframe tbody tr th:only-of-type {\n",
       "        vertical-align: middle;\n",
       "    }\n",
       "\n",
       "    .dataframe tbody tr th {\n",
       "        vertical-align: top;\n",
       "    }\n",
       "\n",
       "    .dataframe thead th {\n",
       "        text-align: right;\n",
       "    }\n",
       "</style>\n",
       "<table border=\"1\" class=\"dataframe\">\n",
       "  <thead>\n",
       "    <tr style=\"text-align: right;\">\n",
       "      <th></th>\n",
       "      <th>utm_medium</th>\n",
       "      <th>device_category</th>\n",
       "      <th>device_brand</th>\n",
       "      <th>device_browser</th>\n",
       "      <th>hit_number</th>\n",
       "      <th>event_value</th>\n",
       "      <th>device_screen</th>\n",
       "      <th>lat</th>\n",
       "      <th>lon</th>\n",
       "      <th>dayofweek</th>\n",
       "      <th>month</th>\n",
       "    </tr>\n",
       "  </thead>\n",
       "  <tbody>\n",
       "    <tr>\n",
       "      <th>0</th>\n",
       "      <td>banner</td>\n",
       "      <td>mobile</td>\n",
       "      <td>huawei</td>\n",
       "      <td>chrome</td>\n",
       "      <td>3.50</td>\n",
       "      <td>0</td>\n",
       "      <td>259200</td>\n",
       "      <td>55.1674</td>\n",
       "      <td>59.6793</td>\n",
       "      <td>2</td>\n",
       "      <td>11</td>\n",
       "    </tr>\n",
       "    <tr>\n",
       "      <th>1</th>\n",
       "      <td>cpm</td>\n",
       "      <td>mobile</td>\n",
       "      <td>samsung</td>\n",
       "      <td>samsung</td>\n",
       "      <td>3.00</td>\n",
       "      <td>0</td>\n",
       "      <td>328790</td>\n",
       "      <td>55.7505</td>\n",
       "      <td>37.6175</td>\n",
       "      <td>6</td>\n",
       "      <td>11</td>\n",
       "    </tr>\n",
       "    <tr>\n",
       "      <th>2</th>\n",
       "      <td>banner</td>\n",
       "      <td>mobile</td>\n",
       "      <td>huawei</td>\n",
       "      <td>chrome</td>\n",
       "      <td>12.25</td>\n",
       "      <td>0</td>\n",
       "      <td>259200</td>\n",
       "      <td>56.0091</td>\n",
       "      <td>92.8725</td>\n",
       "      <td>1</td>\n",
       "      <td>12</td>\n",
       "    </tr>\n",
       "    <tr>\n",
       "      <th>3</th>\n",
       "      <td>cpc</td>\n",
       "      <td>mobile</td>\n",
       "      <td>xiaomi</td>\n",
       "      <td>chrome</td>\n",
       "      <td>5.00</td>\n",
       "      <td>0</td>\n",
       "      <td>308898</td>\n",
       "      <td>55.7505</td>\n",
       "      <td>37.6175</td>\n",
       "      <td>5</td>\n",
       "      <td>5</td>\n",
       "    </tr>\n",
       "    <tr>\n",
       "      <th>4</th>\n",
       "      <td>cpc</td>\n",
       "      <td>mobile</td>\n",
       "      <td>xiaomi</td>\n",
       "      <td>chrome</td>\n",
       "      <td>2.50</td>\n",
       "      <td>0</td>\n",
       "      <td>308898</td>\n",
       "      <td>55.7505</td>\n",
       "      <td>37.6175</td>\n",
       "      <td>5</td>\n",
       "      <td>5</td>\n",
       "    </tr>\n",
       "  </tbody>\n",
       "</table>\n",
       "</div>"
      ],
      "text/plain": [
       "  utm_medium device_category device_brand device_browser  hit_number  \\\n",
       "0     banner          mobile       huawei         chrome        3.50   \n",
       "1        cpm          mobile      samsung        samsung        3.00   \n",
       "2     banner          mobile       huawei         chrome       12.25   \n",
       "3        cpc          mobile       xiaomi         chrome        5.00   \n",
       "4        cpc          mobile       xiaomi         chrome        2.50   \n",
       "\n",
       "   event_value  device_screen      lat      lon  dayofweek  month  \n",
       "0            0         259200  55.1674  59.6793          2     11  \n",
       "1            0         328790  55.7505  37.6175          6     11  \n",
       "2            0         259200  56.0091  92.8725          1     12  \n",
       "3            0         308898  55.7505  37.6175          5      5  \n",
       "4            0         308898  55.7505  37.6175          5      5  "
      ]
     },
     "execution_count": 669,
     "metadata": {},
     "output_type": "execute_result"
    }
   ],
   "source": [
    "df.head()"
   ]
  },
  {
   "cell_type": "code",
   "execution_count": 670,
   "id": "c240b39f-c3e3-4188-a852-c624fc96f9c7",
   "metadata": {
    "collapsed": true,
    "jupyter": {
     "outputs_hidden": true
    },
    "tags": []
   },
   "outputs": [
    {
     "data": {
      "text/html": [
       "<div>\n",
       "<style scoped>\n",
       "    .dataframe tbody tr th:only-of-type {\n",
       "        vertical-align: middle;\n",
       "    }\n",
       "\n",
       "    .dataframe tbody tr th {\n",
       "        vertical-align: top;\n",
       "    }\n",
       "\n",
       "    .dataframe thead th {\n",
       "        text-align: right;\n",
       "    }\n",
       "</style>\n",
       "<table border=\"1\" class=\"dataframe\">\n",
       "  <thead>\n",
       "    <tr style=\"text-align: right;\">\n",
       "      <th></th>\n",
       "      <th>utm_medium</th>\n",
       "      <th>sum</th>\n",
       "    </tr>\n",
       "  </thead>\n",
       "  <tbody>\n",
       "    <tr>\n",
       "      <th>1</th>\n",
       "      <td>banner</td>\n",
       "      <td>15102</td>\n",
       "    </tr>\n",
       "    <tr>\n",
       "      <th>17</th>\n",
       "      <td>organic</td>\n",
       "      <td>12617</td>\n",
       "    </tr>\n",
       "    <tr>\n",
       "      <th>7</th>\n",
       "      <td>cpc</td>\n",
       "      <td>9527</td>\n",
       "    </tr>\n",
       "    <tr>\n",
       "      <th>23</th>\n",
       "      <td>referral</td>\n",
       "      <td>8175</td>\n",
       "    </tr>\n",
       "    <tr>\n",
       "      <th>8</th>\n",
       "      <td>cpm</td>\n",
       "      <td>2522</td>\n",
       "    </tr>\n",
       "    <tr>\n",
       "      <th>22</th>\n",
       "      <td>push</td>\n",
       "      <td>839</td>\n",
       "    </tr>\n",
       "    <tr>\n",
       "      <th>11</th>\n",
       "      <td>email</td>\n",
       "      <td>400</td>\n",
       "    </tr>\n",
       "    <tr>\n",
       "      <th>24</th>\n",
       "      <td>smartbanner</td>\n",
       "      <td>179</td>\n",
       "    </tr>\n",
       "    <tr>\n",
       "      <th>2</th>\n",
       "      <td>blogger_channel</td>\n",
       "      <td>162</td>\n",
       "    </tr>\n",
       "    <tr>\n",
       "      <th>6</th>\n",
       "      <td>cpa</td>\n",
       "      <td>131</td>\n",
       "    </tr>\n",
       "    <tr>\n",
       "      <th>29</th>\n",
       "      <td>stories</td>\n",
       "      <td>126</td>\n",
       "    </tr>\n",
       "    <tr>\n",
       "      <th>9</th>\n",
       "      <td>cpv</td>\n",
       "      <td>115</td>\n",
       "    </tr>\n",
       "    <tr>\n",
       "      <th>25</th>\n",
       "      <td>smm</td>\n",
       "      <td>87</td>\n",
       "    </tr>\n",
       "    <tr>\n",
       "      <th>21</th>\n",
       "      <td>post</td>\n",
       "      <td>54</td>\n",
       "    </tr>\n",
       "    <tr>\n",
       "      <th>30</th>\n",
       "      <td>tg</td>\n",
       "      <td>51</td>\n",
       "    </tr>\n",
       "    <tr>\n",
       "      <th>5</th>\n",
       "      <td>clicks</td>\n",
       "      <td>42</td>\n",
       "    </tr>\n",
       "    <tr>\n",
       "      <th>4</th>\n",
       "      <td>blogger_stories</td>\n",
       "      <td>35</td>\n",
       "    </tr>\n",
       "    <tr>\n",
       "      <th>18</th>\n",
       "      <td>other</td>\n",
       "      <td>28</td>\n",
       "    </tr>\n",
       "    <tr>\n",
       "      <th>14</th>\n",
       "      <td>landing</td>\n",
       "      <td>19</td>\n",
       "    </tr>\n",
       "    <tr>\n",
       "      <th>19</th>\n",
       "      <td>outlook</td>\n",
       "      <td>19</td>\n",
       "    </tr>\n",
       "    <tr>\n",
       "      <th>15</th>\n",
       "      <td>link</td>\n",
       "      <td>17</td>\n",
       "    </tr>\n",
       "    <tr>\n",
       "      <th>26</th>\n",
       "      <td>sms</td>\n",
       "      <td>16</td>\n",
       "    </tr>\n",
       "    <tr>\n",
       "      <th>0</th>\n",
       "      <td>app</td>\n",
       "      <td>11</td>\n",
       "    </tr>\n",
       "    <tr>\n",
       "      <th>3</th>\n",
       "      <td>blogger_header</td>\n",
       "      <td>2</td>\n",
       "    </tr>\n",
       "    <tr>\n",
       "      <th>13</th>\n",
       "      <td>info_text</td>\n",
       "      <td>2</td>\n",
       "    </tr>\n",
       "    <tr>\n",
       "      <th>28</th>\n",
       "      <td>static</td>\n",
       "      <td>1</td>\n",
       "    </tr>\n",
       "    <tr>\n",
       "      <th>27</th>\n",
       "      <td>social</td>\n",
       "      <td>1</td>\n",
       "    </tr>\n",
       "    <tr>\n",
       "      <th>16</th>\n",
       "      <td>medium</td>\n",
       "      <td>1</td>\n",
       "    </tr>\n",
       "    <tr>\n",
       "      <th>20</th>\n",
       "      <td>partner</td>\n",
       "      <td>1</td>\n",
       "    </tr>\n",
       "    <tr>\n",
       "      <th>12</th>\n",
       "      <td>fb_smm</td>\n",
       "      <td>1</td>\n",
       "    </tr>\n",
       "    <tr>\n",
       "      <th>10</th>\n",
       "      <td>dom_click</td>\n",
       "      <td>1</td>\n",
       "    </tr>\n",
       "    <tr>\n",
       "      <th>31</th>\n",
       "      <td>yandex_cpc</td>\n",
       "      <td>1</td>\n",
       "    </tr>\n",
       "  </tbody>\n",
       "</table>\n",
       "</div>"
      ],
      "text/plain": [
       "         utm_medium    sum\n",
       "1            banner  15102\n",
       "17          organic  12617\n",
       "7               cpc   9527\n",
       "23         referral   8175\n",
       "8               cpm   2522\n",
       "22             push    839\n",
       "11            email    400\n",
       "24      smartbanner    179\n",
       "2   blogger_channel    162\n",
       "6               cpa    131\n",
       "29          stories    126\n",
       "9               cpv    115\n",
       "25              smm     87\n",
       "21             post     54\n",
       "30               tg     51\n",
       "5            clicks     42\n",
       "4   blogger_stories     35\n",
       "18            other     28\n",
       "14          landing     19\n",
       "19          outlook     19\n",
       "15             link     17\n",
       "26              sms     16\n",
       "0               app     11\n",
       "3    blogger_header      2\n",
       "13        info_text      2\n",
       "28           static      1\n",
       "27           social      1\n",
       "16           medium      1\n",
       "20          partner      1\n",
       "12           fb_smm      1\n",
       "10        dom_click      1\n",
       "31       yandex_cpc      1"
      ]
     },
     "execution_count": 670,
     "metadata": {},
     "output_type": "execute_result"
    }
   ],
   "source": [
    "stats = df.groupby(['utm_medium'], as_index=False).agg({'event_value': 'sum'}).sort_values(ascending=False, by='event_value')\n",
    "stats = stats.rename(columns = {'event_value': 'sum'})\n",
    "stats"
   ]
  },
  {
   "cell_type": "code",
   "execution_count": 671,
   "id": "a9cf5e1b-ad03-4158-a5b3-390d74e9fd06",
   "metadata": {
    "tags": []
   },
   "outputs": [
    {
     "data": {
      "image/png": "[encoded data removed]",
      "text/plain": [
       "<Figure size 640x480 with 1 Axes>"
      ]
     },
     "metadata": {},
     "output_type": "display_data"
    }
   ],
   "source": [
    "plt.bar(stats['utm_medium'], stats['sum'], width = 0.9, color = ['springgreen', 'dodgerblue'])\n",
    "plt.xticks(rotation=45, horizontalalignment='right', fontsize=8)\n",
    "plt.xlabel('Тип привлечения utm_medium')\n",
    "plt.ylabel('Количество целевых действий')\n",
    "plt.title('Количество целевых действий от типа привлечения')\n",
    "plt.show()"
   ]
  },
  {
   "cell_type": "code",
   "execution_count": 672,
   "id": "3ac9afea-b11f-4efc-b91c-76f763009d19",
   "metadata": {
    "tags": []
   },
   "outputs": [
    {
     "data": {
      "text/html": [
       "<div>\n",
       "<style scoped>\n",
       "    .dataframe tbody tr th:only-of-type {\n",
       "        vertical-align: middle;\n",
       "    }\n",
       "\n",
       "    .dataframe tbody tr th {\n",
       "        vertical-align: top;\n",
       "    }\n",
       "\n",
       "    .dataframe thead th {\n",
       "        text-align: right;\n",
       "    }\n",
       "</style>\n",
       "<table border=\"1\" class=\"dataframe\">\n",
       "  <thead>\n",
       "    <tr style=\"text-align: right;\">\n",
       "      <th></th>\n",
       "      <th>hit_number</th>\n",
       "      <th>sum</th>\n",
       "    </tr>\n",
       "  </thead>\n",
       "  <tbody>\n",
       "    <tr>\n",
       "      <th>7</th>\n",
       "      <td>3.000000</td>\n",
       "      <td>15659</td>\n",
       "    </tr>\n",
       "    <tr>\n",
       "      <th>12</th>\n",
       "      <td>3.500000</td>\n",
       "      <td>1182</td>\n",
       "    </tr>\n",
       "    <tr>\n",
       "      <th>18</th>\n",
       "      <td>4.000000</td>\n",
       "      <td>1021</td>\n",
       "    </tr>\n",
       "    <tr>\n",
       "      <th>68</th>\n",
       "      <td>6.000000</td>\n",
       "      <td>558</td>\n",
       "    </tr>\n",
       "    <tr>\n",
       "      <th>27</th>\n",
       "      <td>4.500000</td>\n",
       "      <td>517</td>\n",
       "    </tr>\n",
       "    <tr>\n",
       "      <th>...</th>\n",
       "      <td>...</td>\n",
       "      <td>...</td>\n",
       "    </tr>\n",
       "    <tr>\n",
       "      <th>3293</th>\n",
       "      <td>21.914286</td>\n",
       "      <td>0</td>\n",
       "    </tr>\n",
       "    <tr>\n",
       "      <th>1785</th>\n",
       "      <td>17.758621</td>\n",
       "      <td>0</td>\n",
       "    </tr>\n",
       "    <tr>\n",
       "      <th>3289</th>\n",
       "      <td>21.906250</td>\n",
       "      <td>0</td>\n",
       "    </tr>\n",
       "    <tr>\n",
       "      <th>3286</th>\n",
       "      <td>21.900000</td>\n",
       "      <td>0</td>\n",
       "    </tr>\n",
       "    <tr>\n",
       "      <th>3411</th>\n",
       "      <td>22.185185</td>\n",
       "      <td>0</td>\n",
       "    </tr>\n",
       "  </tbody>\n",
       "</table>\n",
       "<p>4335 rows × 2 columns</p>\n",
       "</div>"
      ],
      "text/plain": [
       "      hit_number    sum\n",
       "7       3.000000  15659\n",
       "12      3.500000   1182\n",
       "18      4.000000   1021\n",
       "68      6.000000    558\n",
       "27      4.500000    517\n",
       "...          ...    ...\n",
       "3293   21.914286      0\n",
       "1785   17.758621      0\n",
       "3289   21.906250      0\n",
       "3286   21.900000      0\n",
       "3411   22.185185      0\n",
       "\n",
       "[4335 rows x 2 columns]"
      ]
     },
     "execution_count": 672,
     "metadata": {},
     "output_type": "execute_result"
    }
   ],
   "source": [
    "stats = df.groupby(['hit_number'], as_index=False).agg({'event_value': 'sum'}).sort_values(ascending=False, by='event_value')\n",
    "stats = stats.rename(columns = {'event_value': 'sum'})\n",
    "stats"
   ]
  },
  {
   "cell_type": "code",
   "execution_count": 673,
   "id": "4214b7f2-dc99-4949-8c2f-6d3725a17ccf",
   "metadata": {
    "tags": []
   },
   "outputs": [
    {
     "data": {
      "image/png": "[encoded data removed]",
      "text/plain": [
       "<Figure size 640x480 with 1 Axes>"
      ]
     },
     "metadata": {},
     "output_type": "display_data"
    }
   ],
   "source": [
    "plt.bar(stats['hit_number'], stats['sum'], width = 0.9, color = ['springgreen', 'dodgerblue'])\n",
    "plt.xticks(rotation=45, horizontalalignment='right', fontsize=8)\n",
    "plt.xlabel('Порядковый номер события hit_number')\n",
    "plt.ylabel('Количество целевых действий')\n",
    "plt.title('Количество целевых действий от hit_number')\n",
    "plt.show()\n",
    "\n",
    "# видим, что больше всего целевых действий совершено, когда порядковый номер события = 3\n",
    "# очевидно, что зависимость присутствует"
   ]
  },
  {
   "cell_type": "markdown",
   "id": "99ca7ba5-02cb-42ab-bf34-7f598ab9d63a",
   "metadata": {
    "jp-MarkdownHeadingCollapsed": true,
    "tags": []
   },
   "source": [
    "## Feature Engineering"
   ]
  },
  {
   "cell_type": "code",
   "execution_count": 675,
   "id": "f9d2b5c3-239f-4578-ba75-18817c4568c6",
   "metadata": {
    "tags": []
   },
   "outputs": [],
   "source": [
    "# функция, которая возвращает новые имена для фич после стандартизации\n",
    "def new_names(names_list):\n",
    "    new_names_list = []\n",
    "    for el in names_list:\n",
    "        new_names_list.append(el + '_std')\n",
    "    return new_names_list"
   ]
  },
  {
   "cell_type": "code",
   "execution_count": 676,
   "id": "f68a53f9-1cd8-43da-83b7-6c11648af183",
   "metadata": {
    "tags": []
   },
   "outputs": [],
   "source": [
    "# функция возвращает дф с новыми фичами после стандартизации\n",
    "def scaler(df, numeric_list):\n",
    "    std_scaler = StandardScaler()\n",
    "    std_scaler.fit(df[numeric_list])\n",
    "    df[new_names(numeric_list)] = std_scaler.transform(df[numeric_list])\n",
    "\n",
    "    return df"
   ]
  },
  {
   "cell_type": "code",
   "execution_count": 677,
   "id": "968fe999-a4f9-4a08-9b19-54767e9631af",
   "metadata": {
    "tags": []
   },
   "outputs": [],
   "source": [
    "# кодируем категориальные переменные с помощью OneHotEncoder\n",
    "def encoder(df, categorical_list):\n",
    "    ohe = OneHotEncoder(sparse_output=False)  # sparse_output=False\n",
    "    ohe.fit(df[categorical_list])\n",
    "    new_ohe = ohe.transform(df[categorical_list])\n",
    "    names = ohe.get_feature_names_out()\n",
    "    df[names] = new_ohe\n",
    "\n",
    "    return df"
   ]
  },
  {
   "cell_type": "code",
   "execution_count": 678,
   "id": "3ce473a5-25a2-41f5-8673-4e11c74dfd50",
   "metadata": {
    "tags": []
   },
   "outputs": [
    {
     "data": {
      "text/plain": [
       "Index(['utm_medium', 'device_category', 'device_brand', 'device_browser',\n",
       "       'hit_number', 'event_value', 'device_screen', 'lat', 'lon', 'dayofweek',\n",
       "       'month'],\n",
       "      dtype='object')"
      ]
     },
     "execution_count": 678,
     "metadata": {},
     "output_type": "execute_result"
    }
   ],
   "source": [
    "df.columns"
   ]
  },
  {
   "cell_type": "code",
   "execution_count": 679,
   "id": "4dad416a-a6fa-48e1-afa0-a3113825276c",
   "metadata": {
    "tags": []
   },
   "outputs": [],
   "source": [
    "numeric_list = ['hit_number', 'device_screen', 'lat', 'lon', 'dayofweek', 'month']\n",
    "scaler(df, numeric_list)\n",
    "df = df.drop(numeric_list, axis=1) # удаляем ненужные колонки"
   ]
  },
  {
   "cell_type": "code",
   "execution_count": 680,
   "id": "22210e8e-0767-42eb-bcfb-7d4e8587b4ed",
   "metadata": {
    "tags": []
   },
   "outputs": [
    {
     "data": {
      "text/html": [
       "<div>\n",
       "<style scoped>\n",
       "    .dataframe tbody tr th:only-of-type {\n",
       "        vertical-align: middle;\n",
       "    }\n",
       "\n",
       "    .dataframe tbody tr th {\n",
       "        vertical-align: top;\n",
       "    }\n",
       "\n",
       "    .dataframe thead th {\n",
       "        text-align: right;\n",
       "    }\n",
       "</style>\n",
       "<table border=\"1\" class=\"dataframe\">\n",
       "  <thead>\n",
       "    <tr style=\"text-align: right;\">\n",
       "      <th></th>\n",
       "      <th>event_value</th>\n",
       "      <th>hit_number_std</th>\n",
       "      <th>device_screen_std</th>\n",
       "      <th>lat_std</th>\n",
       "      <th>lon_std</th>\n",
       "      <th>dayofweek_std</th>\n",
       "      <th>month_std</th>\n",
       "      <th>utm_medium_app</th>\n",
       "      <th>utm_medium_banner</th>\n",
       "      <th>utm_medium_blogger_channel</th>\n",
       "      <th>...</th>\n",
       "      <th>device_browser_nokiax2-02</th>\n",
       "      <th>device_browser_opera</th>\n",
       "      <th>device_browser_other</th>\n",
       "      <th>device_browser_puffin</th>\n",
       "      <th>device_browser_safari</th>\n",
       "      <th>device_browser_samsung</th>\n",
       "      <th>device_browser_seamonkey</th>\n",
       "      <th>device_browser_threads</th>\n",
       "      <th>device_browser_uc</th>\n",
       "      <th>device_browser_yabrowser</th>\n",
       "    </tr>\n",
       "  </thead>\n",
       "  <tbody>\n",
       "    <tr>\n",
       "      <th>0</th>\n",
       "      <td>0</td>\n",
       "      <td>-0.604825</td>\n",
       "      <td>-0.975710</td>\n",
       "      <td>-0.095331</td>\n",
       "      <td>0.740317</td>\n",
       "      <td>-0.399448</td>\n",
       "      <td>0.778440</td>\n",
       "      <td>0.0</td>\n",
       "      <td>1.0</td>\n",
       "      <td>0.0</td>\n",
       "      <td>...</td>\n",
       "      <td>0.0</td>\n",
       "      <td>0.0</td>\n",
       "      <td>0.0</td>\n",
       "      <td>0.0</td>\n",
       "      <td>0.0</td>\n",
       "      <td>0.0</td>\n",
       "      <td>0.0</td>\n",
       "      <td>0.0</td>\n",
       "      <td>0.0</td>\n",
       "      <td>0.0</td>\n",
       "    </tr>\n",
       "    <tr>\n",
       "      <th>1</th>\n",
       "      <td>0</td>\n",
       "      <td>-0.699740</td>\n",
       "      <td>-0.262760</td>\n",
       "      <td>0.016301</td>\n",
       "      <td>-0.247465</td>\n",
       "      <td>1.613586</td>\n",
       "      <td>0.778440</td>\n",
       "      <td>0.0</td>\n",
       "      <td>0.0</td>\n",
       "      <td>0.0</td>\n",
       "      <td>...</td>\n",
       "      <td>0.0</td>\n",
       "      <td>0.0</td>\n",
       "      <td>0.0</td>\n",
       "      <td>0.0</td>\n",
       "      <td>0.0</td>\n",
       "      <td>1.0</td>\n",
       "      <td>0.0</td>\n",
       "      <td>0.0</td>\n",
       "      <td>0.0</td>\n",
       "      <td>0.0</td>\n",
       "    </tr>\n",
       "    <tr>\n",
       "      <th>2</th>\n",
       "      <td>0</td>\n",
       "      <td>1.056183</td>\n",
       "      <td>-0.975710</td>\n",
       "      <td>0.065809</td>\n",
       "      <td>2.226490</td>\n",
       "      <td>-0.902706</td>\n",
       "      <td>1.231188</td>\n",
       "      <td>0.0</td>\n",
       "      <td>1.0</td>\n",
       "      <td>0.0</td>\n",
       "      <td>...</td>\n",
       "      <td>0.0</td>\n",
       "      <td>0.0</td>\n",
       "      <td>0.0</td>\n",
       "      <td>0.0</td>\n",
       "      <td>0.0</td>\n",
       "      <td>0.0</td>\n",
       "      <td>0.0</td>\n",
       "      <td>0.0</td>\n",
       "      <td>0.0</td>\n",
       "      <td>0.0</td>\n",
       "    </tr>\n",
       "    <tr>\n",
       "      <th>3</th>\n",
       "      <td>0</td>\n",
       "      <td>-0.320081</td>\n",
       "      <td>-0.466554</td>\n",
       "      <td>0.016301</td>\n",
       "      <td>-0.247465</td>\n",
       "      <td>1.110327</td>\n",
       "      <td>-1.938048</td>\n",
       "      <td>0.0</td>\n",
       "      <td>0.0</td>\n",
       "      <td>0.0</td>\n",
       "      <td>...</td>\n",
       "      <td>0.0</td>\n",
       "      <td>0.0</td>\n",
       "      <td>0.0</td>\n",
       "      <td>0.0</td>\n",
       "      <td>0.0</td>\n",
       "      <td>0.0</td>\n",
       "      <td>0.0</td>\n",
       "      <td>0.0</td>\n",
       "      <td>0.0</td>\n",
       "      <td>0.0</td>\n",
       "    </tr>\n",
       "    <tr>\n",
       "      <th>4</th>\n",
       "      <td>0</td>\n",
       "      <td>-0.794655</td>\n",
       "      <td>-0.466554</td>\n",
       "      <td>0.016301</td>\n",
       "      <td>-0.247465</td>\n",
       "      <td>1.110327</td>\n",
       "      <td>-1.938048</td>\n",
       "      <td>0.0</td>\n",
       "      <td>0.0</td>\n",
       "      <td>0.0</td>\n",
       "      <td>...</td>\n",
       "      <td>0.0</td>\n",
       "      <td>0.0</td>\n",
       "      <td>0.0</td>\n",
       "      <td>0.0</td>\n",
       "      <td>0.0</td>\n",
       "      <td>0.0</td>\n",
       "      <td>0.0</td>\n",
       "      <td>0.0</td>\n",
       "      <td>0.0</td>\n",
       "      <td>0.0</td>\n",
       "    </tr>\n",
       "  </tbody>\n",
       "</table>\n",
       "<p>5 rows × 96 columns</p>\n",
       "</div>"
      ],
      "text/plain": [
       "   event_value  hit_number_std  device_screen_std   lat_std   lon_std  \\\n",
       "0            0       -0.604825          -0.975710 -0.095331  0.740317   \n",
       "1            0       -0.699740          -0.262760  0.016301 -0.247465   \n",
       "2            0        1.056183          -0.975710  0.065809  2.226490   \n",
       "3            0       -0.320081          -0.466554  0.016301 -0.247465   \n",
       "4            0       -0.794655          -0.466554  0.016301 -0.247465   \n",
       "\n",
       "   dayofweek_std  month_std  utm_medium_app  utm_medium_banner  \\\n",
       "0      -0.399448   0.778440             0.0                1.0   \n",
       "1       1.613586   0.778440             0.0                0.0   \n",
       "2      -0.902706   1.231188             0.0                1.0   \n",
       "3       1.110327  -1.938048             0.0                0.0   \n",
       "4       1.110327  -1.938048             0.0                0.0   \n",
       "\n",
       "   utm_medium_blogger_channel  ...  device_browser_nokiax2-02  \\\n",
       "0                         0.0  ...                        0.0   \n",
       "1                         0.0  ...                        0.0   \n",
       "2                         0.0  ...                        0.0   \n",
       "3                         0.0  ...                        0.0   \n",
       "4                         0.0  ...                        0.0   \n",
       "\n",
       "   device_browser_opera  device_browser_other  device_browser_puffin  \\\n",
       "0                   0.0                   0.0                    0.0   \n",
       "1                   0.0                   0.0                    0.0   \n",
       "2                   0.0                   0.0                    0.0   \n",
       "3                   0.0                   0.0                    0.0   \n",
       "4                   0.0                   0.0                    0.0   \n",
       "\n",
       "   device_browser_safari  device_browser_samsung  device_browser_seamonkey  \\\n",
       "0                    0.0                     0.0                       0.0   \n",
       "1                    0.0                     1.0                       0.0   \n",
       "2                    0.0                     0.0                       0.0   \n",
       "3                    0.0                     0.0                       0.0   \n",
       "4                    0.0                     0.0                       0.0   \n",
       "\n",
       "   device_browser_threads  device_browser_uc  device_browser_yabrowser  \n",
       "0                     0.0                0.0                       0.0  \n",
       "1                     0.0                0.0                       0.0  \n",
       "2                     0.0                0.0                       0.0  \n",
       "3                     0.0                0.0                       0.0  \n",
       "4                     0.0                0.0                       0.0  \n",
       "\n",
       "[5 rows x 96 columns]"
      ]
     },
     "execution_count": 680,
     "metadata": {},
     "output_type": "execute_result"
    }
   ],
   "source": [
    "categorical_list = ['utm_medium', 'device_category', 'device_brand', 'device_browser']\n",
    "encoder(df, categorical_list)\n",
    "df = df.drop(categorical_list, axis=1)\n",
    "\n",
    "df.head()"
   ]
  },
  {
   "cell_type": "markdown",
   "id": "9c468538-87e2-4675-ba6d-b919333a04ef",
   "metadata": {
    "jp-MarkdownHeadingCollapsed": true,
    "tags": []
   },
   "source": [
    "## Modeling"
   ]
  },
  {
   "cell_type": "markdown",
   "id": "95319420-521c-4459-8564-8072d412eaf0",
   "metadata": {
    "jp-MarkdownHeadingCollapsed": true,
    "tags": []
   },
   "source": [
    "### Logistic Regression"
   ]
  },
  {
   "cell_type": "code",
   "execution_count": 681,
   "id": "a1d54c56-f08a-4879-97ca-2e6c0c59b4b3",
   "metadata": {},
   "outputs": [],
   "source": [
    "X = df.drop('event_value', axis=1)\n",
    "y = df.event_value\n",
    "\n",
    "x_train, x_test, y_train, y_test = train_test_split(X, y, test_size=0.3, random_state=42)"
   ]
  },
  {
   "cell_type": "code",
   "execution_count": 682,
   "id": "180ee776-d246-4c8a-bb14-25d39279db36",
   "metadata": {
    "tags": []
   },
   "outputs": [
    {
     "data": {
      "text/html": [
       "<style>#sk-container-id-6 {color: black;}#sk-container-id-6 pre{padding: 0;}#sk-container-id-6 div.sk-toggleable {background-color: white;}#sk-container-id-6 label.sk-toggleable__label {cursor: pointer;display: block;width: 100%;margin-bottom: 0;padding: 0.3em;box-sizing: border-box;text-align: center;}#sk-container-id-6 label.sk-toggleable__label-arrow:before {content: \"▸\";float: left;margin-right: 0.25em;color: #696969;}#sk-container-id-6 label.sk-toggleable__label-arrow:hover:before {color: black;}#sk-container-id-6 div.sk-estimator:hover label.sk-toggleable__label-arrow:before {color: black;}#sk-container-id-6 div.sk-toggleable__content {max-height: 0;max-width: 0;overflow: hidden;text-align: left;background-color: #f0f8ff;}#sk-container-id-6 div.sk-toggleable__content pre {margin: 0.2em;color: black;border-radius: 0.25em;background-color: #f0f8ff;}#sk-container-id-6 input.sk-toggleable__control:checked~div.sk-toggleable__content {max-height: 200px;max-width: 100%;overflow: auto;}#sk-container-id-6 input.sk-toggleable__control:checked~label.sk-toggleable__label-arrow:before {content: \"▾\";}#sk-container-id-6 div.sk-estimator input.sk-toggleable__control:checked~label.sk-toggleable__label {background-color: #d4ebff;}#sk-container-id-6 div.sk-label input.sk-toggleable__control:checked~label.sk-toggleable__label {background-color: #d4ebff;}#sk-container-id-6 input.sk-hidden--visually {border: 0;clip: rect(1px 1px 1px 1px);clip: rect(1px, 1px, 1px, 1px);height: 1px;margin: -1px;overflow: hidden;padding: 0;position: absolute;width: 1px;}#sk-container-id-6 div.sk-estimator {font-family: monospace;background-color: #f0f8ff;border: 1px dotted black;border-radius: 0.25em;box-sizing: border-box;margin-bottom: 0.5em;}#sk-container-id-6 div.sk-estimator:hover {background-color: #d4ebff;}#sk-container-id-6 div.sk-parallel-item::after {content: \"\";width: 100%;border-bottom: 1px solid gray;flex-grow: 1;}#sk-container-id-6 div.sk-label:hover label.sk-toggleable__label {background-color: #d4ebff;}#sk-container-id-6 div.sk-serial::before {content: \"\";position: absolute;border-left: 1px solid gray;box-sizing: border-box;top: 0;bottom: 0;left: 50%;z-index: 0;}#sk-container-id-6 div.sk-serial {display: flex;flex-direction: column;align-items: center;background-color: white;padding-right: 0.2em;padding-left: 0.2em;position: relative;}#sk-container-id-6 div.sk-item {position: relative;z-index: 1;}#sk-container-id-6 div.sk-parallel {display: flex;align-items: stretch;justify-content: center;background-color: white;position: relative;}#sk-container-id-6 div.sk-item::before, #sk-container-id-6 div.sk-parallel-item::before {content: \"\";position: absolute;border-left: 1px solid gray;box-sizing: border-box;top: 0;bottom: 0;left: 50%;z-index: -1;}#sk-container-id-6 div.sk-parallel-item {display: flex;flex-direction: column;z-index: 1;position: relative;background-color: white;}#sk-container-id-6 div.sk-parallel-item:first-child::after {align-self: flex-end;width: 50%;}#sk-container-id-6 div.sk-parallel-item:last-child::after {align-self: flex-start;width: 50%;}#sk-container-id-6 div.sk-parallel-item:only-child::after {width: 0;}#sk-container-id-6 div.sk-dashed-wrapped {border: 1px dashed gray;margin: 0 0.4em 0.5em 0.4em;box-sizing: border-box;padding-bottom: 0.4em;background-color: white;}#sk-container-id-6 div.sk-label label {font-family: monospace;font-weight: bold;display: inline-block;line-height: 1.2em;}#sk-container-id-6 div.sk-label-container {text-align: center;}#sk-container-id-6 div.sk-container {/* jupyter's `normalize.less` sets `[hidden] { display: none; }` but bootstrap.min.css set `[hidden] { display: none !important; }` so we also need the `!important` here to be able to override the default hidden behavior on the sphinx rendered scikit-learn.org. See: https://github.com/scikit-learn/scikit-learn/issues/21755 */display: inline-block !important;position: relative;}#sk-container-id-6 div.sk-text-repr-fallback {display: none;}</style><div id=\"sk-container-id-6\" class=\"sk-top-container\"><div class=\"sk-text-repr-fallback\"><pre>LogisticRegression(max_iter=700)</pre><b>In a Jupyter environment, please rerun this cell to show the HTML representation or trust the notebook. <br />On GitHub, the HTML representation is unable to render, please try loading this page with nbviewer.org.</b></div><div class=\"sk-container\" hidden><div class=\"sk-item\"><div class=\"sk-estimator sk-toggleable\"><input class=\"sk-toggleable__control sk-hidden--visually\" id=\"sk-estimator-id-6\" type=\"checkbox\" checked><label for=\"sk-estimator-id-6\" class=\"sk-toggleable__label sk-toggleable__label-arrow\">LogisticRegression</label><div class=\"sk-toggleable__content\"><pre>LogisticRegression(max_iter=700)</pre></div></div></div></div></div>"
      ],
      "text/plain": [
       "LogisticRegression(max_iter=700)"
      ]
     },
     "execution_count": 682,
     "metadata": {},
     "output_type": "execute_result"
    }
   ],
   "source": [
    "lg = LogisticRegression(max_iter = 700)\n",
    "lg.fit(x_train, y_train)"
   ]
  },
  {
   "cell_type": "code",
   "execution_count": 683,
   "id": "35e959c3-5f04-4002-9abf-c347538006a2",
   "metadata": {
    "tags": []
   },
   "outputs": [
    {
     "data": {
      "text/plain": [
       "0.6870041244136736"
      ]
     },
     "execution_count": 683,
     "metadata": {},
     "output_type": "execute_result"
    }
   ],
   "source": [
    "probs = lg.predict_proba(x_test)\n",
    "\n",
    "probs = probs[:, 1]\n",
    "\n",
    "roc_auc_score(y_test, probs)"
   ]
  },
  {
   "cell_type": "markdown",
   "id": "b5e0e9d9-5e88-4fa4-8985-9b98f8cc4e14",
   "metadata": {
    "jp-MarkdownHeadingCollapsed": true,
    "tags": []
   },
   "source": [
    "### Random Forrest"
   ]
  },
  {
   "cell_type": "code",
   "execution_count": 684,
   "id": "6db3a9f3-19bb-49fa-8864-dcb18f99c034",
   "metadata": {
    "tags": []
   },
   "outputs": [
    {
     "data": {
      "text/html": [
       "<style>#sk-container-id-7 {color: black;}#sk-container-id-7 pre{padding: 0;}#sk-container-id-7 div.sk-toggleable {background-color: white;}#sk-container-id-7 label.sk-toggleable__label {cursor: pointer;display: block;width: 100%;margin-bottom: 0;padding: 0.3em;box-sizing: border-box;text-align: center;}#sk-container-id-7 label.sk-toggleable__label-arrow:before {content: \"▸\";float: left;margin-right: 0.25em;color: #696969;}#sk-container-id-7 label.sk-toggleable__label-arrow:hover:before {color: black;}#sk-container-id-7 div.sk-estimator:hover label.sk-toggleable__label-arrow:before {color: black;}#sk-container-id-7 div.sk-toggleable__content {max-height: 0;max-width: 0;overflow: hidden;text-align: left;background-color: #f0f8ff;}#sk-container-id-7 div.sk-toggleable__content pre {margin: 0.2em;color: black;border-radius: 0.25em;background-color: #f0f8ff;}#sk-container-id-7 input.sk-toggleable__control:checked~div.sk-toggleable__content {max-height: 200px;max-width: 100%;overflow: auto;}#sk-container-id-7 input.sk-toggleable__control:checked~label.sk-toggleable__label-arrow:before {content: \"▾\";}#sk-container-id-7 div.sk-estimator input.sk-toggleable__control:checked~label.sk-toggleable__label {background-color: #d4ebff;}#sk-container-id-7 div.sk-label input.sk-toggleable__control:checked~label.sk-toggleable__label {background-color: #d4ebff;}#sk-container-id-7 input.sk-hidden--visually {border: 0;clip: rect(1px 1px 1px 1px);clip: rect(1px, 1px, 1px, 1px);height: 1px;margin: -1px;overflow: hidden;padding: 0;position: absolute;width: 1px;}#sk-container-id-7 div.sk-estimator {font-family: monospace;background-color: #f0f8ff;border: 1px dotted black;border-radius: 0.25em;box-sizing: border-box;margin-bottom: 0.5em;}#sk-container-id-7 div.sk-estimator:hover {background-color: #d4ebff;}#sk-container-id-7 div.sk-parallel-item::after {content: \"\";width: 100%;border-bottom: 1px solid gray;flex-grow: 1;}#sk-container-id-7 div.sk-label:hover label.sk-toggleable__label {background-color: #d4ebff;}#sk-container-id-7 div.sk-serial::before {content: \"\";position: absolute;border-left: 1px solid gray;box-sizing: border-box;top: 0;bottom: 0;left: 50%;z-index: 0;}#sk-container-id-7 div.sk-serial {display: flex;flex-direction: column;align-items: center;background-color: white;padding-right: 0.2em;padding-left: 0.2em;position: relative;}#sk-container-id-7 div.sk-item {position: relative;z-index: 1;}#sk-container-id-7 div.sk-parallel {display: flex;align-items: stretch;justify-content: center;background-color: white;position: relative;}#sk-container-id-7 div.sk-item::before, #sk-container-id-7 div.sk-parallel-item::before {content: \"\";position: absolute;border-left: 1px solid gray;box-sizing: border-box;top: 0;bottom: 0;left: 50%;z-index: -1;}#sk-container-id-7 div.sk-parallel-item {display: flex;flex-direction: column;z-index: 1;position: relative;background-color: white;}#sk-container-id-7 div.sk-parallel-item:first-child::after {align-self: flex-end;width: 50%;}#sk-container-id-7 div.sk-parallel-item:last-child::after {align-self: flex-start;width: 50%;}#sk-container-id-7 div.sk-parallel-item:only-child::after {width: 0;}#sk-container-id-7 div.sk-dashed-wrapped {border: 1px dashed gray;margin: 0 0.4em 0.5em 0.4em;box-sizing: border-box;padding-bottom: 0.4em;background-color: white;}#sk-container-id-7 div.sk-label label {font-family: monospace;font-weight: bold;display: inline-block;line-height: 1.2em;}#sk-container-id-7 div.sk-label-container {text-align: center;}#sk-container-id-7 div.sk-container {/* jupyter's `normalize.less` sets `[hidden] { display: none; }` but bootstrap.min.css set `[hidden] { display: none !important; }` so we also need the `!important` here to be able to override the default hidden behavior on the sphinx rendered scikit-learn.org. See: https://github.com/scikit-learn/scikit-learn/issues/21755 */display: inline-block !important;position: relative;}#sk-container-id-7 div.sk-text-repr-fallback {display: none;}</style><div id=\"sk-container-id-7\" class=\"sk-top-container\"><div class=\"sk-text-repr-fallback\"><pre>RandomForestClassifier(random_state=42)</pre><b>In a Jupyter environment, please rerun this cell to show the HTML representation or trust the notebook. <br />On GitHub, the HTML representation is unable to render, please try loading this page with nbviewer.org.</b></div><div class=\"sk-container\" hidden><div class=\"sk-item\"><div class=\"sk-estimator sk-toggleable\"><input class=\"sk-toggleable__control sk-hidden--visually\" id=\"sk-estimator-id-7\" type=\"checkbox\" checked><label for=\"sk-estimator-id-7\" class=\"sk-toggleable__label sk-toggleable__label-arrow\">RandomForestClassifier</label><div class=\"sk-toggleable__content\"><pre>RandomForestClassifier(random_state=42)</pre></div></div></div></div></div>"
      ],
      "text/plain": [
       "RandomForestClassifier(random_state=42)"
      ]
     },
     "execution_count": 684,
     "metadata": {},
     "output_type": "execute_result"
    }
   ],
   "source": [
    "rf = RandomForestClassifier(random_state = 42)\n",
    "rf.fit(x_train, y_train)"
   ]
  },
  {
   "cell_type": "code",
   "execution_count": 685,
   "id": "31ac59d2-0b23-467e-8be4-a1f2149a7aa4",
   "metadata": {
    "tags": []
   },
   "outputs": [
    {
     "data": {
      "text/plain": [
       "0.6810245527439736"
      ]
     },
     "execution_count": 685,
     "metadata": {},
     "output_type": "execute_result"
    }
   ],
   "source": [
    "rf_preds = rf.predict_proba(x_test)\n",
    "rf_preds = rf_preds[:, 1]\n",
    "\n",
    "roc_auc_score(y_test, rf_preds)"
   ]
  },
  {
   "cell_type": "markdown",
   "id": "e5eafb4f-61da-4d37-94bc-679e37e87a57",
   "metadata": {
    "jp-MarkdownHeadingCollapsed": true,
    "tags": []
   },
   "source": [
    "### MLPClassifier"
   ]
  },
  {
   "cell_type": "code",
   "execution_count": 686,
   "id": "837c5e3b-afa2-4a5f-a4d3-4b6ba0888873",
   "metadata": {
    "tags": []
   },
   "outputs": [
    {
     "data": {
      "text/html": [
       "<style>#sk-container-id-8 {color: black;}#sk-container-id-8 pre{padding: 0;}#sk-container-id-8 div.sk-toggleable {background-color: white;}#sk-container-id-8 label.sk-toggleable__label {cursor: pointer;display: block;width: 100%;margin-bottom: 0;padding: 0.3em;box-sizing: border-box;text-align: center;}#sk-container-id-8 label.sk-toggleable__label-arrow:before {content: \"▸\";float: left;margin-right: 0.25em;color: #696969;}#sk-container-id-8 label.sk-toggleable__label-arrow:hover:before {color: black;}#sk-container-id-8 div.sk-estimator:hover label.sk-toggleable__label-arrow:before {color: black;}#sk-container-id-8 div.sk-toggleable__content {max-height: 0;max-width: 0;overflow: hidden;text-align: left;background-color: #f0f8ff;}#sk-container-id-8 div.sk-toggleable__content pre {margin: 0.2em;color: black;border-radius: 0.25em;background-color: #f0f8ff;}#sk-container-id-8 input.sk-toggleable__control:checked~div.sk-toggleable__content {max-height: 200px;max-width: 100%;overflow: auto;}#sk-container-id-8 input.sk-toggleable__control:checked~label.sk-toggleable__label-arrow:before {content: \"▾\";}#sk-container-id-8 div.sk-estimator input.sk-toggleable__control:checked~label.sk-toggleable__label {background-color: #d4ebff;}#sk-container-id-8 div.sk-label input.sk-toggleable__control:checked~label.sk-toggleable__label {background-color: #d4ebff;}#sk-container-id-8 input.sk-hidden--visually {border: 0;clip: rect(1px 1px 1px 1px);clip: rect(1px, 1px, 1px, 1px);height: 1px;margin: -1px;overflow: hidden;padding: 0;position: absolute;width: 1px;}#sk-container-id-8 div.sk-estimator {font-family: monospace;background-color: #f0f8ff;border: 1px dotted black;border-radius: 0.25em;box-sizing: border-box;margin-bottom: 0.5em;}#sk-container-id-8 div.sk-estimator:hover {background-color: #d4ebff;}#sk-container-id-8 div.sk-parallel-item::after {content: \"\";width: 100%;border-bottom: 1px solid gray;flex-grow: 1;}#sk-container-id-8 div.sk-label:hover label.sk-toggleable__label {background-color: #d4ebff;}#sk-container-id-8 div.sk-serial::before {content: \"\";position: absolute;border-left: 1px solid gray;box-sizing: border-box;top: 0;bottom: 0;left: 50%;z-index: 0;}#sk-container-id-8 div.sk-serial {display: flex;flex-direction: column;align-items: center;background-color: white;padding-right: 0.2em;padding-left: 0.2em;position: relative;}#sk-container-id-8 div.sk-item {position: relative;z-index: 1;}#sk-container-id-8 div.sk-parallel {display: flex;align-items: stretch;justify-content: center;background-color: white;position: relative;}#sk-container-id-8 div.sk-item::before, #sk-container-id-8 div.sk-parallel-item::before {content: \"\";position: absolute;border-left: 1px solid gray;box-sizing: border-box;top: 0;bottom: 0;left: 50%;z-index: -1;}#sk-container-id-8 div.sk-parallel-item {display: flex;flex-direction: column;z-index: 1;position: relative;background-color: white;}#sk-container-id-8 div.sk-parallel-item:first-child::after {align-self: flex-end;width: 50%;}#sk-container-id-8 div.sk-parallel-item:last-child::after {align-self: flex-start;width: 50%;}#sk-container-id-8 div.sk-parallel-item:only-child::after {width: 0;}#sk-container-id-8 div.sk-dashed-wrapped {border: 1px dashed gray;margin: 0 0.4em 0.5em 0.4em;box-sizing: border-box;padding-bottom: 0.4em;background-color: white;}#sk-container-id-8 div.sk-label label {font-family: monospace;font-weight: bold;display: inline-block;line-height: 1.2em;}#sk-container-id-8 div.sk-label-container {text-align: center;}#sk-container-id-8 div.sk-container {/* jupyter's `normalize.less` sets `[hidden] { display: none; }` but bootstrap.min.css set `[hidden] { display: none !important; }` so we also need the `!important` here to be able to override the default hidden behavior on the sphinx rendered scikit-learn.org. See: https://github.com/scikit-learn/scikit-learn/issues/21755 */display: inline-block !important;position: relative;}#sk-container-id-8 div.sk-text-repr-fallback {display: none;}</style><div id=\"sk-container-id-8\" class=\"sk-top-container\"><div class=\"sk-text-repr-fallback\"><pre>MLPClassifier(max_iter=500, random_state=42)</pre><b>In a Jupyter environment, please rerun this cell to show the HTML representation or trust the notebook. <br />On GitHub, the HTML representation is unable to render, please try loading this page with nbviewer.org.</b></div><div class=\"sk-container\" hidden><div class=\"sk-item\"><div class=\"sk-estimator sk-toggleable\"><input class=\"sk-toggleable__control sk-hidden--visually\" id=\"sk-estimator-id-8\" type=\"checkbox\" checked><label for=\"sk-estimator-id-8\" class=\"sk-toggleable__label sk-toggleable__label-arrow\">MLPClassifier</label><div class=\"sk-toggleable__content\"><pre>MLPClassifier(max_iter=500, random_state=42)</pre></div></div></div></div></div>"
      ],
      "text/plain": [
       "MLPClassifier(max_iter=500, random_state=42)"
      ]
     },
     "execution_count": 686,
     "metadata": {},
     "output_type": "execute_result"
    }
   ],
   "source": [
    "mlp = MLPClassifier(random_state=42, max_iter=500)\n",
    "mlp.fit(x_train, y_train)"
   ]
  },
  {
   "cell_type": "code",
   "execution_count": 687,
   "id": "a64d8720-84ff-4fc5-af0d-e0e40623cd2f",
   "metadata": {
    "tags": []
   },
   "outputs": [
    {
     "data": {
      "text/plain": [
       "0.7514875574189237"
      ]
     },
     "execution_count": 687,
     "metadata": {},
     "output_type": "execute_result"
    }
   ],
   "source": [
    "mlp_preds = mlp.predict_proba(x_test)\n",
    "mlp_preds = mlp_preds[:, 1]\n",
    "\n",
    "roc_auc_score(y_test, mlp_preds)"
   ]
  },
  {
   "cell_type": "markdown",
   "id": "29faac90-b66f-4467-9a9b-8d4ecd6ea390",
   "metadata": {
    "jp-MarkdownHeadingCollapsed": true,
    "tags": []
   },
   "source": [
    "## Result"
   ]
  },
  {
   "cell_type": "code",
   "execution_count": 688,
   "id": "6ced5fc7-767b-405f-be1e-d0af69b15c7d",
   "metadata": {
    "tags": []
   },
   "outputs": [],
   "source": [
    "# лучший результат показывает модель MLPClassifier"
   ]
  },
  {
   "cell_type": "code",
   "execution_count": 689,
   "id": "7c8553a4-b18e-439c-a55e-13a7e3fdad6e",
   "metadata": {
    "tags": []
   },
   "outputs": [
    {
     "data": {
      "text/html": [
       "<style>#sk-container-id-9 {color: black;}#sk-container-id-9 pre{padding: 0;}#sk-container-id-9 div.sk-toggleable {background-color: white;}#sk-container-id-9 label.sk-toggleable__label {cursor: pointer;display: block;width: 100%;margin-bottom: 0;padding: 0.3em;box-sizing: border-box;text-align: center;}#sk-container-id-9 label.sk-toggleable__label-arrow:before {content: \"▸\";float: left;margin-right: 0.25em;color: #696969;}#sk-container-id-9 label.sk-toggleable__label-arrow:hover:before {color: black;}#sk-container-id-9 div.sk-estimator:hover label.sk-toggleable__label-arrow:before {color: black;}#sk-container-id-9 div.sk-toggleable__content {max-height: 0;max-width: 0;overflow: hidden;text-align: left;background-color: #f0f8ff;}#sk-container-id-9 div.sk-toggleable__content pre {margin: 0.2em;color: black;border-radius: 0.25em;background-color: #f0f8ff;}#sk-container-id-9 input.sk-toggleable__control:checked~div.sk-toggleable__content {max-height: 200px;max-width: 100%;overflow: auto;}#sk-container-id-9 input.sk-toggleable__control:checked~label.sk-toggleable__label-arrow:before {content: \"▾\";}#sk-container-id-9 div.sk-estimator input.sk-toggleable__control:checked~label.sk-toggleable__label {background-color: #d4ebff;}#sk-container-id-9 div.sk-label input.sk-toggleable__control:checked~label.sk-toggleable__label {background-color: #d4ebff;}#sk-container-id-9 input.sk-hidden--visually {border: 0;clip: rect(1px 1px 1px 1px);clip: rect(1px, 1px, 1px, 1px);height: 1px;margin: -1px;overflow: hidden;padding: 0;position: absolute;width: 1px;}#sk-container-id-9 div.sk-estimator {font-family: monospace;background-color: #f0f8ff;border: 1px dotted black;border-radius: 0.25em;box-sizing: border-box;margin-bottom: 0.5em;}#sk-container-id-9 div.sk-estimator:hover {background-color: #d4ebff;}#sk-container-id-9 div.sk-parallel-item::after {content: \"\";width: 100%;border-bottom: 1px solid gray;flex-grow: 1;}#sk-container-id-9 div.sk-label:hover label.sk-toggleable__label {background-color: #d4ebff;}#sk-container-id-9 div.sk-serial::before {content: \"\";position: absolute;border-left: 1px solid gray;box-sizing: border-box;top: 0;bottom: 0;left: 50%;z-index: 0;}#sk-container-id-9 div.sk-serial {display: flex;flex-direction: column;align-items: center;background-color: white;padding-right: 0.2em;padding-left: 0.2em;position: relative;}#sk-container-id-9 div.sk-item {position: relative;z-index: 1;}#sk-container-id-9 div.sk-parallel {display: flex;align-items: stretch;justify-content: center;background-color: white;position: relative;}#sk-container-id-9 div.sk-item::before, #sk-container-id-9 div.sk-parallel-item::before {content: \"\";position: absolute;border-left: 1px solid gray;box-sizing: border-box;top: 0;bottom: 0;left: 50%;z-index: -1;}#sk-container-id-9 div.sk-parallel-item {display: flex;flex-direction: column;z-index: 1;position: relative;background-color: white;}#sk-container-id-9 div.sk-parallel-item:first-child::after {align-self: flex-end;width: 50%;}#sk-container-id-9 div.sk-parallel-item:last-child::after {align-self: flex-start;width: 50%;}#sk-container-id-9 div.sk-parallel-item:only-child::after {width: 0;}#sk-container-id-9 div.sk-dashed-wrapped {border: 1px dashed gray;margin: 0 0.4em 0.5em 0.4em;box-sizing: border-box;padding-bottom: 0.4em;background-color: white;}#sk-container-id-9 div.sk-label label {font-family: monospace;font-weight: bold;display: inline-block;line-height: 1.2em;}#sk-container-id-9 div.sk-label-container {text-align: center;}#sk-container-id-9 div.sk-container {/* jupyter's `normalize.less` sets `[hidden] { display: none; }` but bootstrap.min.css set `[hidden] { display: none !important; }` so we also need the `!important` here to be able to override the default hidden behavior on the sphinx rendered scikit-learn.org. See: https://github.com/scikit-learn/scikit-learn/issues/21755 */display: inline-block !important;position: relative;}#sk-container-id-9 div.sk-text-repr-fallback {display: none;}</style><div id=\"sk-container-id-9\" class=\"sk-top-container\"><div class=\"sk-text-repr-fallback\"><pre>MLPClassifier(max_iter=500, random_state=42)</pre><b>In a Jupyter environment, please rerun this cell to show the HTML representation or trust the notebook. <br />On GitHub, the HTML representation is unable to render, please try loading this page with nbviewer.org.</b></div><div class=\"sk-container\" hidden><div class=\"sk-item\"><div class=\"sk-estimator sk-toggleable\"><input class=\"sk-toggleable__control sk-hidden--visually\" id=\"sk-estimator-id-9\" type=\"checkbox\" checked><label for=\"sk-estimator-id-9\" class=\"sk-toggleable__label sk-toggleable__label-arrow\">MLPClassifier</label><div class=\"sk-toggleable__content\"><pre>MLPClassifier(max_iter=500, random_state=42)</pre></div></div></div></div></div>"
      ],
      "text/plain": [
       "MLPClassifier(max_iter=500, random_state=42)"
      ]
     },
     "execution_count": 689,
     "metadata": {},
     "output_type": "execute_result"
    }
   ],
   "source": [
    "# обучим ее на всей выборке\n",
    "mlp.fit(X, y)"
   ]
  },
  {
   "cell_type": "code",
   "execution_count": 691,
   "id": "46f2fd6c-61c1-4a08-80c0-f69da6a6b20c",
   "metadata": {
    "tags": []
   },
   "outputs": [],
   "source": [
    "filename = 'sber_podpiska_predict_model.pkl'\n",
    "\n",
    "with open(filename, 'wb') as file:\n",
    "    pickle.dump(mlp, file) # сериализуем модель"
   ]
  },
  {
   "cell_type": "code",
   "execution_count": 692,
   "id": "5ee51ce3-4fea-4883-a680-55fed792daee",
   "metadata": {
    "tags": []
   },
   "outputs": [],
   "source": [
    "# проверка, что файл записался корректно - прочитаем его и сделаем предсказание на рандомной строке \n",
    "with open(filename, 'rb') as file:\n",
    "    model_from_pickle = pickle.load(file)"
   ]
  },
  {
   "cell_type": "code",
   "execution_count": 693,
   "id": "af062f86-243b-4a78-b589-cd9d50181592",
   "metadata": {
    "tags": []
   },
   "outputs": [
    {
     "data": {
      "text/html": [
       "<style>#sk-container-id-10 {color: black;}#sk-container-id-10 pre{padding: 0;}#sk-container-id-10 div.sk-toggleable {background-color: white;}#sk-container-id-10 label.sk-toggleable__label {cursor: pointer;display: block;width: 100%;margin-bottom: 0;padding: 0.3em;box-sizing: border-box;text-align: center;}#sk-container-id-10 label.sk-toggleable__label-arrow:before {content: \"▸\";float: left;margin-right: 0.25em;color: #696969;}#sk-container-id-10 label.sk-toggleable__label-arrow:hover:before {color: black;}#sk-container-id-10 div.sk-estimator:hover label.sk-toggleable__label-arrow:before {color: black;}#sk-container-id-10 div.sk-toggleable__content {max-height: 0;max-width: 0;overflow: hidden;text-align: left;background-color: #f0f8ff;}#sk-container-id-10 div.sk-toggleable__content pre {margin: 0.2em;color: black;border-radius: 0.25em;background-color: #f0f8ff;}#sk-container-id-10 input.sk-toggleable__control:checked~div.sk-toggleable__content {max-height: 200px;max-width: 100%;overflow: auto;}#sk-container-id-10 input.sk-toggleable__control:checked~label.sk-toggleable__label-arrow:before {content: \"▾\";}#sk-container-id-10 div.sk-estimator input.sk-toggleable__control:checked~label.sk-toggleable__label {background-color: #d4ebff;}#sk-container-id-10 div.sk-label input.sk-toggleable__control:checked~label.sk-toggleable__label {background-color: #d4ebff;}#sk-container-id-10 input.sk-hidden--visually {border: 0;clip: rect(1px 1px 1px 1px);clip: rect(1px, 1px, 1px, 1px);height: 1px;margin: -1px;overflow: hidden;padding: 0;position: absolute;width: 1px;}#sk-container-id-10 div.sk-estimator {font-family: monospace;background-color: #f0f8ff;border: 1px dotted black;border-radius: 0.25em;box-sizing: border-box;margin-bottom: 0.5em;}#sk-container-id-10 div.sk-estimator:hover {background-color: #d4ebff;}#sk-container-id-10 div.sk-parallel-item::after {content: \"\";width: 100%;border-bottom: 1px solid gray;flex-grow: 1;}#sk-container-id-10 div.sk-label:hover label.sk-toggleable__label {background-color: #d4ebff;}#sk-container-id-10 div.sk-serial::before {content: \"\";position: absolute;border-left: 1px solid gray;box-sizing: border-box;top: 0;bottom: 0;left: 50%;z-index: 0;}#sk-container-id-10 div.sk-serial {display: flex;flex-direction: column;align-items: center;background-color: white;padding-right: 0.2em;padding-left: 0.2em;position: relative;}#sk-container-id-10 div.sk-item {position: relative;z-index: 1;}#sk-container-id-10 div.sk-parallel {display: flex;align-items: stretch;justify-content: center;background-color: white;position: relative;}#sk-container-id-10 div.sk-item::before, #sk-container-id-10 div.sk-parallel-item::before {content: \"\";position: absolute;border-left: 1px solid gray;box-sizing: border-box;top: 0;bottom: 0;left: 50%;z-index: -1;}#sk-container-id-10 div.sk-parallel-item {display: flex;flex-direction: column;z-index: 1;position: relative;background-color: white;}#sk-container-id-10 div.sk-parallel-item:first-child::after {align-self: flex-end;width: 50%;}#sk-container-id-10 div.sk-parallel-item:last-child::after {align-self: flex-start;width: 50%;}#sk-container-id-10 div.sk-parallel-item:only-child::after {width: 0;}#sk-container-id-10 div.sk-dashed-wrapped {border: 1px dashed gray;margin: 0 0.4em 0.5em 0.4em;box-sizing: border-box;padding-bottom: 0.4em;background-color: white;}#sk-container-id-10 div.sk-label label {font-family: monospace;font-weight: bold;display: inline-block;line-height: 1.2em;}#sk-container-id-10 div.sk-label-container {text-align: center;}#sk-container-id-10 div.sk-container {/* jupyter's `normalize.less` sets `[hidden] { display: none; }` but bootstrap.min.css set `[hidden] { display: none !important; }` so we also need the `!important` here to be able to override the default hidden behavior on the sphinx rendered scikit-learn.org. See: https://github.com/scikit-learn/scikit-learn/issues/21755 */display: inline-block !important;position: relative;}#sk-container-id-10 div.sk-text-repr-fallback {display: none;}</style><div id=\"sk-container-id-10\" class=\"sk-top-container\"><div class=\"sk-text-repr-fallback\"><pre>MLPClassifier(max_iter=500, random_state=42)</pre><b>In a Jupyter environment, please rerun this cell to show the HTML representation or trust the notebook. <br />On GitHub, the HTML representation is unable to render, please try loading this page with nbviewer.org.</b></div><div class=\"sk-container\" hidden><div class=\"sk-item\"><div class=\"sk-estimator sk-toggleable\"><input class=\"sk-toggleable__control sk-hidden--visually\" id=\"sk-estimator-id-10\" type=\"checkbox\" checked><label for=\"sk-estimator-id-10\" class=\"sk-toggleable__label sk-toggleable__label-arrow\">MLPClassifier</label><div class=\"sk-toggleable__content\"><pre>MLPClassifier(max_iter=500, random_state=42)</pre></div></div></div></div></div>"
      ],
      "text/plain": [
       "MLPClassifier(max_iter=500, random_state=42)"
      ]
     },
     "execution_count": 693,
     "metadata": {},
     "output_type": "execute_result"
    }
   ],
   "source": [
    "model_from_pickle # десериализовалась верная модель"
   ]
  },
  {
   "cell_type": "code",
   "execution_count": 696,
   "id": "216ba704-b4cf-4387-9a36-f5266bbbe770",
   "metadata": {
    "tags": []
   },
   "outputs": [
    {
     "data": {
      "text/plain": [
       "0"
      ]
     },
     "execution_count": 696,
     "metadata": {},
     "output_type": "execute_result"
    }
   ],
   "source": [
    "# предсказание на 1 строке датасета\n",
    "\n",
    "row = df.sample(1)\n",
    "\n",
    "\n",
    "row_x = row.drop(['event_value'], axis = 1)\n",
    "row_y = row.event_value\n",
    "\n",
    "model_from_pickle.predict(row_x)[0]\n"
   ]
  },
  {
   "cell_type": "code",
   "execution_count": 698,
   "id": "e5152148-8986-40c6-a43e-9e96415aea70",
   "metadata": {
    "tags": []
   },
   "outputs": [
    {
     "data": {
      "text/plain": [
       "280837    0\n",
       "Name: event_value, dtype: int64"
      ]
     },
     "execution_count": 698,
     "metadata": {},
     "output_type": "execute_result"
    }
   ],
   "source": [
    "row_y #сравниваем с реальным значением"
   ]
  },
  {
   "cell_type": "code",
   "execution_count": null,
   "id": "edc7a120-bc4f-46e4-bdf4-64a54a05e33d",
   "metadata": {},
   "outputs": [],
   "source": []
  }
 ],
 "metadata": {
  "kernelspec": {
   "display_name": "Python 3 (ipykernel)",
   "language": "python",
   "name": "python3"
  },
  "language_info": {
   "codemirror_mode": {
    "name": "ipython",
    "version": 3
   },
   "file_extension": ".py",
   "mimetype": "text/x-python",
   "name": "python",
   "nbconvert_exporter": "python",
   "pygments_lexer": "ipython3",
   "version": "3.12.2"
  }
 },
 "nbformat": 4,
 "nbformat_minor": 5
}
